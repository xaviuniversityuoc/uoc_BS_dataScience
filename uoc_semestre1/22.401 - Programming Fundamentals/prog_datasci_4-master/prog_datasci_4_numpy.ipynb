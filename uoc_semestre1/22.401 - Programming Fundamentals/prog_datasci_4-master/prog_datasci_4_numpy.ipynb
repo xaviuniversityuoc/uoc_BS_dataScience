{
 "cells": [
  {
   "cell_type": "markdown",
   "metadata": {},
   "source": [
    "<div style=\"width: 100%; clear: both;\">\n",
    "    <div style=\"float: left; width: 50%;\">\n",
    "       <img src=\"http://www.uoc.edu/portal/_resources/common/imatges/marca_UOC/UOC_Masterbrand.jpg\", align=\"left\">\n",
    "    </div>\n",
    "</div>\n",
    "\n",
    "<div style=\"float: right; width: 50%;\">\n",
    "    <p style=\"margin: 0; padding-top: 22px; text-align:right;\">22.501 · Fundamentos de Programación</p>\n",
    "    <p style=\"margin: 0; text-align:right;\">Grado en Ciencia de Datos Aplicada</p>\n",
    "    <p style=\"margin: 0; text-align:right; padding-button: 100px;\">Estudios de Informática, Multimedia y Telecomunicación</p>\n",
    "</div>\n",
    "\n",
    "</div>\n",
    "<div style=\"width: 100%; clear: both;\">\n",
    "<div style=\"width:100%;\">&nbsp;</div>"
   ]
  },
  {
   "cell_type": "markdown",
   "metadata": {},
   "source": [
    "Fundamentos de Programación\n",
    "============================\n",
    "\n",
    "--- \n",
    "\n",
    "Unidad 4: Librerías científicas en Python - NumPy\n",
    "-----------------------------------------------------\n",
    "\n",
    "---"
   ]
  },
  {
   "cell_type": "markdown",
   "metadata": {},
   "source": [
    "### Instrucciones de uso\n",
    "\n",
    "Este documento es un *notebook* interactivo que intercala explicaciones más bien teóricas de conceptos de programación con fragmentos de código ejecutables. Para aprovechar las ventajas que aporta este formato, se recomienda, en primer lugar, leer las explicaciones y el código que os proporcionamos. De esta manera tendréis un primer contacto con los conceptos que exponemos. Ahora bien, **¡la lectura es sólo el principio!** Una vez hayáis leído el contenido, no olvidéis ejecutar el código proporcionado y modificarlo para crear variantes que os permitan comprobar que habéis entendido su funcionalidad y explorar los detalles de implementación. Por último, se recomienda también consultar la documentación enlazada para explorar con más profundidad las funcionalidades de los módulos presentados.\n",
    "\n",
    "### Introducción\n",
    "\n",
    "A continuación se presentarán explicaciones y ejemplos de uso de la\n",
    "librería NumPy. Recordad que podéis ir ejecutando los ejemplos para\n",
    "obtener los resultados.\n",
    "\n",
    "A continuación se incluye la tabla de contenidos, que podéis utilizar para navegar por el documento:\n",
    "\n",
    "<ul style=\"list-style-type:none\">\n",
    "    <li><a href='#1.-Introducción'>1. Introducción</a></li>\n",
    "    <li><a href=\"#2.-Primeros-pasos\">2. Primeros pasos</a></li>\n",
    "    <li><a href=\"#3.-Operaciones-con-matrices\">3. Operaciones con matrices</a></li>\n",
    "    <li><a href=\"#4.-Slicing-e-iteración\">4. Slicing e iteración</a></li>\n",
    "    <li><a href=\"#5.-Ejemplo:-El-juego-de-la-vida-de-Conway\">5. Ejemplo: el juego de la vida de Conway</a></li>\n",
    "    <li> <a href=\"#6.-Ejercicios-y-preguntas-teóricas\"> 6. Ejercicios y preguntas teóricas </a> </li>\n",
    "    <ul style = \"list-style-type: none\">\n",
    "        <li> <a href=\"#6.1.-Instrucciones-importantes\"> 6.1 Instrucciones importantes </a> </li>\n",
    "        <li> <a href=\"#6.2-Solución\"> 6.2 Solución </a> </li>\n",
    "    </ul>\n",
    "    <li> <a href=\"#7.-Bibliografía\"> 7. Bibliografía </a> </li>\n",
    "</ul>"
   ]
  },
  {
   "cell_type": "markdown",
   "metadata": {},
   "source": [
    "# 1. Introducción\n",
    "\n",
    "[NumPy](http://www.numpy.org/) nació con el nombre de [Numeric](https://wiki.python.org/moin/NumPy?action=show&redirect=Numeric) y, poco a poco, fue centralizando muchos otros desarrollos de otros autores (como [NumArray](https://wiki.python.org/moin/NumArray)) para acabar siendo la librería que hoy día conocemos como NumPy. En la actualidad NumPy está integrada en la [SciPy stack](http://www.scipy.org/install.html) aunque continúa siendo un paquete independiente de SciPy (más tarde hablaremos de este paquete).\n",
    "\n",
    "NumPy es una librería de cálculo matricial en origen, aunque hoy en día implementa muchas otras funcionalidades interesantes como son herramientas para integrar código C/C++ y Fortran, funciones de álgebra lineal, transformaciones de Fourier, etc."
   ]
  },
  {
   "cell_type": "markdown",
   "metadata": {},
   "source": [
    "# 2. Primeros pasos\n",
    "Vamos a importar la librería:"
   ]
  },
  {
   "cell_type": "code",
   "execution_count": 3,
   "metadata": {},
   "outputs": [],
   "source": [
    "# En la siguiente línea, importamos NumPy y le damos un nombre más corto \n",
    "# para que nos sea más cómodo hacer las llamadas.\n",
    "import numpy as np"
   ]
  },
  {
   "cell_type": "markdown",
   "metadata": {},
   "source": [
    "En NumPy, el objeto básico se trata de una lista multidimensional de números (normalmente) del mismo tipo."
   ]
  },
  {
   "cell_type": "code",
   "execution_count": 2,
   "metadata": {},
   "outputs": [],
   "source": [
    "# Ejemplo básico, un punto en el espacio:\n",
    "p = np.array([1, 2, 3])"
   ]
  },
  {
   "cell_type": "markdown",
   "metadata": {},
   "source": [
    "En NumPy, a las dimensiones se les conoce con el nombre de ejes (*axes*) y al número de ejes, rango (*rank*). *array* es un alias para referirse al tipo de objeto *numpy.ndarray*.\n",
    "\n",
    "Algunas propiedades importantes de los _arrays_ son las siguientes:\n",
    "* **ndarray.ndim**: el número de ejes del objeto _array_ (matriz)\n",
    "* **ndarray.shape**: una tupla de números enteros indicando la longitud de las dimensiones de la matriz\n",
    "* **ndarray.size**: el número total de elementos de la matriz"
   ]
  },
  {
   "cell_type": "code",
   "execution_count": 3,
   "metadata": {},
   "outputs": [
    {
     "name": "stdout",
     "output_type": "stream",
     "text": [
      "Array unidimensional:\n",
      "[0 1 2 3 4 5]\n",
      "Matriz 3x2:\n",
      "[[0 1]\n",
      " [2 3]\n",
      " [4 5]]\n"
     ]
    }
   ],
   "source": [
    "# Vamos a crear una matriz bidimensional 3x2 (tres filas, dos columnas).\n",
    "a = np.arange(3*2) # Creamos un array unidimensional de 6 elementos.\n",
    "print('Array unidimensional:')\n",
    "print(a)\n",
    "a = a.reshape(3,2) # Le damos \"forma\" de matriz 3x2.\n",
    "print('Matriz 3x2:')\n",
    "print(a)"
   ]
  },
  {
   "cell_type": "code",
   "execution_count": 4,
   "metadata": {},
   "outputs": [
    {
     "data": {
      "text/plain": [
       "2"
      ]
     },
     "execution_count": 4,
     "metadata": {},
     "output_type": "execute_result"
    }
   ],
   "source": [
    "# La dimensión es 2.\n",
    "a.ndim"
   ]
  },
  {
   "cell_type": "code",
   "execution_count": 5,
   "metadata": {},
   "outputs": [
    {
     "data": {
      "text/plain": [
       "(3, 2)"
      ]
     },
     "execution_count": 5,
     "metadata": {},
     "output_type": "execute_result"
    }
   ],
   "source": [
    "# Longitud de las dimensiones\n",
    "a.shape"
   ]
  },
  {
   "cell_type": "code",
   "execution_count": 6,
   "metadata": {},
   "outputs": [
    {
     "data": {
      "text/plain": [
       "6"
      ]
     },
     "execution_count": 6,
     "metadata": {},
     "output_type": "execute_result"
    }
   ],
   "source": [
    "# El número total de elementos\n",
    "a.size"
   ]
  },
  {
   "cell_type": "markdown",
   "metadata": {},
   "source": [
    "A la hora de crear arrays, tenemos diferentes opciones:"
   ]
  },
  {
   "cell_type": "code",
   "execution_count": 7,
   "metadata": {},
   "outputs": [
    {
     "name": "stdout",
     "output_type": "stream",
     "text": [
      "[0. 0. 0. 0. 0. 0. 0. 0. 0. 0.]\n"
     ]
    }
   ],
   "source": [
    "# Creamos un array (vector) de diez elementos:\n",
    "z = np.zeros(10)\n",
    "print(z)"
   ]
  },
  {
   "cell_type": "code",
   "execution_count": 8,
   "metadata": {},
   "outputs": [
    {
     "name": "stdout",
     "output_type": "stream",
     "text": [
      "[0.  0.  0.  0.  5.  0.  0.  0.  0.  0.1]\n"
     ]
    }
   ],
   "source": [
    "# Podemos cambiar cualquiera de los valores de este vector accediendo a su posición:\n",
    "z[4] = 5.0\n",
    "z[-1] = 0.1\n",
    "print(z)"
   ]
  },
  {
   "cell_type": "code",
   "execution_count": 9,
   "metadata": {},
   "outputs": [
    {
     "name": "stdout",
     "output_type": "stream",
     "text": [
      "[10 11 12 13 14 15 16 17 18 19]\n"
     ]
    }
   ],
   "source": [
    "# La función arange nos permite definir diferentes opciones, como el punto de inicio y el de fin:\n",
    "a = np.arange(10,20)\n",
    "print(a)"
   ]
  },
  {
   "cell_type": "code",
   "execution_count": 10,
   "metadata": {},
   "outputs": [
    {
     "name": "stdout",
     "output_type": "stream",
     "text": [
      "[10 12 14 16 18]\n"
     ]
    }
   ],
   "source": [
    "# El último argumento nos permite utilizar un paso de 2:\n",
    "a = np.arange(10,20,2)\n",
    "print(a)"
   ]
  },
  {
   "cell_type": "code",
   "execution_count": 11,
   "metadata": {},
   "outputs": [
    {
     "name": "stdout",
     "output_type": "stream",
     "text": [
      "[[1 2 3]\n",
      " [4 5 6]]\n"
     ]
    }
   ],
   "source": [
    "# Podemos crear arrays desde listas de Python de varias dimensiones:\n",
    "a = np.array([[1, 2, 3], [4, 5, 6]])\n",
    "print(a)"
   ]
  },
  {
   "cell_type": "markdown",
   "metadata": {},
   "source": [
    "# 3. Operaciones con matrices\n",
    "NumPy implementa todas las operaciones habituales con matrices."
   ]
  },
  {
   "cell_type": "code",
   "execution_count": 12,
   "metadata": {},
   "outputs": [],
   "source": [
    "A = np.array([[1,0], [0,1]])\n",
    "B = np.array([[1,2], [3,4]])"
   ]
  },
  {
   "cell_type": "code",
   "execution_count": 13,
   "metadata": {},
   "outputs": [
    {
     "name": "stdout",
     "output_type": "stream",
     "text": [
      "[[2 2]\n",
      " [3 5]]\n"
     ]
    }
   ],
   "source": [
    "# Suma de matrices\n",
    "print(A+B)"
   ]
  },
  {
   "cell_type": "code",
   "execution_count": 14,
   "metadata": {},
   "outputs": [
    {
     "name": "stdout",
     "output_type": "stream",
     "text": [
      "[[ 0 -2]\n",
      " [-3 -3]]\n"
     ]
    }
   ],
   "source": [
    "# Resta de matrices\n",
    "print(A-B)"
   ]
  },
  {
   "cell_type": "code",
   "execution_count": 15,
   "metadata": {},
   "outputs": [
    {
     "name": "stdout",
     "output_type": "stream",
     "text": [
      "[[1 0]\n",
      " [0 4]]\n"
     ]
    }
   ],
   "source": [
    "# Multiplicación elemento por elemento\n",
    "print(A*B)"
   ]
  },
  {
   "cell_type": "code",
   "execution_count": 16,
   "metadata": {},
   "outputs": [
    {
     "name": "stdout",
     "output_type": "stream",
     "text": [
      "[[1 2]\n",
      " [3 4]]\n"
     ]
    }
   ],
   "source": [
    "# Multiplicación de matrices\n",
    "print(A.dot(B))"
   ]
  },
  {
   "cell_type": "code",
   "execution_count": 17,
   "metadata": {},
   "outputs": [
    {
     "name": "stdout",
     "output_type": "stream",
     "text": [
      "[[ 1  4]\n",
      " [ 9 16]]\n"
     ]
    }
   ],
   "source": [
    "# Potencia\n",
    "print(B**2)"
   ]
  },
  {
   "cell_type": "markdown",
   "metadata": {},
   "source": [
    "# 4. *Slicing* e iteración\n",
    "Los _arrays_ en NumPy soportan la técnica de *slicing* de Python. Podemos usar esta técnica para recuperar valores de un array:\n"
   ]
  },
  {
   "cell_type": "code",
   "execution_count": 18,
   "metadata": {},
   "outputs": [
    {
     "name": "stdout",
     "output_type": "stream",
     "text": [
      "[0 1 2 3 4 5 6 7 8 9]\n",
      "[2 3 4]\n"
     ]
    }
   ],
   "source": [
    "# Definimos un array de 0 a 9.\n",
    "a = np.arange(10)\n",
    "print(a)\n",
    "\n",
    "# Obtenemos los 5-2 elementos desde la posición 3 del array (los índices empiezan en 0).\n",
    "print(a[2:5])"
   ]
  },
  {
   "cell_type": "code",
   "execution_count": 19,
   "metadata": {},
   "outputs": [
    {
     "data": {
      "text/plain": [
       "array([2, 3, 4, 5, 6, 7, 8, 9])"
      ]
     },
     "execution_count": 19,
     "metadata": {},
     "output_type": "execute_result"
    }
   ],
   "source": [
    "# Todos los elementos a partir de la tercera posición\n",
    "a[2:]"
   ]
  },
  {
   "cell_type": "code",
   "execution_count": 20,
   "metadata": {},
   "outputs": [
    {
     "name": "stdout",
     "output_type": "stream",
     "text": [
      "0\n",
      "1\n",
      "2\n",
      "3\n",
      "4\n",
      "5\n",
      "6\n",
      "7\n",
      "8\n",
      "9\n"
     ]
    }
   ],
   "source": [
    "# Podemos iterar por cada elemento del array:\n",
    "for i in a:\n",
    "    print(i)"
   ]
  },
  {
   "cell_type": "code",
   "execution_count": 4,
   "metadata": {},
   "outputs": [
    {
     "name": "stdout",
     "output_type": "stream",
     "text": [
      "[[ 0  1  2]\n",
      " [ 3  4  5]\n",
      " [ 6  7  8]\n",
      " [ 9 10 11]\n",
      " [12 13 14]\n",
      " [15 16 17]]\n"
     ]
    }
   ],
   "source": [
    "# Definamos ahora un array multidimensional.\n",
    "A = np.arange(18).reshape(6,3)\n",
    "print(A)"
   ]
  },
  {
   "cell_type": "code",
   "execution_count": 22,
   "metadata": {},
   "outputs": [
    {
     "name": "stdout",
     "output_type": "stream",
     "text": [
      "11\n",
      "11\n"
     ]
    }
   ],
   "source": [
    "# Accedemos a una posición concreta del array multidimensional\n",
    "\n",
    "# Primera alternativa:\n",
    "print(A[3][2])\n",
    "# Segunda alternativa\n",
    "print(A[3, 2])"
   ]
  },
  {
   "cell_type": "code",
   "execution_count": 23,
   "metadata": {},
   "outputs": [
    {
     "name": "stdout",
     "output_type": "stream",
     "text": [
      "[6 7 8]\n"
     ]
    }
   ],
   "source": [
    "# Accedim a una fila completa (en este caso, la fila 2)\n",
    "print(A[2])"
   ]
  },
  {
   "cell_type": "code",
   "execution_count": 24,
   "metadata": {},
   "outputs": [
    {
     "name": "stdout",
     "output_type": "stream",
     "text": [
      "[ 0  3  6  9 12 15]\n"
     ]
    }
   ],
   "source": [
    "# Ahora a una columna completa (en este cas0, la columna 0) \n",
    "print(A[:, 0])"
   ]
  },
  {
   "cell_type": "code",
   "execution_count": 25,
   "metadata": {},
   "outputs": [
    {
     "name": "stdout",
     "output_type": "stream",
     "text": [
      "[[ 0  1  2]\n",
      " [ 3  4  5]\n",
      " [ 6  7  8]\n",
      " [ 9 10 11]\n",
      " [12 13 14]]\n"
     ]
    }
   ],
   "source": [
    "# Obtenemos todas las filas hasta la quinta fila\n",
    "print(A[:5])"
   ]
  },
  {
   "cell_type": "code",
   "execution_count": 6,
   "metadata": {},
   "outputs": [
    {
     "name": "stdout",
     "output_type": "stream",
     "text": [
      "Elemento: 0\n",
      "Elemento: 1\n",
      "Elemento: 2\n",
      "Elemento: 3\n",
      "Elemento: 4\n",
      "Elemento: 5\n",
      "Elemento: 6\n",
      "Elemento: 7\n",
      "Elemento: 8\n",
      "Elemento: 9\n",
      "Elemento: 10\n",
      "Elemento: 11\n",
      "Elemento: 12\n",
      "Elemento: 13\n",
      "Elemento: 14\n",
      "Elemento: 15\n",
      "Elemento: 16\n",
      "Elemento: 17\n"
     ]
    }
   ],
   "source": [
    "# Podemos iterar a través de los elementos del array multidimensional\n",
    "for i in range(A.shape[0]):\n",
    "    for j in range(A.shape[1]):\n",
    "        print(\"Elemento: {}\".format(A[i, j]))"
   ]
  },
  {
   "cell_type": "markdown",
   "metadata": {},
   "source": [
    "También podemos usar *slicing* en asignaciones:"
   ]
  },
  {
   "cell_type": "code",
   "execution_count": 27,
   "metadata": {},
   "outputs": [
    {
     "name": "stdout",
     "output_type": "stream",
     "text": [
      "[[ 0  1  2]\n",
      " [ 3  4  5]\n",
      " [ 6  7  8]\n",
      " [ 9 10 42]\n",
      " [12 13 14]\n",
      " [15 16 17]]\n"
     ]
    }
   ],
   "source": [
    "# Modificamos el valor de la posición 3, 2\n",
    "A[3, 2] = 42\n",
    "print(A)"
   ]
  },
  {
   "cell_type": "code",
   "execution_count": 28,
   "metadata": {},
   "outputs": [
    {
     "name": "stdout",
     "output_type": "stream",
     "text": [
      "[[  0   1   2]\n",
      " [  3   4   5]\n",
      " [101 101 101]\n",
      " [  9  10  42]\n",
      " [ 12  13  14]\n",
      " [ 15  16  17]]\n"
     ]
    }
   ],
   "source": [
    "# Modificamos el valor de una fila completa\n",
    "A[2] = [101, 101, 101]\n",
    "print(A)"
   ]
  },
  {
   "cell_type": "code",
   "execution_count": 23,
   "metadata": {},
   "outputs": [
    {
     "name": "stdout",
     "output_type": "stream",
     "text": [
      "[[0 0 0]\n",
      " [0 0 0]\n",
      " [0 0 0]\n",
      " [0 0 0]\n",
      " [0 0 0]\n",
      " [0 0 0]]\n"
     ]
    }
   ],
   "source": [
    "# Igualamos todos los elementos a 0 (el operador ... añade todos los : necesarios).\n",
    "A[...] = 0\n",
    "print(A)"
   ]
  },
  {
   "cell_type": "markdown",
   "metadata": {},
   "source": [
    "# 5. Ejemplo: El juego de la vida de Conway\n",
    "El juego de la vida es un ejemplo clásico de autómata celular creado en 1970 por el famoso matemático John H. Conway. \n",
    "En el problema clásico, se representan en una matriz bidimensional células que vivirán o morirán dependiendo del número de vecinos en un determinado paso de la simulación. Cada célula tiene 8 vecinos (las casillas adyacentes en un tablero bidimensional) y puede estar viva (1) o muerta (0). Las reglas clásicas entre transición vida/muerte son las siguientes:\n",
    "\n",
    "* Una célula muerta con exactamente 3 células vecinas vivas al turno siguiente estará viva.\n",
    "* Una célula viva con 2 o 3 células vecinas vivas sigue viva. Si no es el caso, muere o permanece muerta (soledad en caso de un número menor a 2, superpoblación si es mayor a 3).\n",
    "\n",
    "Este problema (o juego) tiene muchas variantes dependiendo de las condiciones iniciales, si el tablero (o mundo) tiene bordes o no, o si bien las reglas de vida o muerte son alteradas.\n",
    "\n",
    "A continuación tenéis un ejemplo del juego clásico implementado en NumPy:"
   ]
  },
  {
   "cell_type": "code",
   "execution_count": 24,
   "metadata": {},
   "outputs": [
    {
     "name": "stdout",
     "output_type": "stream",
     "text": [
      "[[0 0 0 0 0 0 0 0 0 0]\n",
      " [0 0 0 0 0 0 0 0 0 0]\n",
      " [0 0 0 0 0 0 0 0 0 0]\n",
      " [0 0 0 0 0 0 0 0 0 0]\n",
      " [0 0 0 0 0 0 0 0 0 0]\n",
      " [0 0 0 0 0 0 0 0 0 0]\n",
      " [0 0 0 0 0 0 0 0 0 0]\n",
      " [0 0 0 0 0 0 0 0 0 0]\n",
      " [0 0 0 0 0 0 0 0 0 0]\n",
      " [0 0 0 0 0 0 0 0 0 0]]\n"
     ]
    }
   ],
   "source": [
    "# Autor: Nicolas Rougier\n",
    "# Fuente: http://www.labri.fr/perso/nrougier/teaching/numpy.100/\n",
    "\n",
    "SIZE = 10\n",
    "STEPS = 10\n",
    "\n",
    "def iterate(Z):\n",
    "    # Count neighbours\n",
    "    N = (Z[0:-2,0:-2] + Z[0:-2,1:-1] + Z[0:-2,2:] +\n",
    "         Z[1:-1,0:-2]                + Z[1:-1,2:] +\n",
    "         Z[2:  ,0:-2] + Z[2:  ,1:-1] + Z[2:  ,2:])\n",
    "\n",
    "    # Apply rules\n",
    "    birth = (N==3) & (Z[1:-1,1:-1]==0)\n",
    "    survive = ((N==2) | (N==3)) & (Z[1:-1,1:-1]==1)\n",
    "    Z[...] = 0\n",
    "    Z[1:-1,1:-1][birth | survive] = 1\n",
    "    return Z\n",
    "\n",
    "# Creamos un tablero con células vivas o muertas de forma aleatoria.\n",
    "Z = np.random.randint(0,2,(SIZE, SIZE))\n",
    "# Simulamos durante los pasos indicados.\n",
    "for i in range(STEPS):\n",
    "    Z = iterate(Z)\n",
    "# Mostramos el tablero en el paso final.\n",
    "print(Z)"
   ]
  },
  {
   "cell_type": "markdown",
   "metadata": {},
   "source": [
    "# 6. Ejercicios y preguntas teóricas\n",
    "\n",
    "La parte evaluable de esta unidad consiste en la entrega de un fichero Notebook con extensión «.ipynb» que contendrá los diferentes ejercicios y las preguntas teóricas que hay que contestar. Encontraréis el archivo (`prog_datasci_4_scilib_entrega.ipynb`) con las actividades en la misma carpeta que este notebook que estáis leyendo. **Hay un solo archivo de actividades para toda la unidad, que cubre todas las librerías que se trabajan.**\n",
    "\n",
    "## 6.1. Instrucciones importantes\n",
    "\n",
    "Es muy importante que a la hora de entregar el archivo Notebook con vuestras actividades os aseguréis de que:\n",
    "\n",
    "1. Vuestras soluciones sean originales. Esperamos no detectar copia directa entre estudiantes.\n",
    "2. Todo el código esté correctamente documentado. El código sin documentar equivaldrá a un 0.\n",
    "3. El archivo comprimido que entreguéis es correcto (contiene las actividades de la PEC que queréis entregar).\n",
    "\n",
    "Para hacer la entrega, comprimid el archivo `prog_datasci_4_scilib_entrega.ipynb` desde la terminal de la máquina virtual (utilizad vuestro nombre y apellido) y subid el archivo `nombre_apellido_pec4.tgz` al campus virtual:\n",
    "\n",
    "```\n",
    "$ cd /home/datasci/prog_datasci_1/prog_datasci_4\n",
    "$ tar zcvf nombre_apellido_pec4.tgz prog_datasci_4_scilib_entrega.ipynb\n",
    "```\n",
    "\n",
    "## 6.2 Solución\n",
    "\n",
    "Para descargar la solución de la actividad (a partir de la fecha indicada en el aula), desde la máquina virtual, abrid una terminal y ejecutad el script `get_sol_pec.sh`:\n",
    "\n",
    "```\n",
    "datasci@datasci:~$ get_sol_pec.sh \n",
    "Please type the number of the activity you want to download: 4\n",
    "Please select the language you want to use: type 0 for Catalan, 1 for Spanish 1\n",
    "Downloading PEC 4 in SPANISH\n",
    "Cloning into 'prog_datasci_sol_4'...\n",
    "remote: Enumerating objects: 26, done.\n",
    "remote: Counting objects: 100% (26/26), done.\n",
    "remote: Compressing objects: 100% (26/26), done.\n",
    "remote: Total 26 (delta 9), reused 0 (delta 0)\n",
    "Unpacking objects: 100% (26/26), done.\n",
    "OK! Files downloaded in /home/datasci/prog_datasci_1/prog_datasci_sol_4\n",
    "```\n",
    "\n",
    "Una vez descargada la solución, podéis ejecutar el servidor como ya explicamos (mediante el script `start_uoc.sh`) y acceder a su contenido.\n",
    "\n",
    "# 7. Bibliografía\n",
    "\n"
   ]
  },
  {
   "cell_type": "code",
   "execution_count": null,
   "metadata": {},
   "outputs": [],
   "source": []
  }
 ],
 "metadata": {
  "interpreter": {
   "hash": "ee747207af804efbc5f66a273575b1ece84db20fb2c1055c8f6950ec01462644"
  },
  "kernelspec": {
   "display_name": "Python 3.8.12 64-bit ('uoc': conda)",
   "name": "python3"
  },
  "language_info": {
   "codemirror_mode": {
    "name": "ipython",
    "version": 3
   },
   "file_extension": ".py",
   "mimetype": "text/x-python",
   "name": "python",
   "nbconvert_exporter": "python",
   "pygments_lexer": "ipython3",
   "version": "3.8.12"
  }
 },
 "nbformat": 4,
 "nbformat_minor": 1
}
