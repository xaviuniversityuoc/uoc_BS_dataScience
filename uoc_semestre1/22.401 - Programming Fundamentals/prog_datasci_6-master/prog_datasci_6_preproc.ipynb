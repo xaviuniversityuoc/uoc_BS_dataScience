{
 "cells": [
  {
   "cell_type": "markdown",
   "metadata": {},
   "source": [
    "<div style=\"width: 100%; clear: both;\">\n",
    "    <div style=\"float: left; width: 50%;\">\n",
    "       <img src=\"http://www.uoc.edu/portal/_resources/common/imatges/marca_UOC/UOC_Masterbrand.jpg\", align=\"left\">\n",
    "    </div>\n",
    "</div>\n",
    "\n",
    "<div style=\"float: right; width: 50%;\">\n",
    "    <p style=\"margin: 0; padding-top: 22px; text-align:right;\">22.501 · Fundamentos de Programación</p>\n",
    "    <p style=\"margin: 0; text-align:right;\">Grado en Ciencia de Datos Aplicada</p>\n",
    "    <p style=\"margin: 0; text-align:right; padding-button: 100px;\">Estudios de Informática, Multimedia y Telecomunicación</p>\n",
    "</div>\n",
    "\n",
    "</div>\n",
    "<div style=\"width: 100%; clear: both;\">\n",
    "<div style=\"width:100%;\">&nbsp;</div>"
   ]
  },
  {
   "cell_type": "markdown",
   "metadata": {},
   "source": [
    "Fundamentos de Programación\n",
    "============================\n",
    "\n",
    "--- \n",
    "\n",
    "Unidad 6: Preprocesamiento de datos en Python\n",
    "-----------------------------------------------------\n",
    "\n",
    "---"
   ]
  },
  {
   "cell_type": "markdown",
   "metadata": {},
   "source": [
    "### Instrucciones de uso\n",
    "\n",
    "Este documento es un *notebook* interactivo que intercala explicaciones más bien teóricas de conceptos de programación con fragmentos de código ejecutables. Para aprovechar las ventajas que aporta este formato, se recomienda, en primer lugar, leer las explicaciones y el código que os proporcionamos. De esta manera tendréis un primer contacto con los conceptos que exponemos. Ahora bien, **¡la lectura es sólo el principio!** Una vez hayáis leído el contenido, no olvidéis ejecutar el código proporcionado y modificarlo para crear variantes que os permitan comprobar que habéis entendido su funcionalidad y explorar los detalles de implementación. Por último, se recomienda también consultar la documentación enlazada para explorar con más profundidad las funcionalidades de los módulos presentados.\n",
    "\n",
    "### Introducción\n",
    "\n",
    "Esta unidad presenta las principales herramientas de preprocesamiento de datos en Python. Veremos cómo utilizar la librería [pandas](http://pandas.pydata.org/), que ya hemos introducido en los módulos anteriores, para preprocesar datos, y también introduciremos el uso de una nueva librería, [scikit-learn](http://scikit-learn.org).\n",
    "\n",
    "A continuación se incluye la tabla de contenidos, que podéis utilizar para navegar por el documento:\n",
    "\n",
    "<ul style = \"list-style-type: none\">\n",
    "    <li> <a href='#1.-El-preprocesamiento-de-datos'> 1. El preprocesamiento de datos </a> </li>\n",
    "    <li> <a href='#2.-Preprocesamiento-de-datos-en-Python'> 2. Preprocesamiento de datos en Python </a> </li>\n",
    "    <li> <a href='#3.-Integración-de-datos'> 3. Integración de datos </a> </li>\n",
    "    <li> <a href=\"#4.-Transformación-de-datos\"> 4. Transformación de datos </a> </li>\n",
    "    <li> <a href=\"#5.-Limpieza-de-datos\"> 5. Limpieza de datos </a> </li>\n",
    "    <li> <a href=\"#6.-Normalización-de-datos\"> 6. Normalización de datos </a> </li>\n",
    "    <li> <a href=\"#7.-Reducción-de-dimensiones\"> 7. Reducción de dimensiones </a> </li>\n",
    "    <li> <a href=\"#8.-Reducción-de-muestras\"> 8. Reducción de muestras </a> </li>\n",
    "    <li> <a href=\"#9.-Discretización\"> 9. Discretización </a> </li>\n",
    "    <li> <a href=\"#10.-Ejercicios-y-preguntas-teóricas\"> 10. Ejercicios y preguntas teóricas </a> </li>\n",
    "    <ul style = \"list-style-type: none\">\n",
    "        <li> <a href=\"#10.1.-Instrucciones-importantes\"> 10.1 Instrucciones importantes </a> </li>\n",
    "        <li> <a href=\"#10.2-Solución\"> 10.2 Solución </a> </li>\n",
    "    </ul>\n",
    "    <li> <a href=\"#11.-Bibliografia\"> 11. Bibliografía </a> </li>\n",
    "</ul>"
   ]
  },
  {
   "cell_type": "markdown",
   "metadata": {},
   "source": [
    "# 1. El preprocesamiento de datos\n",
    "\n",
    "Los datos adquiridos del mundo real acostumbran a ser incompletos y a contener ruido e inconsistencias. Por este motivo, surge la necesidad del preprocesamiento de datos.\n",
    "\n",
    "El **preprocesamiento de datos** es el conjunto de técnicas que permite convertir un conjunto de datos en bruto en un conjunto de datos que pueda ser usado por un algoritmo de minería de datos. El objetivo principal del preprocesamiento de datos es mejorar la calidad de los datos utilizados por las técnicas de minería de datos, de manera que estas puedan operar con más facilidad.\n",
    "\n",
    "Dentro de las técnicas de preprocesamiento de datos, distinguimos dos grandes grupos: **preparación** de los datos y **reducción** de los datos.\n",
    "\n",
    "![](img/Preprocesamiento-de-datos.png)\n",
    "\n",
    "La **integración** de los datos se centra en la recolección de todos los datos necesarios para el análisis (que a menudo proceden de fuentes distintas) en un único conjunto. La integración de datos debe afrontar problemas como la eliminación de atributos redundantes, la detección de tuplas duplicadas y la identificación de inconsistencias. Tanto los atributos redundantes como las tuplas duplicadas hacen aumentar el espacio de almacenamiento y el tiempo de cómputo necesarios para tratarlos y, además, pueden ser fuente de inconsistencias. \n",
    "\n",
    "Una vez se dispone de un conjunto de datos integrados, es necesario aplicar un proceso de **limpieza**. Este proceso se encarga de tratar los valores perdidos y datos erróneos (o datos con ruido), que pueden aparecer a causa de errores en la entrada de datos, la transmisión, o los propios sistemas de procesamiento de datos. \n",
    "\n",
    "En ocasiones los datos contienen atributos que tienen sentido en el dominio en el que fueron recogidos pero no son suficientemente buenos para construir modelos. En estos casos, se suele aplicar un proceso de **normalización** que transforme los atributos originales (por ejemplo, cambiando la escala en la que se representan).\n",
    "\n",
    "Adicionalmente, se pueden realizar otro tipo de **transformaciones** en los datos, de manera que se generen nuevos atributos a partir de los existentes. Así, por ejemplo, puede ser beneficioso generar un nuevo atributo que agregue información contenida en otros atributos o bien transformar un atributo nominal a varios atributos binarios (lo que permitirá aplicar modelos que solo sepan trabajar con atributos numéricos).\n",
    "\n",
    "Cada vez más nos encontramos con conjuntos de datos de gran tamaño, con millones de muestras y miles de atributos, a los cuales queremos aplicar técnicas de minería de datos. Aplicar los algoritmos de minería de datos directamente sobre estos conjuntos de datos es poco eficiente y, muy a menudo, incluso inviable. En estos casos, se aplican técnicas de **reducción** de datos, que reducen el tamaño del conjunto de datos a procesar intentando mantener la información que contenía el conjunto de datos original.\n",
    "\n",
    "El proceso de **reducción de dimensiones** reduce el número de atributos del conjunto de datos. Generalmente se siguen dos estrategias distintas para reducir el número de dimensiones de un conjunto de datos: la selección de características, que escoge un subconjunto de entre el conjunto de características disponibles; y la extracción de características, que construye un conjunto de características derivadas de las originales.\n",
    "\n",
    "Mientras que los procesos de reducción de dimensiones reducen el número de características del conjunto de datos, los procesos de **reducción de muestras** se centran en reducir el número de muestras o ejemplos que serán utilizadas por el algoritmo de minería de datos.\n",
    "\n",
    "Por último, las técnicas de **discretización** de datos permiten reducir el número de valores de un atributo continuo dividiendo el rango de valores posibles del atributo en intervalos y reemplazando los valores continuos por una etiqueta que representa el intervalo en el cual se encuentran."
   ]
  },
  {
   "cell_type": "markdown",
   "metadata": {},
   "source": [
    "# 2. Preprocesamiento de datos en Python\n",
    "\n",
    "En este módulo trabajaremos con la librería [pandas](http://pandas.pydata.org/), que ya hemos introducido en módulos anteriores, y [scikit-learn](http://scikit-learn.org), una nueva librería que presentamos en este módulo. Scikit-learn es una librería de aprendizaje automático de Python que nos ofrece herramientas y implementaciones de algoritmos para minería y análisis de datos. En la propia web de scikit-learn podéis encontrar la [documentación completa](http://scikit-learn.org/stable/documentation.html) de la librería.\n",
    "\n",
    "Este Notebook contiene ejemplos concretos de técnicas que pueden aplicarse para preprocesar datos para cada uno de los grupos de técnicas descritos en la introducción del módulo (en la xwiki asociada). Es importante destacar que se han seleccionado únicamente algunas técnicas dentro de cada grupo para presentar ejemplos del tipo de transformaciones que se realizan pero, en la práctica, el conjunto de técnicas que se aplican en el preprocesamiento de los datos es mucho más amplio. \n",
    "\n",
    "En este Notebook veremos cómo aplicar diferentes técnicas de preprocesamiento de datos sobre un conjunto de datos metereológicos de la ciudad de Pequín. El *dataset* original puede encontrarse en el siguiente [repositorio de Machine Learning de la UC Irvine](http://archive.ics.uci.edu/ml/datasets/Beijing+PM2.5+Data#), aunque para las actividades utilizaremos una variante modificada del mismo que nos permitirá practicar un conjunto más amplio de técnicas. Podéis encontrar una pequeña descripción de los atributos del conjunto de datos siguiendo el enlace anterior.\n",
    "\n",
    "En primer lugar, cargamos el conjunto de datos:"
   ]
  },
  {
   "cell_type": "code",
   "execution_count": 1,
   "metadata": {},
   "outputs": [
    {
     "name": "stdout",
     "output_type": "stream",
     "text": [
      "<class 'pandas.core.frame.DataFrame'>\n",
      "43824\n"
     ]
    },
    {
     "data": {
      "text/html": [
       "<div>\n",
       "<style scoped>\n",
       "    .dataframe tbody tr th:only-of-type {\n",
       "        vertical-align: middle;\n",
       "    }\n",
       "\n",
       "    .dataframe tbody tr th {\n",
       "        vertical-align: top;\n",
       "    }\n",
       "\n",
       "    .dataframe thead th {\n",
       "        text-align: right;\n",
       "    }\n",
       "</style>\n",
       "<table border=\"1\" class=\"dataframe\">\n",
       "  <thead>\n",
       "    <tr style=\"text-align: right;\">\n",
       "      <th></th>\n",
       "      <th>No</th>\n",
       "      <th>year</th>\n",
       "      <th>month</th>\n",
       "      <th>day</th>\n",
       "      <th>hour</th>\n",
       "      <th>pm2.5</th>\n",
       "      <th>DEWP</th>\n",
       "      <th>TEMP</th>\n",
       "      <th>PRES</th>\n",
       "      <th>cbwd</th>\n",
       "      <th>Iws</th>\n",
       "      <th>Is</th>\n",
       "      <th>Ir</th>\n",
       "    </tr>\n",
       "  </thead>\n",
       "  <tbody>\n",
       "    <tr>\n",
       "      <th>0</th>\n",
       "      <td>1</td>\n",
       "      <td>2010</td>\n",
       "      <td>jan</td>\n",
       "      <td>1</td>\n",
       "      <td>0</td>\n",
       "      <td>NaN</td>\n",
       "      <td>-21</td>\n",
       "      <td>-11.0</td>\n",
       "      <td>1021.0</td>\n",
       "      <td>Nw</td>\n",
       "      <td>1.79</td>\n",
       "      <td>0</td>\n",
       "      <td>0</td>\n",
       "    </tr>\n",
       "    <tr>\n",
       "      <th>1</th>\n",
       "      <td>2</td>\n",
       "      <td>2010</td>\n",
       "      <td>jan</td>\n",
       "      <td>1</td>\n",
       "      <td>1</td>\n",
       "      <td>NaN</td>\n",
       "      <td>-21</td>\n",
       "      <td>-12.0</td>\n",
       "      <td>1020.0</td>\n",
       "      <td>nw</td>\n",
       "      <td>4.92</td>\n",
       "      <td>0</td>\n",
       "      <td>0</td>\n",
       "    </tr>\n",
       "    <tr>\n",
       "      <th>2</th>\n",
       "      <td>3</td>\n",
       "      <td>2010</td>\n",
       "      <td>jan</td>\n",
       "      <td>1</td>\n",
       "      <td>2</td>\n",
       "      <td>NaN</td>\n",
       "      <td>-21</td>\n",
       "      <td>-11.0</td>\n",
       "      <td>1019.0</td>\n",
       "      <td>nw</td>\n",
       "      <td>6.71</td>\n",
       "      <td>0</td>\n",
       "      <td>0</td>\n",
       "    </tr>\n",
       "    <tr>\n",
       "      <th>3</th>\n",
       "      <td>4</td>\n",
       "      <td>2010</td>\n",
       "      <td>jan</td>\n",
       "      <td>1</td>\n",
       "      <td>3</td>\n",
       "      <td>NaN</td>\n",
       "      <td>-21</td>\n",
       "      <td>-14.0</td>\n",
       "      <td>1019.0</td>\n",
       "      <td>NW</td>\n",
       "      <td>9.84</td>\n",
       "      <td>0</td>\n",
       "      <td>0</td>\n",
       "    </tr>\n",
       "    <tr>\n",
       "      <th>4</th>\n",
       "      <td>5</td>\n",
       "      <td>2010</td>\n",
       "      <td>jan</td>\n",
       "      <td>1</td>\n",
       "      <td>4</td>\n",
       "      <td>NaN</td>\n",
       "      <td>-20</td>\n",
       "      <td>-12.0</td>\n",
       "      <td>1018.0</td>\n",
       "      <td>nW</td>\n",
       "      <td>12.97</td>\n",
       "      <td>0</td>\n",
       "      <td>0</td>\n",
       "    </tr>\n",
       "  </tbody>\n",
       "</table>\n",
       "</div>"
      ],
      "text/plain": [
       "   No  year month  day  hour  pm2.5  DEWP  TEMP    PRES cbwd    Iws  Is  Ir\n",
       "0   1  2010   jan    1     0    NaN   -21 -11.0  1021.0   Nw   1.79   0   0\n",
       "1   2  2010   jan    1     1    NaN   -21 -12.0  1020.0   nw   4.92   0   0\n",
       "2   3  2010   jan    1     2    NaN   -21 -11.0  1019.0   nw   6.71   0   0\n",
       "3   4  2010   jan    1     3    NaN   -21 -14.0  1019.0   NW   9.84   0   0\n",
       "4   5  2010   jan    1     4    NaN   -20 -12.0  1018.0   nW  12.97   0   0"
      ]
     },
     "execution_count": 1,
     "metadata": {},
     "output_type": "execute_result"
    }
   ],
   "source": [
    "# Importamos la librería pandas.\n",
    "import pandas as pd\n",
    "\n",
    "# Cargamos los datos del fichero \"weather_dataset_edited.csv\" en un dataframe.\n",
    "data = pd.read_csv(\"data/weather_dataset_edited.csv\")\n",
    "\n",
    "# Mostramos una descripción básica de los datos cargados.\n",
    "print(type(data))\n",
    "print(len(data))\n",
    "data.head(n=5)"
   ]
  },
  {
   "cell_type": "markdown",
   "metadata": {},
   "source": [
    "# 3. Integración de datos\n",
    "\n",
    "El conjunto de datos ha sido creado con la colaboración de diferentes personas. Aunque todas ellas anotaban la misma información, lo cierto es que utilizaron una nomenclatura distinta para describir la dirección del viento. Veamos cómo podemos unificar la nomenclatura usada por todos ellos."
   ]
  },
  {
   "cell_type": "code",
   "execution_count": 2,
   "metadata": {},
   "outputs": [
    {
     "data": {
      "text/plain": [
       "{'NE', 'NW', 'Nw', 'SE', 'Se', 'nW', nan, 'ne', 'nw', 'sE', 'se'}"
      ]
     },
     "execution_count": 2,
     "metadata": {},
     "output_type": "execute_result"
    }
   ],
   "source": [
    "# Visualizamos las diferentes abreviaturas utilizadas.\n",
    "set(data[\"cbwd\"])"
   ]
  },
  {
   "cell_type": "code",
   "execution_count": 3,
   "metadata": {},
   "outputs": [],
   "source": [
    "# Unificamos la nomenclatura para usar únicamente mayúsculas.\n",
    "data.loc[data.cbwd == \"ne\", \"cbwd\"] = \"NE\"\n",
    "data.loc[(data.cbwd == \"Nw\") | (data.cbwd == \"nW\") | (data.cbwd == \"nw\"), \"cbwd\"] = \"NW\"\n",
    "data.loc[(data.cbwd == \"Se\") | (data.cbwd == \"sE\") | (data.cbwd == \"se\"), \"cbwd\"] = \"SE\""
   ]
  },
  {
   "cell_type": "markdown",
   "metadata": {},
   "source": [
    "Notad que usamos el operador `.loc`, que habíamos visto en el módulo 4 (en las explicaciones sobre la librería pandas) para filtrar las filas que cumplen una característica concreta (por ejemplo, para la primera sentencia, que tienen el valor 'ne' en el campo `cbwd`) y luego seleccionamos únicamente la columna `cbwd` para poder asignarle el nuevo valor (en este caso, 'NE')."
   ]
  },
  {
   "cell_type": "code",
   "execution_count": 4,
   "metadata": {},
   "outputs": [
    {
     "data": {
      "text/plain": [
       "{'NE', 'NW', 'SE', nan}"
      ]
     },
     "execution_count": 4,
     "metadata": {},
     "output_type": "execute_result"
    }
   ],
   "source": [
    "# Comprobamos que la sustitución se haya realizado correctamente.\n",
    "set(data[\"cbwd\"])"
   ]
  },
  {
   "cell_type": "markdown",
   "metadata": {},
   "source": [
    "Además, sabemos que normalmente la temperatura se tomaba con un termómetro configurado para usar el sistema métrico internacional, por lo que esta se encuentra expresada en grados Celsius. Sin embargo, durante el año 2011 se estuvieron tomando las mediciones con otro termómetro configurado con grados Farenheit, por lo que las muestras de ese año se encuentran expresadas en °F. Veamos cómo podemos unificar las mediciones de temperatura."
   ]
  },
  {
   "cell_type": "code",
   "execution_count": 5,
   "metadata": {},
   "outputs": [
    {
     "data": {
      "text/html": [
       "<div>\n",
       "<style scoped>\n",
       "    .dataframe tbody tr th:only-of-type {\n",
       "        vertical-align: middle;\n",
       "    }\n",
       "\n",
       "    .dataframe tbody tr th {\n",
       "        vertical-align: top;\n",
       "    }\n",
       "\n",
       "    .dataframe thead th {\n",
       "        text-align: right;\n",
       "    }\n",
       "</style>\n",
       "<table border=\"1\" class=\"dataframe\">\n",
       "  <thead>\n",
       "    <tr style=\"text-align: right;\">\n",
       "      <th></th>\n",
       "      <th>TEMP</th>\n",
       "    </tr>\n",
       "    <tr>\n",
       "      <th>year</th>\n",
       "      <th></th>\n",
       "    </tr>\n",
       "  </thead>\n",
       "  <tbody>\n",
       "    <tr>\n",
       "      <th>2010</th>\n",
       "      <td>11.632420</td>\n",
       "    </tr>\n",
       "    <tr>\n",
       "      <th>2011</th>\n",
       "      <td>54.617534</td>\n",
       "    </tr>\n",
       "    <tr>\n",
       "      <th>2012</th>\n",
       "      <td>11.967441</td>\n",
       "    </tr>\n",
       "    <tr>\n",
       "      <th>2013</th>\n",
       "      <td>12.399201</td>\n",
       "    </tr>\n",
       "    <tr>\n",
       "      <th>2014</th>\n",
       "      <td>13.679566</td>\n",
       "    </tr>\n",
       "  </tbody>\n",
       "</table>\n",
       "</div>"
      ],
      "text/plain": [
       "           TEMP\n",
       "year           \n",
       "2010  11.632420\n",
       "2011  54.617534\n",
       "2012  11.967441\n",
       "2013  12.399201\n",
       "2014  13.679566"
      ]
     },
     "execution_count": 5,
     "metadata": {},
     "output_type": "execute_result"
    }
   ],
   "source": [
    "# Importamos la librería NumPy.\n",
    "import numpy as np\n",
    "\n",
    "# Visualizamos la media anual de las temperaturas.\n",
    "grouped = data.groupby(\"year\")\n",
    "grouped.aggregate({\"TEMP\": np.mean})"
   ]
  },
  {
   "cell_type": "markdown",
   "metadata": {},
   "source": [
    "Fijaos como, efectivamente, la media del año 2011 es mucho más alta que la del resto de años."
   ]
  },
  {
   "cell_type": "code",
   "execution_count": 6,
   "metadata": {},
   "outputs": [],
   "source": [
    "# Definimos una función que convierte grados Fahrenheit en grados Celsius.\n",
    "def fahrenheit_to_celsius(x):\n",
    "    return (x-32)*5/9\n",
    "\n",
    "# Sustituimos los valores de las temperaturas del año 2011 por el resultado de aplicar la función\n",
    "# 'fahrenheit_to_celsius' al valor actual.\n",
    "data.loc[data.year == 2011, \"TEMP\"] = data[data.year == 2011][\"TEMP\"].apply(fahrenheit_to_celsius)\n"
   ]
  },
  {
   "cell_type": "code",
   "execution_count": 7,
   "metadata": {},
   "outputs": [
    {
     "data": {
      "text/html": [
       "<div>\n",
       "<style scoped>\n",
       "    .dataframe tbody tr th:only-of-type {\n",
       "        vertical-align: middle;\n",
       "    }\n",
       "\n",
       "    .dataframe tbody tr th {\n",
       "        vertical-align: top;\n",
       "    }\n",
       "\n",
       "    .dataframe thead th {\n",
       "        text-align: right;\n",
       "    }\n",
       "</style>\n",
       "<table border=\"1\" class=\"dataframe\">\n",
       "  <thead>\n",
       "    <tr style=\"text-align: right;\">\n",
       "      <th></th>\n",
       "      <th>TEMP</th>\n",
       "    </tr>\n",
       "    <tr>\n",
       "      <th>year</th>\n",
       "      <th></th>\n",
       "    </tr>\n",
       "  </thead>\n",
       "  <tbody>\n",
       "    <tr>\n",
       "      <th>2010</th>\n",
       "      <td>11.632420</td>\n",
       "    </tr>\n",
       "    <tr>\n",
       "      <th>2011</th>\n",
       "      <td>12.565297</td>\n",
       "    </tr>\n",
       "    <tr>\n",
       "      <th>2012</th>\n",
       "      <td>11.967441</td>\n",
       "    </tr>\n",
       "    <tr>\n",
       "      <th>2013</th>\n",
       "      <td>12.399201</td>\n",
       "    </tr>\n",
       "    <tr>\n",
       "      <th>2014</th>\n",
       "      <td>13.679566</td>\n",
       "    </tr>\n",
       "  </tbody>\n",
       "</table>\n",
       "</div>"
      ],
      "text/plain": [
       "           TEMP\n",
       "year           \n",
       "2010  11.632420\n",
       "2011  12.565297\n",
       "2012  11.967441\n",
       "2013  12.399201\n",
       "2014  13.679566"
      ]
     },
     "execution_count": 7,
     "metadata": {},
     "output_type": "execute_result"
    }
   ],
   "source": [
    "# Comprobamos que los cambios realizados han tenido efecto.\n",
    "grouped.aggregate({\"TEMP\": np.mean})"
   ]
  },
  {
   "cell_type": "markdown",
   "metadata": {},
   "source": [
    "# 4. Transformación de datos"
   ]
  },
  {
   "cell_type": "markdown",
   "metadata": {},
   "source": [
    "Los atributos `month` y `cbwd` contienen cadenas de caracteres como valores y representan variables categóricas, por lo que algunos tipos de algoritmos de minería de datos no podrán trabajar con ellas. Por ello, las transformaremos en un conjunto de atributos binarios (un atributo para cada categoría posible)."
   ]
  },
  {
   "cell_type": "code",
   "execution_count": 8,
   "metadata": {},
   "outputs": [
    {
     "name": "stdout",
     "output_type": "stream",
     "text": [
      "['No', 'year', 'month', 'day', 'hour', 'pm2.5', 'DEWP', 'TEMP', 'PRES', 'cbwd', 'Iws', 'Is', 'Ir']\n"
     ]
    }
   ],
   "source": [
    "# Mostramos el conjunto de atributos original.\n",
    "print(list(data))"
   ]
  },
  {
   "cell_type": "code",
   "execution_count": 9,
   "metadata": {},
   "outputs": [],
   "source": [
    "# Creamos nuevos atributos binarios para las categorías utilizadas en las columnas \"month\" y \"cbwd\".\n",
    "data_trans = pd.get_dummies(data, columns=[\"month\", \"cbwd\"], dummy_na=True)"
   ]
  },
  {
   "cell_type": "code",
   "execution_count": 10,
   "metadata": {},
   "outputs": [
    {
     "name": "stdout",
     "output_type": "stream",
     "text": [
      "['No', 'year', 'day', 'hour', 'pm2.5', 'DEWP', 'TEMP', 'PRES', 'Iws', 'Is', 'Ir', 'month_apr', 'month_aug', 'month_dec', 'month_feb', 'month_jan', 'month_jul', 'month_jun', 'month_mar', 'month_may', 'month_nov', 'month_oct', 'month_sept', 'month_nan', 'cbwd_NE', 'cbwd_NW', 'cbwd_SE', 'cbwd_nan']\n"
     ]
    }
   ],
   "source": [
    "# Mostramos el conjunto de atributos después de la transformación.\n",
    "print(list(data_trans))"
   ]
  },
  {
   "cell_type": "markdown",
   "metadata": {},
   "source": [
    "Podemos ver un ejemplo de cómo se han transformado los valores observando algunas muestras concretas. Así, para las muestras entre las posiciones diez y veinte y la columna `cbwd`:"
   ]
  },
  {
   "cell_type": "code",
   "execution_count": 11,
   "metadata": {},
   "outputs": [
    {
     "name": "stdout",
     "output_type": "stream",
     "text": [
      "   cbwd\n",
      "10   NW\n",
      "11   NW\n",
      "12   NW\n",
      "13   NW\n",
      "14   NW\n",
      "15  NaN\n",
      "16   NW\n",
      "17   NW\n",
      "18   NE\n",
      "19   NW\n",
      "20  NaN\n"
     ]
    },
    {
     "data": {
      "text/html": [
       "<div>\n",
       "<style scoped>\n",
       "    .dataframe tbody tr th:only-of-type {\n",
       "        vertical-align: middle;\n",
       "    }\n",
       "\n",
       "    .dataframe tbody tr th {\n",
       "        vertical-align: top;\n",
       "    }\n",
       "\n",
       "    .dataframe thead th {\n",
       "        text-align: right;\n",
       "    }\n",
       "</style>\n",
       "<table border=\"1\" class=\"dataframe\">\n",
       "  <thead>\n",
       "    <tr style=\"text-align: right;\">\n",
       "      <th></th>\n",
       "      <th>cbwd_NE</th>\n",
       "      <th>cbwd_NW</th>\n",
       "      <th>cbwd_SE</th>\n",
       "      <th>cbwd_nan</th>\n",
       "    </tr>\n",
       "  </thead>\n",
       "  <tbody>\n",
       "    <tr>\n",
       "      <th>10</th>\n",
       "      <td>0</td>\n",
       "      <td>1</td>\n",
       "      <td>0</td>\n",
       "      <td>0</td>\n",
       "    </tr>\n",
       "    <tr>\n",
       "      <th>11</th>\n",
       "      <td>0</td>\n",
       "      <td>1</td>\n",
       "      <td>0</td>\n",
       "      <td>0</td>\n",
       "    </tr>\n",
       "    <tr>\n",
       "      <th>12</th>\n",
       "      <td>0</td>\n",
       "      <td>1</td>\n",
       "      <td>0</td>\n",
       "      <td>0</td>\n",
       "    </tr>\n",
       "    <tr>\n",
       "      <th>13</th>\n",
       "      <td>0</td>\n",
       "      <td>1</td>\n",
       "      <td>0</td>\n",
       "      <td>0</td>\n",
       "    </tr>\n",
       "    <tr>\n",
       "      <th>14</th>\n",
       "      <td>0</td>\n",
       "      <td>1</td>\n",
       "      <td>0</td>\n",
       "      <td>0</td>\n",
       "    </tr>\n",
       "    <tr>\n",
       "      <th>15</th>\n",
       "      <td>0</td>\n",
       "      <td>0</td>\n",
       "      <td>0</td>\n",
       "      <td>1</td>\n",
       "    </tr>\n",
       "    <tr>\n",
       "      <th>16</th>\n",
       "      <td>0</td>\n",
       "      <td>1</td>\n",
       "      <td>0</td>\n",
       "      <td>0</td>\n",
       "    </tr>\n",
       "    <tr>\n",
       "      <th>17</th>\n",
       "      <td>0</td>\n",
       "      <td>1</td>\n",
       "      <td>0</td>\n",
       "      <td>0</td>\n",
       "    </tr>\n",
       "    <tr>\n",
       "      <th>18</th>\n",
       "      <td>1</td>\n",
       "      <td>0</td>\n",
       "      <td>0</td>\n",
       "      <td>0</td>\n",
       "    </tr>\n",
       "    <tr>\n",
       "      <th>19</th>\n",
       "      <td>0</td>\n",
       "      <td>1</td>\n",
       "      <td>0</td>\n",
       "      <td>0</td>\n",
       "    </tr>\n",
       "    <tr>\n",
       "      <th>20</th>\n",
       "      <td>0</td>\n",
       "      <td>0</td>\n",
       "      <td>0</td>\n",
       "      <td>1</td>\n",
       "    </tr>\n",
       "  </tbody>\n",
       "</table>\n",
       "</div>"
      ],
      "text/plain": [
       "    cbwd_NE  cbwd_NW  cbwd_SE  cbwd_nan\n",
       "10        0        1        0         0\n",
       "11        0        1        0         0\n",
       "12        0        1        0         0\n",
       "13        0        1        0         0\n",
       "14        0        1        0         0\n",
       "15        0        0        0         1\n",
       "16        0        1        0         0\n",
       "17        0        1        0         0\n",
       "18        1        0        0         0\n",
       "19        0        1        0         0\n",
       "20        0        0        0         1"
      ]
     },
     "execution_count": 11,
     "metadata": {},
     "output_type": "execute_result"
    }
   ],
   "source": [
    "# Mostramos el valor de la columna \"cbwd\" original para las muestras entre las posiciones diez y veinte.\n",
    "print(data.loc[10:20, [\"cbwd\"]])\n",
    "\n",
    "# Mostramos los valores de las nuevas columnas \"cbwd_NE\", \"cbwd_NW\", \"cbwd_SE\", \"cbwd_nan\"\n",
    "# para las muestras entre las posiciones diez y veinte.\n",
    "data_trans.loc[10:20, [\"cbwd_NE\", \"cbwd_NW\", \"cbwd_SE\", \"cbwd_nan\"]]"
   ]
  },
  {
   "cell_type": "markdown",
   "metadata": {},
   "source": [
    "# 5. Limpieza de datos\n",
    "\n",
    "Uno de los problemas que se tratan en la limpieza de datos es el tratamiento de valores perdidos. Existen múltiples estrategias para tratar con estos valores, desde directamente eliminar las muestras que contienen algún valor perdido hasta sustituir los valores perdidos por algún otro valor (por ejemplo, para atributos numéricos, la media del atributo en el resto de muestras). Veamos un ejemplo de sustitución de valores perdidos por la media del atributo."
   ]
  },
  {
   "cell_type": "markdown",
   "metadata": {},
   "source": [
    "En primer lugar, identificamos los atributos que tienen algún valor NaN:"
   ]
  },
  {
   "cell_type": "code",
   "execution_count": 12,
   "metadata": {},
   "outputs": [
    {
     "name": "stdout",
     "output_type": "stream",
     "text": [
      "No            False\n",
      "year          False\n",
      "day           False\n",
      "hour          False\n",
      "pm2.5          True\n",
      "DEWP          False\n",
      "TEMP          False\n",
      "PRES          False\n",
      "Iws           False\n",
      "Is            False\n",
      "Ir            False\n",
      "month_apr     False\n",
      "month_aug     False\n",
      "month_dec     False\n",
      "month_feb     False\n",
      "month_jan     False\n",
      "month_jul     False\n",
      "month_jun     False\n",
      "month_mar     False\n",
      "month_may     False\n",
      "month_nov     False\n",
      "month_oct     False\n",
      "month_sept    False\n",
      "month_nan     False\n",
      "cbwd_NE       False\n",
      "cbwd_NW       False\n",
      "cbwd_SE       False\n",
      "cbwd_nan      False\n",
      "dtype: bool\n"
     ]
    }
   ],
   "source": [
    "# Definimos una función que nos retorna un valor booleano indicando si alguno de los valores\n",
    "# de la serie es NaN.\n",
    "def any_is_null(x):\n",
    "    return any(pd.isnull(x))\n",
    "\n",
    "# Aplicamos la función any_is_null a cada columna del dataframe. \n",
    "print(data_trans.apply(any_is_null))"
   ]
  },
  {
   "cell_type": "markdown",
   "metadata": {},
   "source": [
    "Notad que aunque la columna `cbwd` original contenía valores perdidos, después de la transformación ya no los tenemos, ya que estos se encuentran representados con valores binarios en la columna `cbwd_nan`. Así, únicamente será necesario tratar los valores perdidos de la columna `pm2.5`.\n",
    "\n",
    "Procedemos a sustituir los valores perdidos de la columa `pm2.5` por la media de la columna utilizando la librería sklearn (aunque también podríamos utilizar las funciones de indexación de pandas para conseguir el mismo objetivo)."
   ]
  },
  {
   "cell_type": "code",
   "execution_count": 13,
   "metadata": {},
   "outputs": [],
   "source": [
    "# Importamos Imputer del módulo de preprocesamiento de la librería sklearn.\n",
    "from sklearn.impute import SimpleImputer\n",
    "\n",
    "# Sustituiremos los valores perdidos por la media de la columna \n",
    "imp = SimpleImputer(strategy='mean')\n",
    "\n",
    "# Aplicamos la transformación a la columna pm2.5.\n",
    "data_trans[\"pm2.5\"] = imp.fit_transform(data_trans[[\"pm2.5\"]]).ravel()\n"
   ]
  },
  {
   "cell_type": "code",
   "execution_count": 14,
   "metadata": {},
   "outputs": [
    {
     "name": "stdout",
     "output_type": "stream",
     "text": [
      "No            False\n",
      "year          False\n",
      "day           False\n",
      "hour          False\n",
      "pm2.5         False\n",
      "DEWP          False\n",
      "TEMP          False\n",
      "PRES          False\n",
      "Iws           False\n",
      "Is            False\n",
      "Ir            False\n",
      "month_apr     False\n",
      "month_aug     False\n",
      "month_dec     False\n",
      "month_feb     False\n",
      "month_jan     False\n",
      "month_jul     False\n",
      "month_jun     False\n",
      "month_mar     False\n",
      "month_may     False\n",
      "month_nov     False\n",
      "month_oct     False\n",
      "month_sept    False\n",
      "month_nan     False\n",
      "cbwd_NE       False\n",
      "cbwd_NW       False\n",
      "cbwd_SE       False\n",
      "cbwd_nan      False\n",
      "dtype: bool\n"
     ]
    }
   ],
   "source": [
    "# Comprobamos que se han eliminado los valores perdidos.\n",
    "print(data_trans.apply(any_is_null))"
   ]
  },
  {
   "cell_type": "markdown",
   "metadata": {},
   "source": [
    "# 6. Normalización de datos\n",
    "\n",
    "Una de las alternativas para normalizar los datos consiste en centrar los valores para que la media del atributo se encuentre cercana a cero y escalarlos para que la varianza sea 1. Veamos cómo realizar este proceso sobre el atributo que contiene la presión atmosférica."
   ]
  },
  {
   "cell_type": "code",
   "execution_count": 15,
   "metadata": {},
   "outputs": [
    {
     "data": {
      "text/plain": [
       "count    43824.000000\n",
       "mean      1016.447654\n",
       "std         10.268698\n",
       "min        991.000000\n",
       "25%       1008.000000\n",
       "50%       1016.000000\n",
       "75%       1025.000000\n",
       "max       1046.000000\n",
       "Name: PRES, dtype: float64"
      ]
     },
     "execution_count": 15,
     "metadata": {},
     "output_type": "execute_result"
    }
   ],
   "source": [
    "# Observamos los estadísticos básicos originales del atributo \"PRES\".\n",
    "data_trans[\"PRES\"].describe()"
   ]
  },
  {
   "cell_type": "code",
   "execution_count": 16,
   "metadata": {},
   "outputs": [],
   "source": [
    "# Importamos StandardScaler del módulo de preprocesamiento de la librería sklearn.\n",
    "from sklearn.preprocessing import StandardScaler\n",
    "\n",
    "# Utilizamos el StandardScaler de sklearn para normalizar los valores del atributo \"PRES\".\n",
    "data_trans.loc[:, [\"PRES\"]] = StandardScaler().fit_transform(data_trans.loc[:, [\"PRES\"]])"
   ]
  },
  {
   "cell_type": "code",
   "execution_count": 17,
   "metadata": {},
   "outputs": [
    {
     "data": {
      "text/plain": [
       "count    4.382400e+04\n",
       "mean     4.851095e-15\n",
       "std      1.000011e+00\n",
       "min     -2.478206e+00\n",
       "25%     -8.226701e-01\n",
       "50%     -4.359456e-02\n",
       "75%      8.328654e-01\n",
       "max      2.877939e+00\n",
       "Name: PRES, dtype: float64"
      ]
     },
     "execution_count": 17,
     "metadata": {},
     "output_type": "execute_result"
    }
   ],
   "source": [
    "# Observamos los estadísticos básicos del atributo \"PRES\" después de la transformación.\n",
    "data_trans[\"PRES\"].describe()\n"
   ]
  },
  {
   "cell_type": "markdown",
   "metadata": {},
   "source": [
    "Notad como, efectivamente, la media se aproxima ahora al valor 0, y la desviación, a 1."
   ]
  },
  {
   "cell_type": "markdown",
   "metadata": {},
   "source": [
    "# 7. Reducción de dimensiones\n",
    "\n",
    "Una opción sencilla para reducir dimensiones consiste en seleccionar un conjunto de características de interés. Podemos realizar esta selección de manera sencilla gracias a las funciones que disponemos sobre los *dataframes* de pandas."
   ]
  },
  {
   "cell_type": "code",
   "execution_count": 18,
   "metadata": {},
   "outputs": [
    {
     "name": "stdout",
     "output_type": "stream",
     "text": [
      "['No', 'year', 'day', 'hour', 'pm2.5', 'DEWP', 'TEMP', 'PRES', 'Iws', 'Is', 'Ir', 'month_apr', 'month_aug', 'month_dec', 'month_feb', 'month_jan', 'month_jul', 'month_jun', 'month_mar', 'month_may', 'month_nov', 'month_oct', 'month_sept', 'month_nan', 'cbwd_NE', 'cbwd_NW', 'cbwd_SE', 'cbwd_nan']\n"
     ]
    }
   ],
   "source": [
    "# Mostramos los atributos actuales.\n",
    "print(list(data_trans))"
   ]
  },
  {
   "cell_type": "code",
   "execution_count": 19,
   "metadata": {},
   "outputs": [],
   "source": [
    "# Eliminamos el atributo \"DEWP\".\n",
    "data_trans = data_trans.drop(\"DEWP\", axis=1)"
   ]
  },
  {
   "cell_type": "code",
   "execution_count": 20,
   "metadata": {},
   "outputs": [
    {
     "name": "stdout",
     "output_type": "stream",
     "text": [
      "['No', 'year', 'day', 'hour', 'pm2.5', 'TEMP', 'PRES', 'Iws', 'Is', 'Ir', 'month_apr', 'month_aug', 'month_dec', 'month_feb', 'month_jan', 'month_jul', 'month_jun', 'month_mar', 'month_may', 'month_nov', 'month_oct', 'month_sept', 'month_nan', 'cbwd_NE', 'cbwd_NW', 'cbwd_SE', 'cbwd_nan']\n"
     ]
    }
   ],
   "source": [
    "# Mostramos los atributos después del cambio.\n",
    "print(list(data_trans))"
   ]
  },
  {
   "cell_type": "markdown",
   "metadata": {},
   "source": [
    "Un grupo de técnicas de reducción de dimensiones muy desarrollado se centra en la extracción de características. Aunque conceptualmente estos procesos se escapan de este curso introductorio, lo cierto es que es fácil aplicar estas técnicas con sklearn. El lector interesado puede consultar [los ejemplos](http://scikit-learn.org/stable/modules/generated/sklearn.decomposition.PCA.html#examples-using-sklearn-decomposition-pca) de la propia documentación de sklearn."
   ]
  },
  {
   "cell_type": "markdown",
   "metadata": {},
   "source": [
    "# 8. Reducción de muestras\n",
    "\n",
    "Una alternativa sencilla para realizar una reducción de las muestras disponibles consiste en seleccionar de manera aleatoria uniforme un subconjunto de muestras del *dataset*."
   ]
  },
  {
   "cell_type": "code",
   "execution_count": 21,
   "metadata": {},
   "outputs": [
    {
     "name": "stdout",
     "output_type": "stream",
     "text": [
      "43824\n"
     ]
    }
   ],
   "source": [
    "# Mostramos el número de muestras original.\n",
    "print(len(data_trans))"
   ]
  },
  {
   "cell_type": "code",
   "execution_count": 22,
   "metadata": {},
   "outputs": [],
   "source": [
    "# Seleccionamos un 25 % de las muestras de manera aleatoria.\n",
    "sampled_data = data_trans.sample(frac=0.25)"
   ]
  },
  {
   "cell_type": "code",
   "execution_count": 23,
   "metadata": {},
   "outputs": [
    {
     "name": "stdout",
     "output_type": "stream",
     "text": [
      "10956\n"
     ]
    },
    {
     "data": {
      "text/html": [
       "<div>\n",
       "<style scoped>\n",
       "    .dataframe tbody tr th:only-of-type {\n",
       "        vertical-align: middle;\n",
       "    }\n",
       "\n",
       "    .dataframe tbody tr th {\n",
       "        vertical-align: top;\n",
       "    }\n",
       "\n",
       "    .dataframe thead th {\n",
       "        text-align: right;\n",
       "    }\n",
       "</style>\n",
       "<table border=\"1\" class=\"dataframe\">\n",
       "  <thead>\n",
       "    <tr style=\"text-align: right;\">\n",
       "      <th></th>\n",
       "      <th>No</th>\n",
       "      <th>year</th>\n",
       "      <th>day</th>\n",
       "      <th>hour</th>\n",
       "      <th>pm2.5</th>\n",
       "      <th>TEMP</th>\n",
       "      <th>PRES</th>\n",
       "      <th>Iws</th>\n",
       "      <th>Is</th>\n",
       "      <th>Ir</th>\n",
       "      <th>...</th>\n",
       "      <th>month_mar</th>\n",
       "      <th>month_may</th>\n",
       "      <th>month_nov</th>\n",
       "      <th>month_oct</th>\n",
       "      <th>month_sept</th>\n",
       "      <th>month_nan</th>\n",
       "      <th>cbwd_NE</th>\n",
       "      <th>cbwd_NW</th>\n",
       "      <th>cbwd_SE</th>\n",
       "      <th>cbwd_nan</th>\n",
       "    </tr>\n",
       "  </thead>\n",
       "  <tbody>\n",
       "    <tr>\n",
       "      <th>36391</th>\n",
       "      <td>36392</td>\n",
       "      <td>2014</td>\n",
       "      <td>25</td>\n",
       "      <td>7</td>\n",
       "      <td>418.0</td>\n",
       "      <td>-1.0</td>\n",
       "      <td>1.027634</td>\n",
       "      <td>5.36</td>\n",
       "      <td>0</td>\n",
       "      <td>0</td>\n",
       "      <td>...</td>\n",
       "      <td>0</td>\n",
       "      <td>0</td>\n",
       "      <td>0</td>\n",
       "      <td>0</td>\n",
       "      <td>0</td>\n",
       "      <td>0</td>\n",
       "      <td>0</td>\n",
       "      <td>1</td>\n",
       "      <td>0</td>\n",
       "      <td>0</td>\n",
       "    </tr>\n",
       "    <tr>\n",
       "      <th>22338</th>\n",
       "      <td>22339</td>\n",
       "      <td>2012</td>\n",
       "      <td>19</td>\n",
       "      <td>18</td>\n",
       "      <td>138.0</td>\n",
       "      <td>30.0</td>\n",
       "      <td>-1.309592</td>\n",
       "      <td>28.19</td>\n",
       "      <td>0</td>\n",
       "      <td>0</td>\n",
       "      <td>...</td>\n",
       "      <td>0</td>\n",
       "      <td>0</td>\n",
       "      <td>0</td>\n",
       "      <td>0</td>\n",
       "      <td>0</td>\n",
       "      <td>0</td>\n",
       "      <td>0</td>\n",
       "      <td>0</td>\n",
       "      <td>1</td>\n",
       "      <td>0</td>\n",
       "    </tr>\n",
       "    <tr>\n",
       "      <th>33630</th>\n",
       "      <td>33631</td>\n",
       "      <td>2013</td>\n",
       "      <td>2</td>\n",
       "      <td>6</td>\n",
       "      <td>238.0</td>\n",
       "      <td>3.0</td>\n",
       "      <td>0.638097</td>\n",
       "      <td>7.13</td>\n",
       "      <td>0</td>\n",
       "      <td>0</td>\n",
       "      <td>...</td>\n",
       "      <td>0</td>\n",
       "      <td>0</td>\n",
       "      <td>1</td>\n",
       "      <td>0</td>\n",
       "      <td>0</td>\n",
       "      <td>0</td>\n",
       "      <td>0</td>\n",
       "      <td>0</td>\n",
       "      <td>0</td>\n",
       "      <td>1</td>\n",
       "    </tr>\n",
       "    <tr>\n",
       "      <th>24304</th>\n",
       "      <td>24305</td>\n",
       "      <td>2012</td>\n",
       "      <td>9</td>\n",
       "      <td>16</td>\n",
       "      <td>11.0</td>\n",
       "      <td>21.0</td>\n",
       "      <td>-0.238363</td>\n",
       "      <td>76.44</td>\n",
       "      <td>0</td>\n",
       "      <td>0</td>\n",
       "      <td>...</td>\n",
       "      <td>0</td>\n",
       "      <td>0</td>\n",
       "      <td>0</td>\n",
       "      <td>1</td>\n",
       "      <td>0</td>\n",
       "      <td>0</td>\n",
       "      <td>0</td>\n",
       "      <td>1</td>\n",
       "      <td>0</td>\n",
       "      <td>0</td>\n",
       "    </tr>\n",
       "    <tr>\n",
       "      <th>20694</th>\n",
       "      <td>20695</td>\n",
       "      <td>2012</td>\n",
       "      <td>12</td>\n",
       "      <td>6</td>\n",
       "      <td>131.0</td>\n",
       "      <td>15.0</td>\n",
       "      <td>-0.530517</td>\n",
       "      <td>3.13</td>\n",
       "      <td>0</td>\n",
       "      <td>8</td>\n",
       "      <td>...</td>\n",
       "      <td>0</td>\n",
       "      <td>1</td>\n",
       "      <td>0</td>\n",
       "      <td>0</td>\n",
       "      <td>0</td>\n",
       "      <td>0</td>\n",
       "      <td>0</td>\n",
       "      <td>0</td>\n",
       "      <td>1</td>\n",
       "      <td>0</td>\n",
       "    </tr>\n",
       "  </tbody>\n",
       "</table>\n",
       "<p>5 rows × 27 columns</p>\n",
       "</div>"
      ],
      "text/plain": [
       "          No  year  day  hour  pm2.5  TEMP      PRES    Iws  Is  Ir  ...  \\\n",
       "36391  36392  2014   25     7  418.0  -1.0  1.027634   5.36   0   0  ...   \n",
       "22338  22339  2012   19    18  138.0  30.0 -1.309592  28.19   0   0  ...   \n",
       "33630  33631  2013    2     6  238.0   3.0  0.638097   7.13   0   0  ...   \n",
       "24304  24305  2012    9    16   11.0  21.0 -0.238363  76.44   0   0  ...   \n",
       "20694  20695  2012   12     6  131.0  15.0 -0.530517   3.13   0   8  ...   \n",
       "\n",
       "       month_mar  month_may  month_nov  month_oct  month_sept  month_nan  \\\n",
       "36391          0          0          0          0           0          0   \n",
       "22338          0          0          0          0           0          0   \n",
       "33630          0          0          1          0           0          0   \n",
       "24304          0          0          0          1           0          0   \n",
       "20694          0          1          0          0           0          0   \n",
       "\n",
       "       cbwd_NE  cbwd_NW  cbwd_SE  cbwd_nan  \n",
       "36391        0        1        0         0  \n",
       "22338        0        0        1         0  \n",
       "33630        0        0        0         1  \n",
       "24304        0        1        0         0  \n",
       "20694        0        0        1         0  \n",
       "\n",
       "[5 rows x 27 columns]"
      ]
     },
     "execution_count": 23,
     "metadata": {},
     "output_type": "execute_result"
    }
   ],
   "source": [
    "# Mostramos el número de muestras seleccionado.\n",
    "print(len(sampled_data))\n",
    "\n",
    "# Mostramos las cinco primeras muestras seleccionadas.\n",
    "sampled_data.head(n=5)"
   ]
  },
  {
   "cell_type": "markdown",
   "metadata": {},
   "source": [
    "Notad que el *dataframe* conserva el número de atributos original, pero solo contiene un 25 % de las muestras originales."
   ]
  },
  {
   "cell_type": "markdown",
   "metadata": {},
   "source": [
    "# 9. Discretización\n",
    "\n",
    "En ocasiones nos interesará convertir un atributo continuo en uno de discreto. Una manera de hacerlo es divir el espacio de posibles valores que toma el atributo en `n` _bins_ o intervalos del mismo tamaño y asignar cada muestra al intervalo al que pertenece. Veamos un ejemplo discretizando el atributo `Iws` en cinco intervalos del mismo tamaño."
   ]
  },
  {
   "cell_type": "code",
   "execution_count": 24,
   "metadata": {},
   "outputs": [
    {
     "data": {
      "text/plain": [
       "count    43824.000000\n",
       "mean        23.889140\n",
       "std         50.010635\n",
       "min          0.450000\n",
       "25%          1.790000\n",
       "50%          5.370000\n",
       "75%         21.910000\n",
       "max        585.600000\n",
       "Name: Iws, dtype: float64"
      ]
     },
     "execution_count": 24,
     "metadata": {},
     "output_type": "execute_result"
    }
   ],
   "source": [
    "# Observamos los estadísticos básicos del atributo \"Iws\".\n",
    "data_trans[\"Iws\"].describe()"
   ]
  },
  {
   "cell_type": "code",
   "execution_count": 25,
   "metadata": {},
   "outputs": [],
   "source": [
    "# Creamos un nuevo atributo \"Iws_disc\" que contiene la discretización de \"Iws\".\n",
    "data_trans[\"Iws_disc\"] = pd.cut(data_trans[\"Iws\"], 5)"
   ]
  },
  {
   "cell_type": "code",
   "execution_count": 26,
   "metadata": {},
   "outputs": [
    {
     "data": {
      "text/html": [
       "<div>\n",
       "<style scoped>\n",
       "    .dataframe tbody tr th:only-of-type {\n",
       "        vertical-align: middle;\n",
       "    }\n",
       "\n",
       "    .dataframe tbody tr th {\n",
       "        vertical-align: top;\n",
       "    }\n",
       "\n",
       "    .dataframe thead th {\n",
       "        text-align: right;\n",
       "    }\n",
       "</style>\n",
       "<table border=\"1\" class=\"dataframe\">\n",
       "  <thead>\n",
       "    <tr style=\"text-align: right;\">\n",
       "      <th></th>\n",
       "      <th>Iws</th>\n",
       "      <th>Iws_disc</th>\n",
       "    </tr>\n",
       "  </thead>\n",
       "  <tbody>\n",
       "    <tr>\n",
       "      <th>80</th>\n",
       "      <td>80.90</td>\n",
       "      <td>(-0.135, 117.48]</td>\n",
       "    </tr>\n",
       "    <tr>\n",
       "      <th>81</th>\n",
       "      <td>90.73</td>\n",
       "      <td>(-0.135, 117.48]</td>\n",
       "    </tr>\n",
       "    <tr>\n",
       "      <th>82</th>\n",
       "      <td>100.56</td>\n",
       "      <td>(-0.135, 117.48]</td>\n",
       "    </tr>\n",
       "    <tr>\n",
       "      <th>83</th>\n",
       "      <td>108.61</td>\n",
       "      <td>(-0.135, 117.48]</td>\n",
       "    </tr>\n",
       "    <tr>\n",
       "      <th>84</th>\n",
       "      <td>117.55</td>\n",
       "      <td>(117.48, 234.51]</td>\n",
       "    </tr>\n",
       "    <tr>\n",
       "      <th>85</th>\n",
       "      <td>127.38</td>\n",
       "      <td>(117.48, 234.51]</td>\n",
       "    </tr>\n",
       "    <tr>\n",
       "      <th>86</th>\n",
       "      <td>136.32</td>\n",
       "      <td>(117.48, 234.51]</td>\n",
       "    </tr>\n",
       "    <tr>\n",
       "      <th>87</th>\n",
       "      <td>145.26</td>\n",
       "      <td>(117.48, 234.51]</td>\n",
       "    </tr>\n",
       "    <tr>\n",
       "      <th>88</th>\n",
       "      <td>152.41</td>\n",
       "      <td>(117.48, 234.51]</td>\n",
       "    </tr>\n",
       "    <tr>\n",
       "      <th>89</th>\n",
       "      <td>159.56</td>\n",
       "      <td>(117.48, 234.51]</td>\n",
       "    </tr>\n",
       "    <tr>\n",
       "      <th>90</th>\n",
       "      <td>165.37</td>\n",
       "      <td>(117.48, 234.51]</td>\n",
       "    </tr>\n",
       "  </tbody>\n",
       "</table>\n",
       "</div>"
      ],
      "text/plain": [
       "       Iws          Iws_disc\n",
       "80   80.90  (-0.135, 117.48]\n",
       "81   90.73  (-0.135, 117.48]\n",
       "82  100.56  (-0.135, 117.48]\n",
       "83  108.61  (-0.135, 117.48]\n",
       "84  117.55  (117.48, 234.51]\n",
       "85  127.38  (117.48, 234.51]\n",
       "86  136.32  (117.48, 234.51]\n",
       "87  145.26  (117.48, 234.51]\n",
       "88  152.41  (117.48, 234.51]\n",
       "89  159.56  (117.48, 234.51]\n",
       "90  165.37  (117.48, 234.51]"
      ]
     },
     "execution_count": 26,
     "metadata": {},
     "output_type": "execute_result"
    }
   ],
   "source": [
    "# Visualizamos el contenido de los atributos \"Iws\" y \"Iws_disc\" para un subconjunto de muestras \n",
    "# para observar el resultado.\n",
    "data_trans.loc[80:90, [\"Iws\", \"Iws_disc\"]]"
   ]
  },
  {
   "cell_type": "markdown",
   "metadata": {},
   "source": [
    "Por defecto la función `cut` utiliza el intervalo como valor del nuevo atributo. Podemos asignar valores arbitrarios al nuevo atributo, por ejemplo:"
   ]
  },
  {
   "cell_type": "code",
   "execution_count": 27,
   "metadata": {},
   "outputs": [],
   "source": [
    "# Designamos cinco nombres para los intervalos.\n",
    "group_names = ['Very Low', 'Low', 'Medium', 'High', 'Very High']"
   ]
  },
  {
   "cell_type": "code",
   "execution_count": 28,
   "metadata": {},
   "outputs": [],
   "source": [
    "# Creamos un nuevo atributo \"Iws_disc_named\" discretizando de nuevo \"Iws\" con 5 intervalos\n",
    "# del mismo tamaño pero usando ahora las etiquetas definidas.\n",
    "data_trans[\"Iws_disc_named\"] = pd.cut(data_trans[\"Iws\"], 5, labels = group_names)"
   ]
  },
  {
   "cell_type": "code",
   "execution_count": 29,
   "metadata": {},
   "outputs": [
    {
     "data": {
      "text/html": [
       "<div>\n",
       "<style scoped>\n",
       "    .dataframe tbody tr th:only-of-type {\n",
       "        vertical-align: middle;\n",
       "    }\n",
       "\n",
       "    .dataframe tbody tr th {\n",
       "        vertical-align: top;\n",
       "    }\n",
       "\n",
       "    .dataframe thead th {\n",
       "        text-align: right;\n",
       "    }\n",
       "</style>\n",
       "<table border=\"1\" class=\"dataframe\">\n",
       "  <thead>\n",
       "    <tr style=\"text-align: right;\">\n",
       "      <th></th>\n",
       "      <th>Iws</th>\n",
       "      <th>Iws_disc</th>\n",
       "      <th>Iws_disc_named</th>\n",
       "    </tr>\n",
       "  </thead>\n",
       "  <tbody>\n",
       "    <tr>\n",
       "      <th>80</th>\n",
       "      <td>80.90</td>\n",
       "      <td>(-0.135, 117.48]</td>\n",
       "      <td>Very Low</td>\n",
       "    </tr>\n",
       "    <tr>\n",
       "      <th>81</th>\n",
       "      <td>90.73</td>\n",
       "      <td>(-0.135, 117.48]</td>\n",
       "      <td>Very Low</td>\n",
       "    </tr>\n",
       "    <tr>\n",
       "      <th>82</th>\n",
       "      <td>100.56</td>\n",
       "      <td>(-0.135, 117.48]</td>\n",
       "      <td>Very Low</td>\n",
       "    </tr>\n",
       "    <tr>\n",
       "      <th>83</th>\n",
       "      <td>108.61</td>\n",
       "      <td>(-0.135, 117.48]</td>\n",
       "      <td>Very Low</td>\n",
       "    </tr>\n",
       "    <tr>\n",
       "      <th>84</th>\n",
       "      <td>117.55</td>\n",
       "      <td>(117.48, 234.51]</td>\n",
       "      <td>Low</td>\n",
       "    </tr>\n",
       "    <tr>\n",
       "      <th>85</th>\n",
       "      <td>127.38</td>\n",
       "      <td>(117.48, 234.51]</td>\n",
       "      <td>Low</td>\n",
       "    </tr>\n",
       "    <tr>\n",
       "      <th>86</th>\n",
       "      <td>136.32</td>\n",
       "      <td>(117.48, 234.51]</td>\n",
       "      <td>Low</td>\n",
       "    </tr>\n",
       "    <tr>\n",
       "      <th>87</th>\n",
       "      <td>145.26</td>\n",
       "      <td>(117.48, 234.51]</td>\n",
       "      <td>Low</td>\n",
       "    </tr>\n",
       "    <tr>\n",
       "      <th>88</th>\n",
       "      <td>152.41</td>\n",
       "      <td>(117.48, 234.51]</td>\n",
       "      <td>Low</td>\n",
       "    </tr>\n",
       "    <tr>\n",
       "      <th>89</th>\n",
       "      <td>159.56</td>\n",
       "      <td>(117.48, 234.51]</td>\n",
       "      <td>Low</td>\n",
       "    </tr>\n",
       "    <tr>\n",
       "      <th>90</th>\n",
       "      <td>165.37</td>\n",
       "      <td>(117.48, 234.51]</td>\n",
       "      <td>Low</td>\n",
       "    </tr>\n",
       "  </tbody>\n",
       "</table>\n",
       "</div>"
      ],
      "text/plain": [
       "       Iws          Iws_disc Iws_disc_named\n",
       "80   80.90  (-0.135, 117.48]       Very Low\n",
       "81   90.73  (-0.135, 117.48]       Very Low\n",
       "82  100.56  (-0.135, 117.48]       Very Low\n",
       "83  108.61  (-0.135, 117.48]       Very Low\n",
       "84  117.55  (117.48, 234.51]            Low\n",
       "85  127.38  (117.48, 234.51]            Low\n",
       "86  136.32  (117.48, 234.51]            Low\n",
       "87  145.26  (117.48, 234.51]            Low\n",
       "88  152.41  (117.48, 234.51]            Low\n",
       "89  159.56  (117.48, 234.51]            Low\n",
       "90  165.37  (117.48, 234.51]            Low"
      ]
     },
     "execution_count": 29,
     "metadata": {},
     "output_type": "execute_result"
    }
   ],
   "source": [
    "# Visualizamos el contenido de los atributos \"Iws\", \"Iws_disc\" y \"Iws_disc_named\" \n",
    "# para un subconjunto de muestras para observar el resultado.\n",
    "data_trans.loc[80:90, [\"Iws\", \"Iws_disc\", \"Iws_disc_named\"]]"
   ]
  },
  {
   "cell_type": "markdown",
   "metadata": {},
   "source": [
    "# 10. Ejercicios y preguntas teóricas\n",
    "\n",
    "La parte evaluable de esta unidad consiste en la entrega de un fichero Notebook con extensión «.ipynb» que contendrá los diferentes ejercicios y las preguntas teóricas que hay que contestar. Encontraréis el archivo (`prog_datasci_6_preproc_entrega.ipynb`) con las actividades en la misma carpeta que este notebook que estáis leyendo.\n",
    "\n",
    "## 10.1. Instrucciones importantes\n",
    "\n",
    "Es muy importante que a la hora de entregar el archivo Notebook con vuestras actividades os aseguréis de que:\n",
    "\n",
    "1. Vuestras soluciones sean originales. Esperamos no detectar copia directa entre estudiantes.\n",
    "2. Todo el código esté correctamente documentado. El código sin documentar equivaldrá a un 0.\n",
    "3. El archivo comprimido que entreguéis es correcto (contiene las actividades de la PEC que queréis entregar).\n",
    "\n",
    "Para hacer la entrega, comprimid el archivo `prog_datasci_6_preproc_entrega.ipynb` desde la terminal de la máquina virtual (utilizad vuestro nombre y apellido) y subid el archivo `nombre_apellido_pec6.tgz` al campus virtual:\n",
    "\n",
    "```\n",
    "$ cd /home/datasci/prog_datasci_1/prog_datasci_6\n",
    "$ tar zcvf nombre_apellido_pec6.tgz prog_datasci_6_preproc_entrega.ipynb\n",
    "```\n",
    "\n",
    "## 10.2 Solución\n",
    "\n",
    "Para descargar la solución de la actividad (a partir de la fecha indicada en el aula), desde la máquina virtual, abrid una terminal y ejecutad el script `get_sol_pec.sh`:\n",
    "\n",
    "```\n",
    "datasci@datasci:~$ get_sol_pec.sh \n",
    "Please type the number of the activity you want to download: 6\n",
    "Please select the language you want to use: type 0 for Catalan, 1 for Spanish 1\n",
    "Downloading PEC 6 in SPANISH\n",
    "Cloning into 'prog_datasci_sol_6'...\n",
    "remote: Enumerating objects: 26, done.\n",
    "remote: Counting objects: 100% (26/26), done.\n",
    "remote: Compressing objects: 100% (26/26), done.\n",
    "remote: Total 26 (delta 9), reused 0 (delta 0)\n",
    "Unpacking objects: 100% (26/26), done.\n",
    "OK! Files downloaded in /home/datasci/prog_datasci_1/prog_datasci_sol_6\n",
    "```\n",
    "\n",
    "Una vez descargada la solución, podéis ejecutar el servidor como ya explicamos (mediante el script `start_uoc.sh`) y acceder a su contenido.\n",
    "\n",
    "# 11. Bibliografía\n",
    "\n",
    "* Documentación del paquete preprocessing de la librería Sklearn: http://scikit-learn.org/stable/modules/preprocessing.html\n",
    "* Tutorial sobre escalado con la librería Sklearn: https://scikit-learn.org/0.18/auto_examples/preprocessing/plot_robust_scaling.html\n",
    "* Libro sobre técnicas de preprocesamiento de datos: García, Salvador; Luengo, Julián; Herrera, Francisco. (2015). Fecha preprocessing in data mining. Nueva York: Springer."
   ]
  }
 ],
 "metadata": {
  "kernelspec": {
   "display_name": "Python 3",
   "language": "python",
   "name": "python3"
  },
  "language_info": {
   "codemirror_mode": {
    "name": "ipython",
    "version": 3
   },
   "file_extension": ".py",
   "mimetype": "text/x-python",
   "name": "python",
   "nbconvert_exporter": "python",
   "pygments_lexer": "ipython3",
   "version": "3.8.2"
  }
 },
 "nbformat": 4,
 "nbformat_minor": 1
}
