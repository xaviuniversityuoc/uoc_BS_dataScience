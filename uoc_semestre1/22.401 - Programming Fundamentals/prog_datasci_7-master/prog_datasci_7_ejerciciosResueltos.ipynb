{
 "cells": [
  {
   "cell_type": "markdown",
   "metadata": {},
   "source": [
    "<div style=\"width: 100%; clear: both;\">\n",
    "    <div style=\"float: left; width: 50%;\">\n",
    "       <img src=\"http://www.uoc.edu/portal/_resources/common/imatges/marca_UOC/UOC_Masterbrand.jpg\", align=\"left\">\n",
    "    </div>\n",
    "</div>\n",
    "\n",
    "<div style=\"float: right; width: 50%;\">\n",
    "    <p style=\"margin: 0; padding-top: 22px; text-align:right;\">22.401 · Fonaments de Programació</p>\n",
    "    <p style=\"margin: 0; text-align:right;\">Grau en Ciència de Dades Aplicada</p>\n",
    "    <p style=\"margin: 0; text-align:right; padding-button: 100px;\">Estudis d'Informàtica, Multimèdia i Telecomunicació</p>\n",
    "</div>\n",
    "\n",
    "</div>\n",
    "<div style=\"width: 100%; clear: both;\">\n",
    "<div style=\"width:100%;\">&nbsp;</div>"
   ]
  },
  {
   "cell_type": "markdown",
   "metadata": {},
   "source": [
    "# Programación para *Data Science*"
   ]
  },
  {
   "cell_type": "markdown",
   "metadata": {},
   "source": [
    "Unidad 7: Análisis de datos en Python\n",
    "------------------------------------------------------\n",
    "\n"
   ]
  },
  {
   "cell_type": "markdown",
   "metadata": {},
   "source": [
    "\n",
    "En este Notebook encontraréis un conjunto de ejercicios para practicar. Estos ejercicios no puntúan para la PEC, pero os recomendamos que los intentís resolver como parte del proceso de aprendizaje. Encontraréis ejemplos de posibles soluciones a los ejercicios en el propio notebook, pero es importante que intentéis resolverlos vosotros antes de consultar las soluciones. Las soluciones os permitirán validar vuestras respuestas, así como ver alternativas de resolución de las actividades. También os animamos a preguntar cualquier duda que surja sobre la resolución de las actividades para practicar en el foro del aula.\n",
    "\n",
    "----\n",
    "## Preguntas y ejercicios para practicar"
   ]
  },
  {
   "cell_type": "markdown",
   "metadata": {},
   "source": [
    "## Pregunta 1\n",
    "\n",
    "Investiga y describe el funcionamiento del método de cross-validation *Leave One Out*. Pon un ejemplo de aplicación del algoritmo para resolver un problema de análisis en el ámbito de la salud. Recordad que hay que citar las referencias consultadas para responder la pregunta, y que la respuesta que proporcionéis debe ser original (redactada por vosotros mismos, después de haber leído y entendido las referencias que consideréis oportunas)."
   ]
  },
  {
   "cell_type": "markdown",
   "metadata": {},
   "source": [
    "#### Respuesta\n"
   ]
  },
  {
   "cell_type": "markdown",
   "metadata": {},
   "source": [
    "## Pregunta 2"
   ]
  },
  {
   "cell_type": "markdown",
   "metadata": {},
   "source": [
    "Debemos evitar evaluar los modelos con los mismos datos que se han utilizado para el aprendizaje. De no hacerlo, podríamos favorecer el problema del **sobre-ajuste**. ¿En qué consiste este problema y qué consecuencias puede tener?"
   ]
  },
  {
   "cell_type": "markdown",
   "metadata": {},
   "source": [
    "#### Respuesta\n"
   ]
  },
  {
   "cell_type": "markdown",
   "metadata": {},
   "source": [
    "   ## Ejercicio 1\n",
    "\n",
    "Cargad el conjunto de datos Iris incorporado en la librería `sklearn`.  Implementad una función, `describe_iris`, que devuelva un diccionario con la siguiente estructura: \n",
    "```\n",
    "{\n",
    "   \"categorias\": [],\n",
    "   \"atributos\": [],\n",
    "   \"num_muestras\": 0\n",
    "}\n",
    "```\n",
    "*categorias* debe ser un array con el nombre de los **targets** del dataset. *atributos* debe ser un array con el nombre de los **atributos** y finalmente, *num_muestras* debe indicar el número **total de muestras** del dataset. "
   ]
  },
  {
   "cell_type": "code",
   "execution_count": 1,
   "metadata": {},
   "outputs": [],
   "source": [
    "# Respuesta"
   ]
  },
  {
   "cell_type": "markdown",
   "metadata": {},
   "source": [
    "## Ejercicio 2\n",
    "\n",
    "Representad gráficamente en un scatter plot la longitud de los sépalos frente al ancho de los sépalos. \n",
    "Nota: para poder incluir acentos en los textos de las etiquetas o del título del plot, es necesario indicar explícitamente que las cadenas de caracteres son unicode. Podéis hacerlo incluyendo una _u_ delante de las comillas que delimitan la cadena de caracteres.\n"
   ]
  },
  {
   "cell_type": "code",
   "execution_count": 2,
   "metadata": {},
   "outputs": [],
   "source": [
    "# Respuesta"
   ]
  },
  {
   "cell_type": "markdown",
   "metadata": {},
   "source": [
    "## Ejercicio 3"
   ]
  },
  {
   "cell_type": "markdown",
   "metadata": {},
   "source": [
    "Dividir los datos Iris en dos subconjuntos, datos de entrenamiento y test, en una proporción 70% entrenamiento y 30% test."
   ]
  },
  {
   "cell_type": "code",
   "execution_count": 3,
   "metadata": {},
   "outputs": [],
   "source": [
    "# Respuesta"
   ]
  },
  {
   "cell_type": "markdown",
   "metadata": {},
   "source": [
    "## Ejercicio 4"
   ]
  },
  {
   "cell_type": "markdown",
   "metadata": {},
   "source": [
    "Aplicad el clasificador **KNeighborsClassifier** para predecir el tipo de especie de iris utilizando la longitud y ancho de los pétalos como atributos y utilizando 60% de las muestras de aprendizaje y 40% muestras de test (podéis usar cualquier partición de muestras de aprendizaje y de test).\n",
    "\n",
    "¿Qué rendimiento se obtiene?"
   ]
  },
  {
   "cell_type": "code",
   "execution_count": 4,
   "metadata": {},
   "outputs": [],
   "source": [
    "#Respuesta"
   ]
  },
  {
   "cell_type": "markdown",
   "metadata": {},
   "source": [
    "## Ejercicio 5\n",
    "\n",
    "Aplicad el algoritmo de _clustering KMeans_ tal como hemos visto en el Notebook de teoría, pero esta vez utilizando los siguientes parámetros:\n",
    "\n",
    "```\n",
    "Número de clusters: 10\n",
    "Método de inicialización de los puntos centrales: 'random'\n",
    "Número de iteraciones para la selección de puntos centrales: 5\n",
    "Algoritmo: 'elkan'\n",
    "```\n",
    "\n",
    "Visualizad gráficamente el resultado. Si los datos fuesen [dispersos](https://en.wikipedia.org/wiki/Sparse_matrix), ¿qué opción del parámetro _alg_ de la función _sklearn.cluster.KMeans_ deberíamos utilizar?"
   ]
  },
  {
   "cell_type": "code",
   "execution_count": 5,
   "metadata": {},
   "outputs": [],
   "source": [
    "#Respuesta"
   ]
  },
  {
   "cell_type": "markdown",
   "metadata": {},
   "source": [
    "## Ejercicio 6"
   ]
  },
  {
   "cell_type": "markdown",
   "metadata": {},
   "source": [
    "En los siguientes ejercicios usaremos el conjunto de datos del dataset `breast_cancer` de *sklearn*. Crea una tabla con los estadísticos descriptivos de todas las características de los tumores de la base de datos `breast_cancer` agrupados por tipo (benigno/maligno).\n",
    "\n",
    "Realizad un test estadístico [ttest](https://docs.scipy.org/doc/scipy/reference/generated/scipy.stats.ttest_ind.html) para comparar el error de la simetría (*symmetry error*) y tersura (*mean smoothness*) de los tumores benignos con las de los malignos. Dado el resultado obtenido, indica qué características podrían ser más relevantes para diagnosticar un tumor maligno.\n",
    "\n",
    "Nota: Consulta este [enlace](http://www.conexionismo.com/leer_articulo.php?ref=prueba_t_de_student_para_la_comparacion_de_dos_muestras_independientes-j960497l) si quieres ampliar conocimientos sobre el test estadístico ttest. Para realizar el test estadístico automáticamente podéis utilizar el método [`ttest_ind`](https://docs.scipy.org/doc/scipy/reference/generated/scipy.stats.ttest_ind.html) de *Scipy.stats*\n"
   ]
  },
  {
   "cell_type": "code",
   "execution_count": 6,
   "metadata": {},
   "outputs": [],
   "source": [
    "# Respuesta\n"
   ]
  },
  {
   "cell_type": "markdown",
   "metadata": {},
   "source": [
    "#### Respuesta\n"
   ]
  },
  {
   "cell_type": "markdown",
   "metadata": {},
   "source": [
    "## Ejercicio 7"
   ]
  },
  {
   "cell_type": "markdown",
   "metadata": {},
   "source": [
    "Representar mediante [boxplots] (https://en.wikipedia.org/wiki/Boxplots) como varían la textura, el area, la concavidad y la simetría de los tumores según el tipo (*maligna / benigna*). Recuerda ajustar los parámetros de la visualización para facilitar la lectura e interpretación de la gráfica que generen.\n",
    "\n",
    "Nota: Crea un dataframe con los datos de `diagnostics.data` i `diagnostics.target` para dibujar los boxplots."
   ]
  },
  {
   "cell_type": "code",
   "execution_count": 7,
   "metadata": {},
   "outputs": [],
   "source": [
    "# Importamos las librerías\n",
    "\n",
    "import numpy as np \n",
    "import pandas as pd \n",
    "import seaborn as sns  # librería opcional\n",
    "import matplotlib.pyplot as plt \n",
    "from sklearn import datasets \n",
    "\n",
    "# Importamos el dataset\n",
    "diagnostics = datasets.load_breast_cancer()"
   ]
  },
  {
   "cell_type": "code",
   "execution_count": 8,
   "metadata": {},
   "outputs": [],
   "source": [
    "## Respuesta\n"
   ]
  },
  {
   "cell_type": "markdown",
   "metadata": {},
   "source": [
    "## Ejercicio 8"
   ]
  },
  {
   "cell_type": "markdown",
   "metadata": {},
   "source": [
    "El objetivo de un modelo de **regresión lineal** es encontrar una relación entre una o más características (variables independientes) y una variable objetivo continua (variable dependiente). Cuando sólo usamos una característica predictiva se le llama **Regresión Lineal Univariada** y si hay múltiples predictores se llama **Regresión Lineal Múltiple**.\n",
    "\n",
    "Cuando la variable dependiente es una variable binaria que contiene datos codificados como 1 (sí, éxito, etc.) o 0 (no, fallo, etc.), como es el caso del dataset `breast_cancer`, tendremos que emplear una [regresión logística](https://ca.wikipedia.org/wiki/Regressi%C3%B3_log%C3%ADstica).\n",
    "\n",
    "Crea un modelo de regresión logística que estime la probabilidad de que un tumor sea maligno dada su área y su textura. Muestra la [matriz de confusión](https://ca.wikipedia.org/wiki/Matriu_de_confusi%C3%B3) del modelo obtenido.\n",
    "\n",
    "Nota: Quizás te interesa explorar la función [sklearn.metrics.confusion_matrix()](https://scikit-learn.org/stable/modules/generated/sklearn.metrics.confusion_matrix.html)"
   ]
  },
  {
   "cell_type": "code",
   "execution_count": 9,
   "metadata": {},
   "outputs": [],
   "source": [
    "# Respuesta\n"
   ]
  },
  {
   "cell_type": "markdown",
   "metadata": {},
   "source": [
    "## Ejercicio 9"
   ]
  },
  {
   "cell_type": "markdown",
   "metadata": {},
   "source": [
    "El **Multi-layer Perceptron (MLP)** es un algoritmo de aprendizaje supervisado que aprende una función mediante el entrenamiento de un modelo que asocia n dimensiones de entrada (*predictores*) con dimensiones de salida (*targets*). Teniendo en cuenta un conjunto de funciones y un objetivo, puede aprender un aproximador de funciones no lineales por clasificación o regresión. Es diferente de la regresión logística, ya que entre la capa de entrada y la de salida, puede haber una o más capas no lineales, llamadas capas ocultas.\n",
    "\n",
    "Aplica un clasificador basado en un MLP para predecir los tipos de tumor utilizando el área, la textura, la simetría y la concavidad, como atributos y utilizando el 70% de las muestras de entrenamiento y el 30% de test. Debéis utilizar la función [sklearn.neural_network.MLPClassifier](https://scikit-learn.org/stable/modules/neural_networks_supervised.html).\n",
    "\n",
    "Utiliza tres niveles (*layers*) con 30 neuronas por nivel. ¿Qué valor de precisión obtenemos en un modelo basado en un MLP?"
   ]
  },
  {
   "cell_type": "code",
   "execution_count": 10,
   "metadata": {},
   "outputs": [],
   "source": [
    "# Respuesta\n"
   ]
  },
  {
   "cell_type": "markdown",
   "metadata": {},
   "source": [
    "#### Respuesta\n"
   ]
  },
  {
   "cell_type": "markdown",
   "metadata": {},
   "source": [
    "##  Soluciones ejercicios para practicar\n"
   ]
  },
  {
   "cell_type": "markdown",
   "metadata": {},
   "source": [
    "## Pregunta 1\n",
    "\n",
    "Investiga y describe el funcionamiento del método de cross-validation *Leave One Out*. Pon un ejemplo de aplicación del algoritmo para resolver un problema de análisis en el ámbito de la salud. Recordad que hay que citar las referencias consultadas para responder la pregunta, y que la respuesta que proporcionéis debe ser original (redactada por vosotros mismos, después de haber leído y entendido las referencias que consideréis oportunas)."
   ]
  },
  {
   "cell_type": "markdown",
   "metadata": {},
   "source": [
    "#### Respuesta\n",
    "\n",
    "La validación cruzada Leave-one-out es esencialmente una estimación del rendimiento de generalización de un modelo entrenado en 𝑛 − 1 muestras de datos, que generalmente es una estimación ligeramente pesimista del rendimiento de un modelo entrenado en 𝑛 muestras. Es mejor pensar en la validación cruzada como una forma de estimar el rendimiento de generalización de los modelos generados por un procedimiento particular, en lugar del modelo en sí. Por ejemplo, imaginemos que estamos creando un modelo predictivo del tipo del tipo de melanoma (alto o bajo riesgo) y tenemos una muestra relativamente pequeña (1000 observaciones) que incluyen 3 parámetros descriptivos del melanoma y su nivel de riesgo (alto o bajo). Podemos ajustar el modelo usando 999 de las 1000 observaciones para después evaluar su rendimiento dada la observación que hemos dejado fuera del set de entrenamiento. En este caso, podemos repetir este método hasta 999 veces, para estimar un redimiento medio del modelo."
   ]
  },
  {
   "cell_type": "markdown",
   "metadata": {},
   "source": [
    "## Pregunta 2\n",
    "\n",
    "Debemos evitar evaluar los modelos con los mismos datos que se han utilizado para el aprendizaje. De no hacerlo, podríamos favorecer el problema del **sobre-ajuste**. ¿En qué consiste este problema y qué consecuencias puede tener?"
   ]
  },
  {
   "cell_type": "markdown",
   "metadata": {},
   "source": [
    "#### Respuesta\n",
    "\n",
    "El exceso de ajuste de un modelo es un error de modelado que se produce cuando una función se ajusta demasiado a un conjunto limitado de puntos de datos. Por tanto, sólo supone un problema en los modelos de aprendizaje supervisado. Una de las consecuencias del sobre-ajuste es que el modelo toma una forma demasiado compleja para explicar la idiosincrasia a los datos objeto de estudio y dificilmente generaliza a nuevas muestras de datos. La **generalización** es un término utilizado para describir la capacidad del modelo de reaccionar ante los nuevos datos. Es decir, después de ser entrenado en un entrenamiento, un modelo puede digerir datos nuevos y hacer predicciones precisas. La capacidad del modelo para generalizarse es esencial para el éxito de un modelo. Si un modelo se ha formado demasiado bien sobre datos de formación, no podrá generalizarse. Hará predicciones inexactas cuando se den nuevos datos, y hará que el modelo sea inútil aunque sea capaz de hacer predicciones precisas para los datos de formación. De eso se llama sobre-ajuste (*overfitting*).\n",
    "\n",
    "Uno de los métodos más utilizados para evaluar el problema del sobre-ajuste llama **cross-validation**. Es un modelo de validación de modelos para evaluar cómo se generalizan los resultados del análisis estadístico (modelo) a un conjunto de datos independiente. Se utiliza principalmente en los parámetros donde el objetivo es la predicción y se quiere estimar con exactitud como comportará un modelo predictivo a la práctica. En cuanto hacemos cross-validación, destinaremos una parte de los datos a hacer el entrenamiento del modelo y la otra parte la reservaremos para evaluar el rendimiento del modelo aprendido.\n"
   ]
  },
  {
   "cell_type": "markdown",
   "metadata": {},
   "source": [
    "   ## Ejercicio 1\n",
    "\n",
    "Cargad el conjunto de datos Iris incorporado en la librería `sklearn`.  Implementad una función, `describe_iris`, que devuelva un diccionario con la siguiente estructura: \n",
    "```\n",
    "{\n",
    "   \"categorias\": [],\n",
    "   \"atributos\": [],\n",
    "   \"num_muestras\": 0\n",
    "}\n",
    "```\n",
    "*categorias* debe ser un array con el nombre de los **targets** del dataset. *atributos* debe ser un array con el nombre de los **atributos** y finalmente, *num_muestras* debe indicar el número **total de muestras** del dataset. "
   ]
  },
  {
   "cell_type": "code",
   "execution_count": 12,
   "metadata": {},
   "outputs": [
    {
     "name": "stdout",
     "output_type": "stream",
     "text": [
      "{'categorias': array(['setosa', 'versicolor', 'virginica'], dtype='<U10'), 'atributos': ['sepal length (cm)', 'sepal width (cm)', 'petal length (cm)', 'petal width (cm)'], 'num_muestras': 150}\n"
     ]
    }
   ],
   "source": [
    "from sklearn import datasets\n",
    "\n",
    "#Cargamos el dataset de iris\n",
    "\n",
    "iris = datasets.load_iris()\n",
    "\n",
    "def describe_iris():\n",
    "    #Inicializamos el diccionario\n",
    "    diccionario = {}\n",
    "    #Asignamos a cada atributo el valor correspondiente en base al dataset Iris\n",
    "    diccionario[\"categorias\"] = iris.target_names\n",
    "    diccionario[\"atributos\"] = iris.feature_names\n",
    "    diccionario[\"num_muestras\"] = len(iris.data)\n",
    "    \n",
    "    return diccionario\n",
    "\n",
    "print (describe_iris())"
   ]
  },
  {
   "cell_type": "markdown",
   "metadata": {},
   "source": [
    "## Ejercicio 2"
   ]
  },
  {
   "cell_type": "markdown",
   "metadata": {},
   "source": [
    "Representad gráficamente en un scatter plot la longitud de los sépalos frente al ancho de los sépalos. \n",
    "Nota: para poder incluir acentos en los textos de las etiquetas o del título del plot, es necesario indicar explícitamente que las cadenas de caracteres son unicode. Podéis hacerlo incluyendo una u delante de las comillas que delimitan la cadena de caracteres."
   ]
  },
  {
   "cell_type": "code",
   "execution_count": 13,
   "metadata": {},
   "outputs": [
    {
     "data": {
      "text/plain": [
       "Text(0, 0.5, 'Ancho Sépalo')"
      ]
     },
     "execution_count": 13,
     "metadata": {},
     "output_type": "execute_result"
    },
    {
     "data": {
      "image/png": "[encoded data removed]",
      "text/plain": [
       "<Figure size 576x432 with 1 Axes>"
      ]
     },
     "metadata": {
      "needs_background": "light"
     },
     "output_type": "display_data"
    }
   ],
   "source": [
    "%matplotlib inline\n",
    "\n",
    "#Importamos las librerías\n",
    "\n",
    "import matplotlib.pyplot as plt\n",
    "from sklearn import datasets\n",
    "\n",
    "# Importamos el dataset\n",
    "\n",
    "iris=datasets.load_iris()\n",
    "\n",
    "L_sep = iris.data[:,0]\n",
    "\n",
    "W_sep= iris.data[:,1]\n",
    "\n",
    "Y = iris.target\n",
    "\n",
    "# Creamos la figura\n",
    "\n",
    "plt.figure(1, figsize=(8,6))\n",
    "\n",
    "plt.clf()\n",
    "\n",
    "# Coloreamos utilizando la categoría.\n",
    "\n",
    "plt.scatter(L_sep,W_sep,c=Y)\n",
    "plt.xlabel(u'Longitud Sépalo')\n",
    "plt.ylabel(u'Ancho Sépalo')\n",
    "\n"
   ]
  },
  {
   "cell_type": "markdown",
   "metadata": {},
   "source": [
    "## Ejercicio 3"
   ]
  },
  {
   "cell_type": "markdown",
   "metadata": {},
   "source": [
    "Dividir los datos Iris en dos subconjuntos, datos de entrenamiento y test, en una proporción 70% entrenamiento y 30% test."
   ]
  },
  {
   "cell_type": "code",
   "execution_count": 14,
   "metadata": {
    "scrolled": true
   },
   "outputs": [
    {
     "name": "stdout",
     "output_type": "stream",
     "text": [
      "(105, 4)\n",
      "(45, 4)\n",
      "[[6.1 2.6 5.6 1.4]\n",
      " [6.8 3.  5.5 2.1]\n",
      " [5.1 2.5 3.  1.1]\n",
      " [6.3 2.5 5.  1.9]\n",
      " [4.8 3.1 1.6 0.2]\n",
      " [4.4 3.  1.3 0.2]\n",
      " [6.4 2.8 5.6 2.1]\n",
      " [5.4 3.9 1.3 0.4]\n",
      " [6.  2.9 4.5 1.5]\n",
      " [5.6 2.8 4.9 2. ]\n",
      " [7.4 2.8 6.1 1.9]\n",
      " [4.5 2.3 1.3 0.3]\n",
      " [5.9 3.2 4.8 1.8]\n",
      " [5.4 3.9 1.7 0.4]\n",
      " [5.  3.4 1.6 0.4]\n",
      " [5.6 2.9 3.6 1.3]\n",
      " [5.  3.6 1.4 0.2]\n",
      " [7.2 3.2 6.  1.8]\n",
      " [5.2 4.1 1.5 0.1]\n",
      " [6.7 3.1 5.6 2.4]\n",
      " [6.1 2.8 4.7 1.2]\n",
      " [4.9 3.1 1.5 0.1]\n",
      " [5.4 3.7 1.5 0.2]\n",
      " [6.4 2.7 5.3 1.9]\n",
      " [5.8 2.6 4.  1.2]\n",
      " [5.7 3.8 1.7 0.3]\n",
      " [5.1 3.5 1.4 0.3]\n",
      " [6.3 3.3 6.  2.5]\n",
      " [5.  2.  3.5 1. ]\n",
      " [6.7 2.5 5.8 1.8]\n",
      " [6.4 3.2 4.5 1.5]\n",
      " [6.4 3.2 5.3 2.3]\n",
      " [5.2 3.4 1.4 0.2]\n",
      " [6.3 2.3 4.4 1.3]\n",
      " [5.7 2.9 4.2 1.3]\n",
      " [5.4 3.  4.5 1.5]\n",
      " [6.5 3.  5.8 2.2]\n",
      " [4.8 3.  1.4 0.1]\n",
      " [6.3 2.9 5.6 1.8]\n",
      " [6.9 3.2 5.7 2.3]\n",
      " [6.3 2.8 5.1 1.5]\n",
      " [6.9 3.1 5.4 2.1]\n",
      " [4.4 3.2 1.3 0.2]\n",
      " [6.4 3.1 5.5 1.8]\n",
      " [5.1 3.3 1.7 0.5]]\n"
     ]
    }
   ],
   "source": [
    "\n",
    "from sklearn.model_selection import train_test_split \n",
    "\n",
    "\n",
    "iris=datasets.load_iris()\n",
    "\n",
    "# Dividimos los datos en datos de entrenamiento (70%) y de test (30%) mediante la función train_test_split\n",
    "\n",
    "train,test = train_test_split(iris.data, test_size=0.3)\n",
    "\n",
    "# El atributo test_size=0.3 divide los datos en una proporción de 70% y 30%. entrenamiento=70% y test=30%.\n",
    "\n",
    "print(train.shape)\n",
    "\n",
    "print(test.shape)\n",
    "\n",
    "print(test)\n"
   ]
  },
  {
   "cell_type": "markdown",
   "metadata": {},
   "source": [
    "## Ejercicio 4\n",
    "\n",
    "Aplicad el clasificador **KNeighborsClassifier** para predecir el tipo de especie de iris utilizando la longitud y ancho de los pétalos como atributos y utilizando 60% de las muestras de aprendizaje y 40% muestras de test (podéis usar cualquier partición de muestras de aprendizaje y de test). \n",
    "\n",
    "¿Qué rendimiento se obtiene?\n"
   ]
  },
  {
   "cell_type": "code",
   "execution_count": 15,
   "metadata": {},
   "outputs": [],
   "source": [
    "import numpy as np \n",
    "import pandas as pd \n",
    "import matplotlib.pyplot as plt \n",
    "from sklearn import datasets\n",
    "\n",
    "#Cargamos los datos\n",
    "\n",
    "iris = datasets.load_iris()\n",
    "\n",
    "iris_df = pd.DataFrame(iris.data)\n",
    "\n",
    "# Asignamos categoría a cada una de les especies\n",
    "iris_df['Species'] = iris.target\n",
    "iris_df.loc[(iris_df.Species == 0),\"Species\"] = iris.target_names[0]\n",
    "iris_df.loc[(iris_df.Species == 1),\"Species\"] = iris.target_names[1]\n",
    "iris_df.loc[(iris_df.Species == 2),\"Species\"] = iris.target_names[2]\n",
    "\n",
    "iris_df.columns = ['SepalLength', 'SepalWitdh', 'PetalLength','PetalWitdh','Species']"
   ]
  },
  {
   "cell_type": "code",
   "execution_count": 16,
   "metadata": {},
   "outputs": [
    {
     "name": "stdout",
     "output_type": "stream",
     "text": [
      "Accuracy: \t\t0.95\n"
     ]
    }
   ],
   "source": [
    "\n",
    "# Respuesta\n",
    "\n",
    "from sklearn.model_selection import train_test_split\n",
    "from sklearn.neighbors import KNeighborsClassifier\n",
    "import warnings\n",
    "warnings.filterwarnings('ignore')\n",
    "\n",
    "# Dividimos los datos en datos de entrenamiento (60%) y de test (40%) mediante la función train_test_split\n",
    "\n",
    "train,test = train_test_split(iris_df, test_size=0.4)\n",
    "\n",
    "# Creamos el clasificador \n",
    "\n",
    "knn = KNeighborsClassifier()\n",
    "\n",
    "#Entrenamos el clasificador\n",
    "knn.fit( train[['PetalLength','PetalWitdh']],train[['Species']])\n",
    "\n",
    "#Probamos el clasificador\n",
    "iris_predicted=knn.predict(test[['PetalLength','PetalWitdh']])\n",
    "\n",
    "#Mostramos los resultados de la predicción sobre el conjunto de test\n",
    "\n",
    "print (\"Accuracy: \\t\\t\" + str(knn.score(test[['PetalLength','PetalWitdh']],test[['Species']])))"
   ]
  },
  {
   "cell_type": "markdown",
   "metadata": {},
   "source": [
    "## Ejercicio 5\n",
    "\n",
    "Aplicad el algoritmo de _clustering KMeans_ tal como hemos visto en el Notebook de explicación, pero esta vez utilizando los siguientes parámetros:\n",
    "\n",
    "```\n",
    "Número de clusters: 10\n",
    "Método de inicialización de los puntos centrales: 'random'\n",
    "Número de iteraciones para la selección de puntos centrales: 5\n",
    "Algoritmo: 'elkan'\n",
    "```\n",
    "\n",
    "Visualizad gráficamente el resultado. Si los datos fuesem [dispersos](https://en.wikipedia.org/wiki/Sparse_matrix) , ¿qué opción del parámetro _alg_ de la función _sklearn.cluster.KMeans_ deberíamos utilizar?"
   ]
  },
  {
   "cell_type": "code",
   "execution_count": 17,
   "metadata": {},
   "outputs": [
    {
     "data": {
      "text/plain": [
       "[]"
      ]
     },
     "execution_count": 17,
     "metadata": {},
     "output_type": "execute_result"
    },
    {
     "data": {
      "image/png": "[encoded data removed]",
      "text/plain": [
       "<Figure size 576x432 with 1 Axes>"
      ]
     },
     "metadata": {
      "needs_background": "light"
     },
     "output_type": "display_data"
    }
   ],
   "source": [
    "\n",
    "import matplotlib.pyplot as plt\n",
    "from mpl_toolkits.mplot3d import Axes3D\n",
    "from sklearn import cluster, datasets\n",
    "\n",
    "iris = datasets.load_iris()\n",
    "X_iris = iris.data\n",
    "\n",
    "#Consultamos la ayuda de K-means para ver como se definen los parámetros\n",
    "?cluster.KMeans\n",
    "\n",
    "# Cargamos el algoritmo K-means y ajustamos los paràmetros según el enunciado\n",
    "k_means = cluster.KMeans(n_clusters=10,init='random',n_init=5, algorithm='elkan')\n",
    "k_means.fit(X_iris)\n",
    "\n",
    "#Definimos los parámetros de la figura\n",
    "fig = plt.figure(1, figsize=(8, 6))\n",
    "ax = Axes3D(fig, elev=-150, azim=110)\n",
    "ax.scatter(X_iris[:,[0]], X_iris[:,[1]], X_iris[:,[2]], c=k_means.labels_)\n",
    "ax.set_title(u\"Taxonomía de las 150 muestras utilizando K-means\")\n",
    "ax.set_xlabel(u\"Longitud del sépalo\")\n",
    "ax.w_xaxis.set_ticklabels([])\n",
    "ax.set_ylabel(u\"Ancho del sépalo\")\n",
    "ax.w_yaxis.set_ticklabels([])\n",
    "ax.set_zlabel(u\"Longitud del pétalo\")\n",
    "ax.w_zaxis.set_ticklabels([])"
   ]
  },
  {
   "cell_type": "markdown",
   "metadata": {},
   "source": [
    "#### Respuesta"
   ]
  },
  {
   "cell_type": "markdown",
   "metadata": {},
   "source": [
    "Si los datos fuesen dispersos, el parámetro _algorithm_ debería ser 'full'."
   ]
  },
  {
   "cell_type": "markdown",
   "metadata": {},
   "source": [
    "## Ejercicio 6"
   ]
  },
  {
   "cell_type": "markdown",
   "metadata": {},
   "source": [
    "En los siguientes ejercicios usaremos el conjunto de datos del dataset `breast_cancer` de *sklearn*. Crea una tabla con los estadísticos descriptivos de todas las características de los tumores de la base de datos `breast_cancer` agrupados por tipo (benigno/maligno).\n",
    "\n",
    "Realizad un test estadístico [ttest](https://docs.scipy.org/doc/scipy/reference/generated/scipy.stats.ttest_ind.html) para comparar el error de la simetría (*symmetry error*) y tersura (*mean smoothness*) de los tumores benignos con las de los malignos. Dado el resultado obtenido, indica qué características podrían ser más relevantes para diagnosticar un tumor maligno.\n",
    "\n",
    "Nota: Consulta este [enlace](http://www.conexionismo.com/leer_articulo.php?ref=prueba_t_de_student_para_la_comparacion_de_dos_muestras_independientes-j960497l) si quieres ampliar conocimientos sobre el test estadístico ttest. Para realizar el test estadístico automáticamente podéis utilizar el método [`ttest_ind`](https://docs.scipy.org/doc/scipy/reference/generated/scipy.stats.ttest_ind.html) de *Scipy.stats*\n",
    "\n"
   ]
  },
  {
   "cell_type": "code",
   "execution_count": 18,
   "metadata": {},
   "outputs": [
    {
     "data": {
      "text/html": [
       "<div>\n",
       "<style scoped>\n",
       "    .dataframe tbody tr th:only-of-type {\n",
       "        vertical-align: middle;\n",
       "    }\n",
       "\n",
       "    .dataframe tbody tr th {\n",
       "        vertical-align: top;\n",
       "    }\n",
       "\n",
       "    .dataframe thead tr th {\n",
       "        text-align: left;\n",
       "    }\n",
       "\n",
       "    .dataframe thead tr:last-of-type th {\n",
       "        text-align: right;\n",
       "    }\n",
       "</style>\n",
       "<table border=\"1\" class=\"dataframe\">\n",
       "  <thead>\n",
       "    <tr>\n",
       "      <th></th>\n",
       "      <th colspan=\"8\" halign=\"left\">mean radius</th>\n",
       "      <th colspan=\"2\" halign=\"left\">mean texture</th>\n",
       "      <th>...</th>\n",
       "      <th colspan=\"2\" halign=\"left\">worst symmetry</th>\n",
       "      <th colspan=\"8\" halign=\"left\">worst fractal dimension</th>\n",
       "    </tr>\n",
       "    <tr>\n",
       "      <th></th>\n",
       "      <th>count</th>\n",
       "      <th>mean</th>\n",
       "      <th>std</th>\n",
       "      <th>min</th>\n",
       "      <th>25%</th>\n",
       "      <th>50%</th>\n",
       "      <th>75%</th>\n",
       "      <th>max</th>\n",
       "      <th>count</th>\n",
       "      <th>mean</th>\n",
       "      <th>...</th>\n",
       "      <th>75%</th>\n",
       "      <th>max</th>\n",
       "      <th>count</th>\n",
       "      <th>mean</th>\n",
       "      <th>std</th>\n",
       "      <th>min</th>\n",
       "      <th>25%</th>\n",
       "      <th>50%</th>\n",
       "      <th>75%</th>\n",
       "      <th>max</th>\n",
       "    </tr>\n",
       "    <tr>\n",
       "      <th>Type</th>\n",
       "      <th></th>\n",
       "      <th></th>\n",
       "      <th></th>\n",
       "      <th></th>\n",
       "      <th></th>\n",
       "      <th></th>\n",
       "      <th></th>\n",
       "      <th></th>\n",
       "      <th></th>\n",
       "      <th></th>\n",
       "      <th></th>\n",
       "      <th></th>\n",
       "      <th></th>\n",
       "      <th></th>\n",
       "      <th></th>\n",
       "      <th></th>\n",
       "      <th></th>\n",
       "      <th></th>\n",
       "      <th></th>\n",
       "      <th></th>\n",
       "      <th></th>\n",
       "    </tr>\n",
       "  </thead>\n",
       "  <tbody>\n",
       "    <tr>\n",
       "      <td>0</td>\n",
       "      <td>212.0</td>\n",
       "      <td>17.462830</td>\n",
       "      <td>3.203971</td>\n",
       "      <td>10.950</td>\n",
       "      <td>15.075</td>\n",
       "      <td>17.325</td>\n",
       "      <td>19.59</td>\n",
       "      <td>28.11</td>\n",
       "      <td>212.0</td>\n",
       "      <td>21.604906</td>\n",
       "      <td>...</td>\n",
       "      <td>0.359225</td>\n",
       "      <td>0.6638</td>\n",
       "      <td>212.0</td>\n",
       "      <td>0.091530</td>\n",
       "      <td>0.021553</td>\n",
       "      <td>0.05504</td>\n",
       "      <td>0.076302</td>\n",
       "      <td>0.08760</td>\n",
       "      <td>0.102625</td>\n",
       "      <td>0.2075</td>\n",
       "    </tr>\n",
       "    <tr>\n",
       "      <td>1</td>\n",
       "      <td>357.0</td>\n",
       "      <td>12.146524</td>\n",
       "      <td>1.780512</td>\n",
       "      <td>6.981</td>\n",
       "      <td>11.080</td>\n",
       "      <td>12.200</td>\n",
       "      <td>13.37</td>\n",
       "      <td>17.85</td>\n",
       "      <td>357.0</td>\n",
       "      <td>17.914762</td>\n",
       "      <td>...</td>\n",
       "      <td>0.298300</td>\n",
       "      <td>0.4228</td>\n",
       "      <td>357.0</td>\n",
       "      <td>0.079442</td>\n",
       "      <td>0.013804</td>\n",
       "      <td>0.05521</td>\n",
       "      <td>0.070090</td>\n",
       "      <td>0.07712</td>\n",
       "      <td>0.085410</td>\n",
       "      <td>0.1486</td>\n",
       "    </tr>\n",
       "  </tbody>\n",
       "</table>\n",
       "<p>2 rows × 240 columns</p>\n",
       "</div>"
      ],
      "text/plain": [
       "     mean radius                                                             \\\n",
       "           count       mean       std     min     25%     50%    75%    max   \n",
       "Type                                                                          \n",
       "0          212.0  17.462830  3.203971  10.950  15.075  17.325  19.59  28.11   \n",
       "1          357.0  12.146524  1.780512   6.981  11.080  12.200  13.37  17.85   \n",
       "\n",
       "     mean texture             ... worst symmetry          \\\n",
       "            count       mean  ...            75%     max   \n",
       "Type                          ...                          \n",
       "0           212.0  21.604906  ...       0.359225  0.6638   \n",
       "1           357.0  17.914762  ...       0.298300  0.4228   \n",
       "\n",
       "     worst fractal dimension                                                  \\\n",
       "                       count      mean       std      min       25%      50%   \n",
       "Type                                                                           \n",
       "0                      212.0  0.091530  0.021553  0.05504  0.076302  0.08760   \n",
       "1                      357.0  0.079442  0.013804  0.05521  0.070090  0.07712   \n",
       "\n",
       "                        \n",
       "           75%     max  \n",
       "Type                    \n",
       "0     0.102625  0.2075  \n",
       "1     0.085410  0.1486  \n",
       "\n",
       "[2 rows x 240 columns]"
      ]
     },
     "execution_count": 18,
     "metadata": {},
     "output_type": "execute_result"
    }
   ],
   "source": [
    "# Respuesta\n",
    "\n",
    "# Importamos las librerías\n",
    "import numpy as np \n",
    "import pandas as pd \n",
    "import matplotlib.pyplot as plt \n",
    "from sklearn import datasets \n",
    "import scipy.stats as stats\n",
    "\n",
    "# Importamos el dataset\n",
    "diagnostics = datasets.load_breast_cancer()\n",
    "\n",
    "# Los transformamos en un dataframe\n",
    "diagnostics_df = pd.DataFrame(diagnostics.data)\n",
    "\n",
    "# Nombramos las columnas de las variables\n",
    "diagnostics_df.columns = diagnostics['feature_names']\n",
    "\n",
    "# Añadimos la columna Type con el resultado del diagnóstico (benigno/maligno)\n",
    "diagnostics_df['Type'] = diagnostics.target\n",
    "\n",
    "# Mostramos pos pantalla los parámetros descriptivos de la muestra \n",
    "diagnostics_df.groupby('Type').describe()"
   ]
  },
  {
   "cell_type": "code",
   "execution_count": 19,
   "metadata": {},
   "outputs": [
    {
     "name": "stdout",
     "output_type": "stream",
     "text": [
      "Análisis de la tersura. Estadístico t= 9.146098808149038, p-val = 1.0518503592032013e-18\n",
      "Análisis del error de la simetría. Estadístico t= -0.1552978000059369, p-val = 0.8766418183858812\n"
     ]
    }
   ],
   "source": [
    "# Realizamos un test estadístico para cada variable comparando los tumores benignos (tipo 0) y malignos (tipo 1).\n",
    "# Ejecutamos un prueba t de student para muestras independientes ya que cada registro corresponde con un paciente diferente.\n",
    "t1, p1 = stats.ttest_ind(diagnostics_df.query(\"Type==0\")['mean smoothness'],diagnostics_df.query(\"Type==1\")['mean smoothness'])\n",
    "print(\"Análisis de la tersura. Estadístico t= \" + str(t1) + \", p-val = \" + str(p1) )\n",
    "t2, p2 = stats.ttest_ind(diagnostics_df.query(\"Type==0\")['symmetry error'],diagnostics_df.query(\"Type==1\")['symmetry error'])\n",
    "print(\"Análisis del error de la simetría. Estadístico t= \" + str(t2) + \", p-val = \" + str(p2) )"
   ]
  },
  {
   "cell_type": "markdown",
   "metadata": {},
   "source": [
    "#### Respuesta\n",
    "Preferiremos la variable tersura como diferenciadora de los tumores benignos y malignos dado que el test sugiere que ambas muestras de lisura comparadas provienen de poblaciones diferentes."
   ]
  },
  {
   "cell_type": "markdown",
   "metadata": {},
   "source": [
    "## Ejercicio 7"
   ]
  },
  {
   "cell_type": "markdown",
   "metadata": {},
   "source": [
    "Representar mediante [boxplots] (https://en.wikipedia.org/wiki/Boxplots) como varían la textura, el area, la concavidad y la simetría de los tumores según el tipo (*maligna / benigna*). Recuerda ajustar los parámetros de la visualización para facilitar la lectura e interpretación de la gráfica que generen.\n",
    "\n",
    "Nota: Crea un dataframe con los datos de `diagnostics.data` i `diagnostics.target` para dibujar los boxplots."
   ]
  },
  {
   "cell_type": "code",
   "execution_count": 20,
   "metadata": {},
   "outputs": [],
   "source": [
    "# Importamos las librerías\n",
    "\n",
    "import numpy as np \n",
    "import pandas as pd \n",
    "import seaborn as sns  # librería opcional\n",
    "import matplotlib.pyplot as plt \n",
    "from sklearn import datasets \n",
    "\n",
    "# Importamos el dataset\n",
    "diagnostics = datasets.load_breast_cancer()"
   ]
  },
  {
   "cell_type": "code",
   "execution_count": 21,
   "metadata": {},
   "outputs": [
    {
     "data": {
      "image/png": "[encoded data removed]",
      "text/plain": [
       "<Figure size 1080x720 with 4 Axes>"
      ]
     },
     "metadata": {
      "needs_background": "light"
     },
     "output_type": "display_data"
    }
   ],
   "source": [
    "## Respuesta\n",
    "diagnostics_df = pd.DataFrame(diagnostics.data)\n",
    "\n",
    "# Asignamos una categoría a cada tumor\n",
    "diagnostics_df.columns = diagnostics['feature_names']\n",
    "diagnostics_df['Type'] = diagnostics.target\n",
    "diagnostics_df.loc[(diagnostics_df.Type == 0),\"Type\"] = diagnostics.target_names[0]\n",
    "diagnostics_df.loc[(diagnostics_df.Type == 1),\"Type\"] = diagnostics.target_names[1]\n",
    "\n",
    "# Definimos parámetros de la figura\n",
    "label=['maligno','benigno']\n",
    "pos=[1,2]\n",
    "fig, axes = plt.subplots(nrows=2, ncols=2, figsize=(15, 10))\n",
    "\n",
    "# Dibujamos cada uno de los gráficos\n",
    "vplot1=axes[0,0].boxplot([np.array(diagnostics_df['mean texture'][diagnostics_df.Type == 'malignant']),\n",
    "                           np.array(diagnostics_df['mean texture'][diagnostics_df.Type == 'benign'],\n",
    "                                   )],vert=False)\n",
    "axes[0,0].set_xlabel('texture')\n",
    "axes[0,0].set_ylabel('Type')\n",
    "axes[0,0].set_yticks(pos)\n",
    "axes[0,0].set_yticklabels(label)\n",
    "\n",
    "vplot2=axes[0,1].boxplot([np.array(diagnostics_df['mean area'][diagnostics_df.Type == 'malignant']),\n",
    "                           np.array(diagnostics_df['mean area'][diagnostics_df.Type == 'benign'],\n",
    "                                   )],vert=False)\n",
    "axes[0,1].set_xlabel('area')\n",
    "axes[0,1].set_ylabel('Type')\n",
    "axes[0,1].set_yticks(pos)\n",
    "axes[0,1].set_yticklabels(label)\n",
    "\n",
    "vplot3=axes[1,0].boxplot([np.array(diagnostics_df['mean concavity'][diagnostics_df.Type == 'malignant']),\n",
    "                           np.array(diagnostics_df['mean concavity'][diagnostics_df.Type == 'benign'],\n",
    "                                   )],vert=False)\n",
    "axes[1,0].set_xlabel('concavity')\n",
    "axes[1,0].set_ylabel('Type')\n",
    "axes[1,0].set_yticks(pos)\n",
    "axes[1,0].set_yticklabels(label)\n",
    "\n",
    "vplot4=axes[1,1].boxplot([np.array(diagnostics_df['mean symmetry'][diagnostics_df.Type == 'malignant']),\n",
    "                           np.array(diagnostics_df['mean symmetry'][diagnostics_df.Type == 'benign'],\n",
    "                                   )],vert=False)\n",
    "axes[1,1].set_xlabel('symmetry')\n",
    "axes[1,1].set_ylabel('Type')\n",
    "axes[1,1].set_yticks(pos)\n",
    "axes[1,1].set_yticklabels(label)\n",
    "colors = ['forestgreen', 'darkorange']\n",
    "\n",
    "\n",
    "# Assignem color a cada un dels cossos del boxplot\n",
    "plt.show()"
   ]
  },
  {
   "cell_type": "code",
   "execution_count": 22,
   "metadata": {},
   "outputs": [
    {
     "data": {
      "text/plain": [
       "<matplotlib.axes._subplots.AxesSubplot at 0x1a1b5dde50>"
      ]
     },
     "execution_count": 22,
     "metadata": {},
     "output_type": "execute_result"
    },
    {
     "data": {
      "image/png": "[encoded data removed]",
      "text/plain": [
       "<Figure size 1080x720 with 4 Axes>"
      ]
     },
     "metadata": {
      "needs_background": "light"
     },
     "output_type": "display_data"
    }
   ],
   "source": [
    "#Opción 2: Otra forma de realizar el ejercicio es mediante la librería\n",
    "# Seaborn, que veremos en la próxima unidad\n",
    "\n",
    "# Importamos las librerías\n",
    "import numpy as np \n",
    "import pandas as pd \n",
    "import seaborn as sns \n",
    "import matplotlib.pyplot as plt \n",
    "from sklearn import datasets\n",
    "\n",
    "# Importamos el dataset\n",
    "diagnostics = datasets.load_breast_cancer()\n",
    "diagnostics_df = pd.DataFrame(diagnostics.data)\n",
    "\n",
    "# Asignamos una categoría a cada tumor\n",
    "diagnostics_df.columns = diagnostics['feature_names']\n",
    "diagnostics_df['Type'] = diagnostics.target\n",
    "diagnostics_df.loc[(diagnostics_df.Type == 0),\"Type\"] = diagnostics.target_names[0]\n",
    "diagnostics_df.loc[(diagnostics_df.Type == 1),\"Type\"] = diagnostics.target_names[1]\n",
    "\n",
    "# Dibujamos cada una de las gráficas\n",
    "plt.figure(figsize=(15,10))\n",
    "plt.subplot(2,2,1)\n",
    "sns.boxplot(x=diagnostics_df['mean texture'],y=diagnostics_df.Type)\n",
    "plt.subplot(2,2,2)\n",
    "sns.boxplot(x=diagnostics_df['mean area'],y=diagnostics_df.Type)\n",
    "plt.subplot(2,2,3)\n",
    "sns.boxplot(x=diagnostics_df['mean concavity'],y=diagnostics_df.Type)\n",
    "plt.subplot(2,2,4)\n",
    "sns.boxplot(x=diagnostics_df['mean symmetry'],y=diagnostics_df.Type)"
   ]
  },
  {
   "cell_type": "markdown",
   "metadata": {},
   "source": [
    "## Ejercicio 8"
   ]
  },
  {
   "cell_type": "markdown",
   "metadata": {},
   "source": [
    "El objetivo de un modelo de **regresión lineal** es encontrar una relación entre una o más características (variables independientes) y una variable objetivo continua (variable dependiente). Cuando sólo usamos una característica predictiva se le llama **Regresión Lineal Univariada** y si hay múltiples predictores se llama **Regresión Lineal Múltiple**.\n",
    "\n",
    "Cuando la variable dependiente es una variable binaria que contiene datos codificados como 1 (sí, éxito, etc.) o 0 (no, fallo, etc.), como es el caso del dataset `breast_cancer`, tendremos que emplear una [regresión logística](https://ca.wikipedia.org/wiki/Regressi%C3%B3_log%C3%ADstica).\n",
    "\n",
    "Crea un modelo de regresión logística que estime la probabilidad de que un tumor sea maligno dada su área y su textura. Muestra la [matriz de confusión](https://ca.wikipedia.org/wiki/Matriu_de_confusi%C3%B3) del modelo obtenido.\n",
    "\n",
    "Nota: Quizás te interesa explorar la función [sklearn.metrics.confusion_matrix()](https://scikit-learn.org/stable/modules/generated/sklearn.metrics.confusion_matrix.html)"
   ]
  },
  {
   "cell_type": "code",
   "execution_count": 23,
   "metadata": {},
   "outputs": [
    {
     "data": {
      "image/png": "[encoded data removed]",
      "text/plain": [
       "<Figure size 288x288 with 2 Axes>"
      ]
     },
     "metadata": {
      "needs_background": "light"
     },
     "output_type": "display_data"
    }
   ],
   "source": [
    "# Respuesta\n",
    "from sklearn.linear_model import LogisticRegression\n",
    "from sklearn.model_selection import train_test_split\n",
    "\n",
    "X = diagnostics_df[['mean texture','mean area']]\n",
    "y = diagnostics_df['Type']\n",
    "\n",
    "# Dividimos los datos en datos de entrenamiento (60%) y de test (40%) mediante la función train_test_split\n",
    "train,test = train_test_split(diagnostics_df, test_size=0.4)\n",
    "train_X = train[['mean texture','mean area']]\n",
    "train_y = train['Type']\n",
    "test_X = test[['mean texture','mean area']]\n",
    "test_y = test['Type']\n",
    "\n",
    "# Aplicamos la regresión\n",
    "clf = LogisticRegression(random_state=0, solver='lbfgs').fit(train_X, train_y)\n",
    "clf.score(test_X,test_y)\n",
    "\n",
    "# Predecimos el tipo de cáncer dados los predictores Textura y Área\n",
    "predicted = clf.predict( diagnostics_df[['mean texture','mean area']].values )\n",
    "real      = diagnostics_df['Type'].values\n",
    "\n",
    "# Representamos la matriz de confusión\n",
    "import matplotlib.pyplot as plt \n",
    "result_cofusion_mat = []\n",
    "for real_c in ['benign','malignant']:\n",
    "    tmp = []\n",
    "    for pred_c in ['benign','malignant']:\n",
    "        # Dividim per el nombre total de casos per calcular al proporcio de: \n",
    "        # vertaders positius, vertaders negatius, falsos positius, i falsos negatius\n",
    "        tmp.append( np.where(np.logical_and(predicted==pred_c, real==real_c))[0].size /np.where(real==real_c)[0].size)\n",
    "    result_cofusion_mat.append(tmp)\n",
    "\n",
    "plt.matshow(result_cofusion_mat)\n",
    "plt.xticks( [0,1], ['Pred. benign','Pred. malignant'] )\n",
    "plt.yticks( [0,1], ['True benign','True malignant'] )\n",
    "plt.colorbar()\n",
    "plt.show()"
   ]
  },
  {
   "cell_type": "markdown",
   "metadata": {},
   "source": [
    "## Ejercicio 9"
   ]
  },
  {
   "cell_type": "markdown",
   "metadata": {},
   "source": [
    "El **Multi-layer Perceptron (MLP)** es un algoritmo de aprendizaje supervisado que aprende una función mediante el entrenamiento de un modelo que asocia n dimensiones de entrada (*predictores*) con dimensiones de salida (*targets*). Teniendo en cuenta un conjunto de funciones y un objetivo, puede aprender un aproximador de funciones no lineales por clasificación o regresión. Es diferente de la regresión logística, ya que entre la capa de entrada y la de salida, puede haber una o más capas no lineales, llamadas capas ocultas.\n",
    "\n",
    "Aplica un clasificador basado en un MLP para predecir los tipos de tumor utilizando el área, la textura, la simetría y la concavidad, como atributos y utilizando el 70% de las muestras de entrenamiento y el 30% de test. Debéis utilizar la función [sklearn.neural_network.MLPClassifier](https://scikit-learn.org/stable/modules/neural_networks_supervised.html).\n",
    "\n",
    "Utiliza tres niveles (*layers*) con 30 neuronas por nivel. ¿Qué valor de precisión obtenemos en un modelo basado en un MLP?"
   ]
  },
  {
   "cell_type": "code",
   "execution_count": 24,
   "metadata": {},
   "outputs": [
    {
     "name": "stdout",
     "output_type": "stream",
     "text": [
      "El modelo tiene un 80.0% de precisión en predecir el tipo de tumor.\n"
     ]
    }
   ],
   "source": [
    "# Respuesta\n",
    "from sklearn.model_selection import train_test_split\n",
    "from sklearn.neural_network import MLPClassifier\n",
    "\n",
    "# Dividimos los datos en datos de entrenamiento (70%) y de test (30%) mediante la función train_test_split\n",
    "train,test = train_test_split(diagnostics_df, test_size=0.3)\n",
    "train_X = train[['mean texture','mean area','mean symmetry','mean concavity']]\n",
    "train_y = train['Type']\n",
    "test_X = test[['mean texture','mean area','mean symmetry','mean concavity']]\n",
    "test_y = test['Type']\n",
    "\n",
    "# Aplicamos el MLP\n",
    "clf = MLPClassifier(hidden_layer_sizes=(3, 30), max_iter=1000)\n",
    "clf.fit(train_X, train_y)\n",
    "\n",
    "# Mostramos su precisión\n",
    "score = clf.score(test_X, test_y)\n",
    "print(\"El modelo tiene un \" + str(np.around(score,2)*100) + '% de precisión en predecir el tipo de tumor.' )"
   ]
  }
 ],
 "metadata": {
  "kernelspec": {
   "display_name": "Python 3",
   "language": "python",
   "name": "python3"
  },
  "language_info": {
   "codemirror_mode": {
    "name": "ipython",
    "version": 3
   },
   "file_extension": ".py",
   "mimetype": "text/x-python",
   "name": "python",
   "nbconvert_exporter": "python",
   "pygments_lexer": "ipython3",
   "version": "3.7.4"
  }
 },
 "nbformat": 4,
 "nbformat_minor": 1
}
