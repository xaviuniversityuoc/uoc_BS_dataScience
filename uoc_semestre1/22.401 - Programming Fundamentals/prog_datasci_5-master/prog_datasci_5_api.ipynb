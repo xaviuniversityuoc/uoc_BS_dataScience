{
 "cells": [
  {
   "cell_type": "markdown",
   "metadata": {},
   "source": [
    "<div style=\"width: 100%; clear: both;\">\n",
    "    <div style=\"float: left; width: 50%;\">\n",
    "       <img src=\"http://www.uoc.edu/portal/_resources/common/imatges/marca_UOC/UOC_Masterbrand.jpg\", align=\"left\">\n",
    "    </div>\n",
    "</div>\n",
    "\n",
    "<div style=\"float: right; width: 50%;\">\n",
    "    <p style=\"margin: 0; padding-top: 22px; text-align:right;\">22.501 · Fundamentos de Programación</p>\n",
    "    <p style=\"margin: 0; text-align:right;\">Grado en Ciencia de Datos Aplicada</p>\n",
    "    <p style=\"margin: 0; text-align:right; padding-button: 100px;\">Estudios de Informática, Multimedia y Telecomunicación</p>\n",
    "</div>\n",
    "\n",
    "</div>\n",
    "<div style=\"width: 100%; clear: both;\">\n",
    "<div style=\"width:100%;\">&nbsp;</div>"
   ]
  },
  {
   "cell_type": "markdown",
   "metadata": {},
   "source": [
    "Fundamentos de Programación\n",
    "============================\n",
    "\n",
    "--- \n",
    "Unidad 5: Adquisición de datos en Python\n",
    "-----------------------------------------------------\n",
    "\n",
    "---"
   ]
  },
  {
   "cell_type": "markdown",
   "metadata": {},
   "source": [
    "### Instrucciones de uso\n",
    "\n",
    "Este documento es un *notebook* interactivo que intercala explicaciones más bien teóricas de conceptos de programación con fragmentos de código ejecutables. Para aprovechar las ventajas que aporta este formato, se recomienda, en primer lugar, leer las explicaciones y el código que os proporcionamos. De esta manera tendréis un primer contacto con los conceptos que exponemos. Ahora bien, **¡la lectura es sólo el principio!** Una vez hayáis leído el contenido, no olvidéis ejecutar el código proporcionado y modificarlo para crear variantes que os permitan comprobar que habéis entendido su funcionalidad y explorar los detalles de implementación. Por último, se recomienda también consultar la documentación enlazada para explorar con más profundidad las funcionalidades de los módulos presentados.\n",
    "\n",
    "### Introducción\n",
    "\n",
    "Esta unidad presenta tres métodos diferentes para obtener datos en internet: la descarga directa de los datos, el uso de APIs de terceros, y el _web crawling_. Para estos dos últimos métodos, veremos cómo implementarlos en Python.\n",
    "\n",
    "A continuación se incluye la tabla de contenidos, que podéis utilizar para navegar por el documento:\n",
    "\n",
    "<ul style = \"list-style-type: none\">\n",
    "    <li> <a href='#1.-Introducción'> 1. Introducción </a> </li>\n",
    "    <li> <a href='#2.-Descarga-directa-de-datos'> 2. Descarga directa de datos </a> </li>\n",
    "    <li> <a href='#3.-Petición-a-APIs-de-terceros'> 3. Petición a APIs de terceros </a> </li>\n",
    "    <ul style = \"list-style-type: none\">\n",
    "        <li> <a href=\"#3.1.-El-concepto-de-API\"> 3.1. El concepto de API </a> </li>\n",
    "        <li> <a href=\"#3.2.-Peticiones-y-respuestas-HTTP\"> 3.2. Peticiones y respuestas HTTP </a> </li>\n",
    "        <li> <a href=\"#3.3.-JSON-y-XML\"> 3.3. JSON y XML </a> </li>\n",
    "        <li> <a href=\"#3.4.-Uso-de-API-de-terceros-en-Python\"> 3.4. Uso de API de terceros en Python </a> </li>\n",
    "        <ul style = \"list-style-type: none\">\n",
    "            <li> <a href=\"#3.4.1.-Acceso-a-API-manualmente\"> 3.4.1. Acceso a API manualmente </a> </li>\n",
    "            <li> <a href=\"#3.4.2.-Acceso-a-API-con-librerías-de-Python\"> 3.4.2. Acceso a API con librerías de Python </a> </li>\n",
    "        </ul>\n",
    "    </ul>\n",
    "    <li> <a href=\"#4.-Obtención-de-datos-a-partir-de-web-crawling\"> 4. Obtención de datos a partir de web crawling </a> </li>\n",
    "    <ul style = \"list-style-type: none\">\n",
    "        <li> <a href=\"#4.1.-HTML\"> 4.1. HTML </a> </li>\n",
    "        <li> <a href=\"#4.2.-Web-crawling-en-Python-con-Scrapy\"> 4.2. Web crawling en Python con Scrapy </a> </li>\n",
    "    </ul>\n",
    "    <li> <a href=\"#5.-Ejercicios-y-preguntas-teóricas\"> 5. Ejercicios y preguntas teóricas </a> </li>\n",
    "    <ul style = \"list-style-type: none\">\n",
    "        <li> <a href=\"#5.1.-Instrucciones-importantes\"> 5.1 Instrucciones importantes </a> </li>\n",
    "        <li> <a href=\"#5.2-Solución\"> 5.2 Solución </a> </li>\n",
    "    </ul>\n",
    "    <li> <a href=\"#6.-Bibliografía\"> 6. Bibliografía </a> </li>\n",
    "    <li> <a href=\"#7.-Anexo:-La-API-de-googlemaps\"> 7. Anexo: La API de googlemaps </a> </li>\n",
    "</ul>"
   ]
  },
  {
   "cell_type": "markdown",
   "metadata": {},
   "source": [
    "# 1. Introducción\n",
    "\n",
    "Los procesos de adquisición de datos son muy diversos. En esta unidad, veremos ejemplos de adquisición de datos de Internet con tres métodos diferentes:\n",
    "\n",
    "- descarga directa\n",
    "- petición a APIs de terceros\n",
    "- *web crawling*\n",
    "\n",
    "Por lo que respeta a la interacción con APIs de terceros, repasaremos dos alternativas, la construcción manual de las peticiones HTTP y el uso de librerías Python. \n",
    "\n",
    "Con relación al *web crawling*, veremos cómo utilizar la librería [Scrapy](https://scrapy.org/) para construir un pequeño *web crawler* que capture datos de nuestro interés. "
   ]
  },
  {
   "cell_type": "markdown",
   "metadata": {},
   "source": [
    "# 2. Descarga directa de datos\n",
    "\n",
    "La descarga directa del conjunto de datos es quizás el método más sencillo de adquisición de datos y consiste en descargar un fichero con los datos de interés ya recopilados por algún otro analista. De hecho, en la unidad anterior ya hemos usado este método para adquirir el fichero con los datos sobre los personajes de cómic de Marvel. Una vez descargado el fichero, el procedimiento para cargarlo en Python dependerá del formato concreto (ya hemos visto un ejemplo de carga de datos desde un fichero .csv).\n",
    "\n",
    "Algunos de los sitios web donde podéis encontrar conjuntos de datos para analizar son:\n",
    "- [Open Data gencat](http://governobert.gencat.cat/es/dades_obertes/index.html), el portal de datos abiertos de la Generalitat.\n",
    "- [datos.gov.es](http://datos.gob.es/es/catalogo), el catálogo de conjuntos de datos del Gobierno de España.\n",
    "- [European Data Sources](https://data.europa.eu/), el portal de datos abiertos de la Unión Europea.\n",
    "- [Mark Newman network datasets](http://www-personal.umich.edu/~mejn/netdata/), conjuntos de datos en forma de red recopilados por Mark Newman.\n",
    "- [Stanford Large Network Dataset Collection](http://snap.stanford.edu/data/), otra recopilación de conjuntos de datos en forma de red, en este caso creado por Jure Leskovec.\n",
    "- [SecRepo.com](http://www.secrepo.com/), datos relacionados con la seguridad.\n",
    "- [AWS Public Datasets](https://aws.amazon.com/public-datasets/), conjuntos de datos recopilados y hospedados por Amazon.\n",
    "- [UC Irvine Machine Learning Repository](http://archive.ics.uci.edu/ml/), datos recopilados por un grupo de investigación de la Universidad de California en Irvine.\n",
    "- El [repositorio de Five Thirty Eight](https://github.com/fivethirtyeight), que recoge datos utilizados en artículos de la publicación y que ya hemos visto en la unidad anterior.\n",
    "\n"
   ]
  },
  {
   "cell_type": "markdown",
   "metadata": {},
   "source": [
    "# 3. Petición a APIs de terceros\n",
    "\n",
    "En este apartado se definen qué es una API, describiremos las peticiones y respuestas HTTP que se utilizan para interactuar con las API web y, finalmente, presentaremos los dos formatos de representación de datos más utilizadas por las API web.\n",
    "\n",
    "## 3.1. El concepto de API\n",
    "\n",
    "Una **API** (del inglés, _Application Programming Interface_) es un conjunto de métodos de comunicación entre varios componentes de software.\n",
    "\n",
    "Las API facilitan el trabajo de integración de programas ya que permiten ofrecer una interfaz clara y bien especificada con la que interactuar con una aplicación, ocultando los detalles de la implementación concreta y exponiendo únicamente funciones específicas de interés.\n",
    "\n",
    "La definición de API es muy genérica y podemos encontrar API en muchos contextos. En esta unidad, nos centraremos en el uso de **API web** para la adquisición de datos de servicios de terceros. Las API web se definen habitualmente como un conjunto de peticiones HTTP junto con la especificación de la estructura de los datos de las respuestas, normalmente en formato JSON o XML.\n",
    "\n",
    "El uso de API web está muy extendido actualmente para interactuar con grandes proveedores de servicios en Internet. Algunos ejemplos de API populares son las de [Google maps](https://developers.google.com/maps/), [YouTube](https://developers.google.com/youtube/), [Spotify](https://developer.spotify.com/web-api/), [Twitter](https://dev.twitter.com/docs) o [Facebook](https://developers.facebook.com/docs/graph-api).\n",
    "\n",
    "Decimos que una API es RESTful (o, a veces, simplemente REST) cuando cumple un conjunto de características, entre las cuales destaca que no mantiene el estado entre peticiones. Es decir, toda la información necesaria para responder una petición se encuentra en la petición individual (y no depende de ningún estado almacenado por el servidor).  \n",
    "\n",
    "## 3.2. Peticiones y respuestas HTTP\n",
    "\n",
    "Para interactuar con una web API realizaremos una petición HTTP. A su vez, el servidor nos responderá con un mensaje de respuesta HTTP. Las peticiones y respuestas HTTP se estructuran en tres partes:\n",
    "\n",
    "* Una línea inicial de petición, que incluye la acción que hay que realizar (el método de la petición) y la URL del recurso, en las peticiones; y el código de estado y el mensaje asociado, en el caso de las respuestas.\n",
    "* La cabecera, que incluye metadatos con varias finalidades, por ejemplo, para describir el contenido, realizar la autenticación o controlar las cookies.\n",
    "* Una línea en blanco que separa la cabecera del cuerpo.\n",
    "* El cuerpo, que puede estar vacío o contener datos.\n",
    "\n",
    "En la siguiente imagen se muestra un ejemplo simplificado de una petición y una respuesta HTTP:\n",
    "\n",
    "![](img/HTTP_request_response.png)\n",
    "\n",
    "La línea inicial de las respuestas HTTP contiene el código de estado, un número entero de tres cifras que informa sobre el intento de entender y procesar la petición HTTP. El primer dígito del número define el tipo de respuesta. Actualmente, existen cinco tipos reconocidos:\n",
    "\n",
    "* 1xx: informacional.\n",
    "* 2xx: éxito.\n",
    "* 3xx: redirección.\n",
    "* 4xx: error del cliente.\n",
    "* 5xx: error del servidor.\n",
    "\n",
    "Así, cuando navegamos por Internet, normalmente nuestras peticiones se responden correctamente, devolviendo el código de estado 200. De vez en cuando nos encontramos también con errores del cliente. Por ejemplo, el error 404 nos indica que nuestra máquina ha sido capaz de comunicarse con el servidor, pero que el recurso que hemos solicitado no existe. Podemos forzar este error [accediendo a URLs no válidas](http://www.uoc.edu/no).\n",
    "\n",
    "Las acciones o métodos más usados en interacción con web API son:\n",
    "* GET: permite obtener información del recurso especificado.\n",
    "* POST: permite enviar datos al recurso especificado.\n",
    "* PUT: carga datos actualizando los ya existentes en el recurso especificado.\n",
    "* DELETE: elimina información del recurso especificado.\n",
    "\n",
    "## 3.3. JSON y XML\n",
    "\n",
    "Dos de los formatos más habituales para incluir datos en las respuestas de las web API son JSON y XML. Ambos formatos tienen varias propiedades en común. En primer lugar, fueron diseñados para ser legibles tanto por humanos como por ordenadores, lo que los hace ideales en este contexto. En segundo lugar, ambos incorporan información sobre la estructura de los datos que codifican. Finalmente, ambos almacenan los datos en texto claro. Sin embargo, ambos lenguajes presentan múltiples diferencias.\n",
    "\n",
    "El formato **XML** (del inglés, _eXtensible Markup Language_) es un lenguaje de marcas que utiliza un conjunto de etiquetas no predefinido. Los documentos XML tienen un único elemento raíz del cual pueden colgar otros elementos. Los elementos se delimitan con una etiqueta inicial y una etiqueta final. Veamos un ejemplo de un sencillo documento XML:\n",
    "\n",
    "```\n",
    "<persona>\n",
    "  <nombre>Yann</nombre>\n",
    "  <apellidos>\n",
    "    <apellido1>LeCun</apellido1>\n",
    "    <apellido2>-</apellido2>\n",
    "  </apellidos>\n",
    "  <edad>56</edad>\n",
    "</persona>\n",
    "```\n",
    "\n",
    "El formato **JSON** (del inglés, _JavaScript Object Notation_) es un subconjunto de la notación de objetos javascript. JSON se basa en dos estructuras de datos, el array y el objeto, que serían equivalentes a las listas y los diccionarios de Python que ya hemos introducido. \n",
    "\n",
    "Así, un array JSON es una lista ordenada de cero o más valores, por ejemplo:\n",
    "\n",
    "```\n",
    "[\"data\", \"science\", \"course\"]\n",
    "```\n",
    "\n",
    "En este caso, el array está formado por cadenas de caracteres. \n",
    "\n",
    "Un objeto JSON es una colección no ordenada de pares de clave y valor. Por ejemplo: \n",
    "```\n",
    "{\n",
    "  \"course\": \"Data Science\",\n",
    "  \"year\": 2017\n",
    "}\n",
    "```\n",
    "\n",
    "Veamos un ejemplo de los datos que hemos representado anteriormente en XML, usando ahora el formato JSON:\n",
    "```\n",
    "{\n",
    "  \"nombre\": \"Yann\",\n",
    "  \"apellidos\": {\n",
    "    \"apellido1\": \"LeCun\",\n",
    "    \"apellido2\": \"-\"\n",
    "  },\n",
    "  \"edad\" : 56\n",
    "}\n",
    "```\n",
    "\n",
    "En este caso, hemos usado un objeto con tres claves: la primera tiene como valor una cadena de caracteres, la segunda tiene como valor otro objeto y la tercera tiene como valor un entero."
   ]
  },
  {
   "cell_type": "markdown",
   "metadata": {},
   "source": [
    "La librería json de Python nos ofrece algunas funciones muy útiles para trabajar en este formato. Por ejemplo, podemos obtener la representación JSON de objetos Python o crear objetos Python a partir de su representación en JSON."
   ]
  },
  {
   "cell_type": "code",
   "execution_count": 19,
   "metadata": {},
   "outputs": [
    {
     "name": "stdout",
     "output_type": "stream",
     "text": [
      "<class 'dict'>\n",
      "{'nombre': 'Yann', 'apellidos': {'apellido1': 'LeCun', 'apellido2': '-'}, 'edad': 56}\n",
      "<class 'list'>\n",
      "[1, 2, 3]\n"
     ]
    }
   ],
   "source": [
    "# Construimos un diccionario de ejemplo y mostramos el tipo de datos y el contenido de la variable.\n",
    "diccionario_ejemplo = {\"nombre\": \"Yann\", \"apellidos\": {\"apellido1\": \"LeCun\", \"apellido2\": \"-\"}, \"edad\": 56}\n",
    "print(type(diccionario_ejemplo))\n",
    "print(diccionario_ejemplo)\n",
    "\n",
    "# Construimos una lista de ejemplo y mostramos el tipo de datos y el contenido de la variable.\n",
    "lista_ejemplo = [1, 2, 3]\n",
    "print(type(lista_ejemplo))\n",
    "print(lista_ejemplo)"
   ]
  },
  {
   "cell_type": "code",
   "execution_count": 2,
   "metadata": {},
   "outputs": [
    {
     "name": "stdout",
     "output_type": "stream",
     "text": [
      "<class 'str'>\n",
      "{\"nombre\": \"Yann\", \"apellidos\": {\"apellido1\": \"LeCun\", \"apellido2\": \"-\"}, \"edad\": 56}\n",
      "<class 'str'>\n",
      "[1, 2, 3]\n"
     ]
    }
   ],
   "source": [
    "# Importamos la librería json.\n",
    "import json\n",
    "\n",
    "# Mostramos la representación json del diccionario.\n",
    "json_dict = json.dumps(diccionario_ejemplo)\n",
    "print(type(json_dict))\n",
    "print(json_dict)\n",
    "\n",
    "# Mostramos la representación json de la lista.\n",
    "json_list = json.dumps(lista_ejemplo)\n",
    "print(type(json_list))\n",
    "print(json_list)"
   ]
  },
  {
   "cell_type": "markdown",
   "metadata": {},
   "source": [
    "Fijaos que, en ambos casos, obtenemos una cadena de caracteres que nos representa, en formato JSON, los objetos Python. Este proceso se conoce como **serializar** el objeto.\n",
    "\n",
    "También podemos realizar el proceso inverso (conocido como **deserializar**), creando objetos Python (por ejemplo, listas o diccionarios) a partir de cadenas de texto en formato JSON.\n"
   ]
  },
  {
   "cell_type": "code",
   "execution_count": 3,
   "metadata": {},
   "outputs": [
    {
     "name": "stdout",
     "output_type": "stream",
     "text": [
      "<class 'dict'>\n",
      "{'nombre': 'Yann', 'apellidos': {'apellido1': 'LeCun', 'apellido2': '-'}, 'edad': 56}\n",
      "<class 'list'>\n",
      "[1, 2, 3]\n"
     ]
    }
   ],
   "source": [
    "# Deserializamos la cadena json_dict.\n",
    "diccionario_ejemplo2 = json.loads(json_dict)\n",
    "print(type(diccionario_ejemplo2))\n",
    "print(diccionario_ejemplo2)\n",
    "\n",
    "# Deserializamos la cadena json_list.\n",
    "lista_ejemplo2 = json.loads(json_list)\n",
    "print(type(lista_ejemplo2))\n",
    "print(lista_ejemplo2)"
   ]
  },
  {
   "cell_type": "markdown",
   "metadata": {},
   "source": [
    "Para mejorar la legibilidad de los datos que obtendremos de las API, definiremos una función que mostrará cadenas JSON por pantalla formateadas para mejorar la lectura. La función aceptará tanto cadenas de carácteres con contenido JSON como objetos Python, y mostrará el contenido por pantalla.\n",
    "\n",
    "Además, la función recibirá un parámetro opcional que nos permitirá indicar el número máximo de líneas que hay que mostrar. Así, podremos usar la función para visualizar las primeras líneas de un JSON largo, sin tener que mostrar el JSON completo por pantalla."
   ]
  },
  {
   "cell_type": "code",
   "execution_count": 4,
   "metadata": {},
   "outputs": [],
   "source": [
    "# Define la función 'json_print', que tiene un parámetro obligatorio 'json_data' y un parámetro opcional limit\n",
    "# y no devuelve ningún valor.\n",
    "# La función muestra por pantalla el contenido de la variable 'json_data' en formato JSON, limitando el número \n",
    "# de líneas a mostrar si se incluye el parámetro limit.\n",
    "def json_print(json_data, limit=None):\n",
    "    if isinstance(json_data, (str)):\n",
    "        json_data = json.loads(json_data)\n",
    "    nice = json.dumps(json_data, sort_keys=True, indent=3, separators=(',', ': '))\n",
    "    print(\"\\n\".join(nice.split(\"\\n\")[0:limit]))\n",
    "    if limit is not None:\n",
    "        print(\"[...]\")\n",
    "    "
   ]
  },
  {
   "cell_type": "markdown",
   "metadata": {},
   "source": [
    "Veamos un ejemplo del resultado de utilizar la función que acabamos de definir."
   ]
  },
  {
   "cell_type": "code",
   "execution_count": 5,
   "metadata": {},
   "outputs": [
    {
     "name": "stdout",
     "output_type": "stream",
     "text": [
      "{\"nombre\": \"Yann\", \"apellidos\": {\"apellido1\": \"LeCun\", \"apellido2\": \"-\"}, \"edad\": 56}\n"
     ]
    }
   ],
   "source": [
    "# Muestra el valor de la variable 'json_ejemplo' con la función 'print'.\n",
    "json_ejemplo = '{\"nombre\": \"Yann\", \"apellidos\": {\"apellido1\": \"LeCun\", \"apellido2\": \"-\"}, \"edad\": 56}'\n",
    "print(json_ejemplo)"
   ]
  },
  {
   "cell_type": "code",
   "execution_count": 6,
   "metadata": {},
   "outputs": [
    {
     "name": "stdout",
     "output_type": "stream",
     "text": [
      "{\n",
      "   \"apellidos\": {\n",
      "      \"apellido1\": \"LeCun\",\n",
      "      \"apellido2\": \"-\"\n",
      "   },\n",
      "   \"edad\": 56,\n",
      "   \"nombre\": \"Yann\"\n",
      "}\n"
     ]
    }
   ],
   "source": [
    "# Muestra el valor de la variable 'json_ejemplo' con la función 'json_print' que acabamos de definir.\n",
    "json_print(json_ejemplo)"
   ]
  },
  {
   "cell_type": "code",
   "execution_count": 7,
   "metadata": {},
   "outputs": [
    {
     "name": "stdout",
     "output_type": "stream",
     "text": [
      "{\n",
      "   \"apellidos\": {\n",
      "      \"apellido1\": \"LeCun\",\n",
      "[...]\n"
     ]
    }
   ],
   "source": [
    "# Mostramos únicamente las tres primeras líneas.\n",
    "json_print(json_ejemplo, 3)"
   ]
  },
  {
   "cell_type": "markdown",
   "metadata": {},
   "source": [
    "## 3.4. Uso de API de terceros en Python"
   ]
  },
  {
   "cell_type": "markdown",
   "metadata": {},
   "source": [
    "### 3.4.1. Acceso a API manualmente\n",
    "\n",
    "Podemos utilizar la librería de Python [Requests](http://docs.python-requests.org/) para realizar peticiones a web API de manera manual. Para ello, tendremos que acceder a la documentación de la API con la que queramos actuar, construir manualmente las peticiones para obtener la información deseada y procesar también manualmente la respuesta recibida.\n",
    "\n",
    "Veamos un ejemplo de petición HTTP a una API pública. El sitio http://postcodes.io/ ofrece una API de geolocalización sobre códigos postales en el Reino Unido. Leyendo la documentación, podemos ver que tiene un método GET con la URL http://api.postcodes.io/postcodes/:código-postal que nos retorna información del código postal especificado. "
   ]
  },
  {
   "cell_type": "code",
   "execution_count": 8,
   "metadata": {},
   "outputs": [
    {
     "name": "stdout",
     "output_type": "stream",
     "text": [
      "Código de estado de la respuesta:  200 \n",
      "\n",
      "Cabecera de la respuesta: \n",
      "{\n",
      "   \"Access-Control-Allow-Origin\": \"*\",\n",
      "   \"Connection\": \"keep-alive\",\n",
      "   \"Content-Length\": \"805\",\n",
      "   \"Content-Type\": \"application/json; charset=utf-8\",\n",
      "   \"Date\": \"Mon, 05 Aug 2019 07:45:30 GMT\",\n",
      "   \"ETag\": \"W/\\\"325-s87vTpVPeXA7mcWcF8hfLWqOGL8\\\"\",\n",
      "   \"Server\": \"nginx/1.14.0\",\n",
      "   \"X-GNU\": \"Michael J Blanchard\"\n",
      "}\n",
      "\n",
      "Cuerpo de la respuesta: \n",
      "{\n",
      "   \"result\": {\n",
      "      \"admin_county\": null,\n",
      "      \"admin_district\": \"Tower Hamlets\",\n",
      "      \"admin_ward\": \"St Katharine's & Wapping\",\n",
      "      \"ccg\": \"NHS Tower Hamlets\",\n",
      "      \"ced\": null,\n",
      "      \"codes\": {\n",
      "         \"admin_county\": \"E99999999\",\n",
      "         \"admin_district\": \"E09000030\",\n",
      "         \"admin_ward\": \"E05009330\",\n",
      "         \"ccg\": \"E38000186\",\n",
      "         \"ced\": \"E99999999\",\n",
      "         \"nuts\": \"UKI42\",\n",
      "         \"parish\": \"E43000220\",\n",
      "         \"parliamentary_constituency\": \"E14000882\"\n",
      "      },\n",
      "      \"country\": \"England\",\n",
      "      \"eastings\": 534427,\n",
      "      \"european_electoral_region\": \"London\",\n",
      "      \"incode\": \"1TT\",\n",
      "      \"latitude\": 51.508024,\n",
      "      \"longitude\": -0.064393,\n",
      "      \"lsoa\": \"Tower Hamlets 026B\",\n",
      "      \"msoa\": \"Tower Hamlets 026\",\n",
      "      \"nhs_ha\": \"London\",\n",
      "      \"northings\": 180564,\n",
      "      \"nuts\": \"Tower Hamlets\",\n",
      "      \"outcode\": \"E98\",\n",
      "      \"parish\": \"Tower Hamlets, unparished area\",\n",
      "      \"parliamentary_constituency\": \"Poplar and Limehouse\",\n",
      "      \"postcode\": \"E98 1TT\",\n",
      "      \"primary_care_trust\": \"Tower Hamlets\",\n",
      "      \"quality\": 1,\n",
      "      \"region\": \"London\"\n",
      "   },\n",
      "   \"status\": 200\n",
      "}\n"
     ]
    }
   ],
   "source": [
    "# Importamos la librería.\n",
    "import requests\n",
    "\n",
    "# Realizamos una petición get a la API, preguntando sobre el código postal \"E98 1TT\"\n",
    "# Notad que el carácter espacio se codifica como %20 en la URL.\n",
    "response = requests.get('http://api.postcodes.io/postcodes/E98%201TT')\n",
    "\n",
    "# Mostramos la respuesta recibida.\n",
    "print(\"Código de estado de la respuesta: \", response.status_code, \"\\n\")\n",
    "print(\"Cabecera de la respuesta: \")\n",
    "json_print(dict(response.headers))\n",
    "print(\"\\nCuerpo de la respuesta: \")\n",
    "json_print(str(response.text))"
   ]
  },
  {
   "cell_type": "markdown",
   "metadata": {},
   "source": [
    "Como podemos ver, el estado de la respuesta es 200, lo que [nos indica](https://www.w3.org/Protocols/rfc2616/rfc2616-sec10.html) que la petición se ha procesado correctamente. Entre otros campos, la cabecera de la respuesta incluye el tipo de contenido que encontraremos en el cuerpo, que será un texto en formato JSON. Por último, el cuerpo de la respuesta incluye datos sobre el código postal consultado. Por ejemplo, podemos ver que corresponde a Inglaterra (concretamente, a la ciudad de Londres).\n",
    "\n",
    "Notad que podemos visualizar también la respuesta accediendo a la [misma URL](http://api.postcodes.io/postcodes/E98%201TT) con un navegador web. En este caso, se pueden instalar extensiones específicas que gestionen la visualización mejorada del JSON retornado (por ejemplo, [JSONView](https://chrome.google.com/webstore/detail/jsonview/chklaanhfefbnpoihckbnefhakgolnmc) para Chrome o Firefox)."
   ]
  },
  {
   "cell_type": "markdown",
   "metadata": {},
   "source": [
    "### 3.4.2. Acceso a API con librerías de Python\n",
    "\n",
    "Aunque podríamos usar este método para interactuar con cualquier API HTTP, lo cierto es que cuando la complejidad de las funciones disponibles incrementa (por ejemplo, al incluir autenticación) puede no resultar muy práctico. Cuando queramos acceder a APIs populares, normalmente encontraremos que ya existen librerías de Python diseñadas para interactuar con las estas APIs, de manera que podremos obtener datos sin necesidad de manejar las peticiones HTTP manualmente.\n",
    "\n",
    "Por ejemplo, Twitter, la famosa plataforma de envío de mensajes cortos, ofrece varias [APIs](https://developer.twitter.com/en/docs/api-reference-index) que permiten obtener datos de la red. Disponemos de varias librerías de Python que permiten interactuar con la API de Twitter. En este notebook, veremos cómo obtener datos de Twitter usando [Tweepy](http://www.tweepy.org/).\n",
    "\n",
    "#### Autenticación con la API de Twitter\n",
    "\n",
    "Twitter requiere autenticación para poder utilizar su API. Por este motivo, el primer paso a realizar para poder obtener datos de Twitter a través de su API es conseguir unas credenciales adecuadas. En esta sección, describiremos cómo obtener credenciales para acceder a la API de Twitter.\n",
    "\n",
    "Para empezar, es necesario disponer de una cuenta en Twitter. Para poder ejecutar los ejemplos del notebook, necesitaréis por lo tanto tener una cuenta de Twitter. Podéis utilizar vuestra cuenta personal, si ya disponéis de ella, para solicitar los permisos de desarrollador que nos permitirán interactuar con la API. En caso contrario (o si preferís no usar vuestra cuenta personal), podéis crearos una cuenta de Twitter nueva. El proceso es muy sencillo:\n",
    "1. Acceder a [Twitter](http://www.twitter.com).\n",
    "2. Pulsar sobre *Sign up for Twitter* y seguir las indicaciones para completar el registro.\n",
    "\n",
    "Después, habrá que solicitar convertir la cuenta recién creada (o vuestra cuenta personal), en una cuenta de desarrollador. Para hacerlo, hay que seguir los siguientes pasos:\n",
    "1. Acceder al [panel de desarolladores de Twitter](https://developer.twitter.com/).\n",
    "2. Clickar sobre *Apply*.\n",
    "3. Clickar sobre *Apply for a developer account*.\n",
    "3. Pulsar *Continue*.\n",
    "4. Indicar porqué queréis disponer de una cuenta de desarrollador.\n",
    "\n",
    "Para poder realizar este proceso satisfactoriamente, necesitaréis que vuestra cuenta disponga de un número de teléfono asociado verificado. En caso contrario, veréis que os aparecerá un mensaje para que verifiquéis vuestro teléfono. \n",
    "\n",
    "Finalmente, una vez ya disponemos de una cuenta en Twitter, será necesario registrar una nueva aplicación. Para hacerlo, es necesario seguir los siguientes pasos:\n",
    "1. Acceder al [panel de desarolladores de Twitter](https://developer.twitter.com/en/apps).\n",
    "2. Pulsar sobre *Create new app*.\n",
    "3. Rellenar el formulario con los detalles de la aplicación. En concreto, necesitaréis proporcionar como mínimo los campos:\n",
    "    * *App name*\n",
    "    * *Application description*\n",
    "    * *Website URL*\n",
    "    * *Tell us how this app will be used*\n",
    "\n",
    "El campo Website debe contener una URL válida (por ejemplo, el enlace a vuestro perfil de Twitter).\n",
    "\n",
    "Una vez creada la aplicación, podéis acceder a la pestaña *Keys and access tokens*. Allí se encuentran las credenciales recién creadas para vuestra aplicación, que utilizaremos para autenticarnos y poder utilizar la API de Twitter. Veréis que ya tenéis las claves *Consumer API keys* disponibles. Además, será necesario pulsar sobre *Create* en la sección *Access token & access token secret* para obtener también ambos tokens. Los cuatro valores serán usados para autenticar nuestra aplicación:\n",
    "* API / Consumer Key\n",
    "* API / Consumer Secret\n",
    "* Access Token\n",
    "* Access Token Secret\n"
   ]
  },
  {
   "cell_type": "markdown",
   "metadata": {},
   "source": [
    "#### La librería Tweepy\n",
    "\n",
    "[Tweepy](http://www.tweepy.org/) nos permite interactuar con la API de Twitter de una manera sencilla, ya que encapsula los métodos HTTP de la API en métodos de Python, que pueden ser llamados directamente. Encontraréis la documentación de la librería en el siguiente [enlace](http://tweepy.readthedocs.io)."
   ]
  },
  {
   "cell_type": "code",
   "execution_count": 13,
   "metadata": {},
   "outputs": [
    {
     "name": "stdout",
     "output_type": "stream",
     "text": [
      "El tipo de datos de la variable user es: <class 'tweepy.models.User'>\n",
      "El nombre de usuario es: Twitter\n",
      "El id de usuario es: 783214\n"
     ]
    }
   ],
   "source": [
    "# Importamos la librería tweepy\n",
    "import tweepy\n",
    "\n",
    "# IMPORTANTE: Es necesario incluir las credenciales de acceso que hayáis obtenido al crear vuestra App\n",
    "# para ejecutar el ejemplo.\n",
    "consumer_key = ''\n",
    "consumer_secret = ''\n",
    "access_token = ''\n",
    "access_secret = ''\n",
    "\n",
    "# Inicializamos la interacción con la API\n",
    "auth = tweepy.OAuthHandler(consumer_key, consumer_secret)\n",
    "auth.set_access_token(access_token, access_secret)\n",
    "api = tweepy.API(auth)\n",
    "\n",
    "# Obtenemos datos del usuario \"twitter\" usando la librería tweepy\n",
    "user = api.get_user('twitter')\n",
    "\n",
    "print(\"El tipo de datos de la variable user es: {}\".format(type(user)))\n",
    "print(\"El nombre de usuario es: {}\".format(user.screen_name))\n",
    "print(\"El id de usuario es: {}\".format(user.id))"
   ]
  },
  {
   "cell_type": "markdown",
   "metadata": {},
   "source": [
    "Notad que, en este caso, no hemos tenido que gestionar las peticiones HTTP manualmente: la librería lo ha hecho por nosotros de forma transparente. \n",
    "\n",
    "Además, las funciones de la librería nos devuelven directamente objetos Python, que pueden ser usados como cualquier otro. Por ejemplo, podemos seleccionar solo una parte de las respuestas de las APIs según nuestro interés (en el ejemplo anterior, hemos seleccionado el identificador y el nombre de usuario directamente usando el objeto `user`). Veamos algunos ejemplos más de atributos que hemos recuperado del usuario:"
   ]
  },
  {
   "cell_type": "code",
   "execution_count": 17,
   "metadata": {},
   "outputs": [
    {
     "name": "stdout",
     "output_type": "stream",
     "text": [
      "El número de seguidores es: 56440698\n",
      "El número de amigos es: 29\n",
      "El número de tweets es: 11114\n"
     ]
    }
   ],
   "source": [
    "# Mostramos algunos atributos del usuario recuperado\n",
    "print(\"El número de seguidores es: {}\".format(user.followers_count))\n",
    "print(\"El número de amigos es: {}\".format(user.friends_count))\n",
    "print(\"El número de tweets es: {}\".format(user.statuses_count))"
   ]
  },
  {
   "cell_type": "markdown",
   "metadata": {},
   "source": [
    "# 4. Obtención de datos a partir de _web crawling_\n",
    "\n",
    "En ocasiones nos interesará capturar datos que se encuentran en Internet pero para los cuáles no existe una API que nos permita acceder a ellos de forma estructurada. En estos casos, una alternativa es programar una araña (en inglés, un **_web crawler_**), un programa que analiza páginas web de forma automática en busca del contenido de interés.\n",
    "\n",
    "El procedimiento esencial de un _web crawler_ consiste en explorar una determinada página web en busca de datos de interés, que se almacenarán para el posterior uso, y enlaces a otras páginas web de interés, que serán exploradas posteriormente por el propio _crawler_, en busca de nuevos datos de interés y nuevas páginas.\n",
    "\n",
    "Para obtener tanto los datos como los enlaces de interés, el _web crawler_ utiliza un analizador sintáctico (en inglés, **_parser_**), que procesa el HTML de la página web y extrae los datos.\n",
    "\n",
    "## 4.1. HTML\n",
    "\n",
    "El formato **HTML** (del inglés, _Hypertext Markup Language_) es el lenguaje de marcas estándar para describir la presentación de páginas web. Del mismo modo que XML, utiliza (mayoritariamente) una etiqueta inicial y una final para indicar elementos. A diferencia de XML, las etiquetas se encuentran prefijadas por un estándar. \n",
    "\n",
    "Además de señalizar el inicio y el final de un elemento, las etiquetas HTML pueden incluir atributos, que permiten proporcionar información adicional sobre los elementos.\n",
    "\n",
    "Veamos un ejemplo de un documento HTML sencillo:\n",
    "\n",
    "```\n",
    "<html>\n",
    "  <head>\n",
    "    <title>El título de la página</title>\n",
    "  </head>\n",
    "  <body>\n",
    "    <div class=\"clase1\" id =”id1”>\n",
    "       <p> Un texto </p>\n",
    "    </div>\n",
    "    <div class=\"clase1\" id =”id2”>\n",
    "       <p> Otro texto </p>\n",
    "    </div>\n",
    "  </body>\n",
    "</html>\n",
    "```"
   ]
  },
  {
   "cell_type": "markdown",
   "metadata": {},
   "source": [
    "## 4.2. _Web crawling_ en Python con Scrapy"
   ]
  },
  {
   "cell_type": "markdown",
   "metadata": {},
   "source": [
    "[Scrapy](https://scrapy.org/) es una librería de Python que provee de un _framework_ para la extracción de datos de páginas web. Scrapy es muy completa y dispone de múltiples funcionalidades, pero veremos un ejemplo sencillo de su uso.\n",
    "\n",
    "Suponed que queremos obtener un listado de las titulaciones de grado que ofrece la UOC. La UOC no ofrece una API con esta información, pero sí que podemos encontrarla en la página http://estudios.uoc.edu/es/grados. De todos modos, no queremos ir copiando manualmente los nombres de todas las titulaciones para obtener el listado de interés, por lo que desarollaremos un pequeño *crawler* que obtenga estos datos por nosotros.\n",
    "\n",
    "Ya tenemos identificada la url que queremos explorar (http://estudios.uoc.edu/es/grados), así que solo será necesario identificar dónde se encuentran los datos de interés dentro de la página. Para hacerlo, en primer lugar nos fijaremos en algún título de grado que aparezca en la página, por ejemplo, Diseño y Creación Digitales o Multimedia. Seguidamente accederemos al código fuente de la página (podemos usar la combinación de teclas `CTRL + u` en los navegadores Firefox o Chrome) y buscaremos los nombres de los grados que hemos visto anteriormente:\n",
    "\n",
    "\n"
   ]
  },
  {
   "cell_type": "raw",
   "metadata": {},
   "source": [
    "<a \n",
    "   title=\"Diseño y Creación Digitales\" \n",
    "   href=\"/es/grados/diseño-creacion-digital/presentacion\" \n",
    "   class=\"card-absolute-link\">\n",
    "    &nbsp;\n",
    "</a>"
   ]
  },
  {
   "cell_type": "raw",
   "metadata": {},
   "source": [
    "<a \n",
    "   title=\"Multimedia\" \n",
    "   href=\"/es/grados/multimedia/presentacion\" \n",
    "   class=\"card-absolute-link\">\n",
    "    &nbsp;\n",
    "</a> "
   ]
  },
  {
   "cell_type": "markdown",
   "metadata": {},
   "source": [
    "Como se puede apreciar, los datos que queremos recopilar (los nombres de las titulaciones de grado que ofrece la UOC) se encuentran en el atributo título (_title_) de un hipervínculo (un elemento señalado con la etiqueta `<a>`) que tiene el atributo clase fijado a «card-absolute-link». \n",
    "\n",
    "Para indicar que queremos seleccionar estos datos, utilizaremos la sintaxis XPath. En concreto, utilizaremos la expresión:\n",
    "```\n",
    "//a[@class=\"card-absolute-link\"]/@title\n",
    "```\n",
    "\n",
    "que nos indica que queremos seleccionar todas las etiquetas `<a>` que tengan como atributo clase el valor \"card-absolute-link\" y de ellas extraer el título. Con esto ya podemos programar nuestra araña para que extraiga los datos de interés.\n",
    "\n",
    "La estructura de un *crawler* con Scrapy viene prefijada. En nuestro caso, solo será necesario definir una araña e incluir un *parser* que extraiga los datos de las titulaciones y que disponga de la URL de inicio."
   ]
  },
  {
   "cell_type": "code",
   "execution_count": 1,
   "metadata": {},
   "outputs": [],
   "source": [
    "# Importamos scrapy.\n",
    "import scrapy\n",
    "from scrapy.crawler import CrawlerProcess\n",
    "\n",
    "# Creamos la araña.\n",
    "class uoc_spider(scrapy.Spider):\n",
    "    \n",
    "    # Asignamos un nombre a la araña.\n",
    "    name = \"uoc_spider\"\n",
    "    \n",
    "    # Indicamos la url que queremos analizar en primer lugar.\n",
    "    start_urls = [\n",
    "        \"http://estudios.uoc.edu/es/grados\"\n",
    "    ]\n",
    "\n",
    "    # Definimos el analizador.\n",
    "    def parse(self, response):\n",
    "        # Extraemos el título del grado.\n",
    "        for grado in response.xpath('//a[@class=\"card-absolute-link\"]'):\n",
    "            yield {\n",
    "                'title': grado.extract()\n",
    "            }"
   ]
  },
  {
   "cell_type": "markdown",
   "metadata": {},
   "source": [
    "Una vez definida la araña, lanzaremos el *crawler* indicando que queremos que use la araña `uoc_spider` que acabamos de definir:"
   ]
  },
  {
   "cell_type": "code",
   "execution_count": 2,
   "metadata": {},
   "outputs": [
    {
     "name": "stderr",
     "output_type": "stream",
     "text": [
      "2020-03-16 10:40:14 [scrapy.utils.log] INFO: Scrapy 1.7.4 started (bot: scrapybot)\n",
      "2020-03-16 10:40:14 [scrapy.utils.log] INFO: Versions: lxml 4.4.1.0, libxml2 2.9.9, cssselect 1.1.0, parsel 1.5.2, w3lib 1.21.0, Twisted 19.7.0, Python 3.7.3 (default, Mar 27 2019, 09:23:15) - [Clang 10.0.1 (clang-1001.0.46.3)], pyOpenSSL 19.0.0 (OpenSSL 1.1.1d  10 Sep 2019), cryptography 2.8, Platform Darwin-19.3.0-x86_64-i386-64bit\n",
      "2020-03-16 10:40:14 [scrapy.crawler] INFO: Overridden settings: {'USER_AGENT': 'Mozilla/4.0 (compatible; MSIE 7.0; Windows NT 5.1)'}\n",
      "2020-03-16 10:40:14 [scrapy.extensions.telnet] INFO: Telnet Password: ef4fa73b7db2e972\n",
      "2020-03-16 10:40:14 [scrapy.middleware] INFO: Enabled extensions:\n",
      "['scrapy.extensions.corestats.CoreStats',\n",
      " 'scrapy.extensions.telnet.TelnetConsole',\n",
      " 'scrapy.extensions.memusage.MemoryUsage',\n",
      " 'scrapy.extensions.logstats.LogStats']\n",
      "2020-03-16 10:40:14 [scrapy.middleware] INFO: Enabled downloader middlewares:\n",
      "['scrapy.downloadermiddlewares.httpauth.HttpAuthMiddleware',\n",
      " 'scrapy.downloadermiddlewares.downloadtimeout.DownloadTimeoutMiddleware',\n",
      " 'scrapy.downloadermiddlewares.defaultheaders.DefaultHeadersMiddleware',\n",
      " 'scrapy.downloadermiddlewares.useragent.UserAgentMiddleware',\n",
      " 'scrapy.downloadermiddlewares.retry.RetryMiddleware',\n",
      " 'scrapy.downloadermiddlewares.redirect.MetaRefreshMiddleware',\n",
      " 'scrapy.downloadermiddlewares.httpcompression.HttpCompressionMiddleware',\n",
      " 'scrapy.downloadermiddlewares.redirect.RedirectMiddleware',\n",
      " 'scrapy.downloadermiddlewares.cookies.CookiesMiddleware',\n",
      " 'scrapy.downloadermiddlewares.httpproxy.HttpProxyMiddleware',\n",
      " 'scrapy.downloadermiddlewares.stats.DownloaderStats']\n",
      "2020-03-16 10:40:14 [scrapy.middleware] INFO: Enabled spider middlewares:\n",
      "['scrapy.spidermiddlewares.httperror.HttpErrorMiddleware',\n",
      " 'scrapy.spidermiddlewares.offsite.OffsiteMiddleware',\n",
      " 'scrapy.spidermiddlewares.referer.RefererMiddleware',\n",
      " 'scrapy.spidermiddlewares.urllength.UrlLengthMiddleware',\n",
      " 'scrapy.spidermiddlewares.depth.DepthMiddleware']\n",
      "2020-03-16 10:40:14 [scrapy.middleware] INFO: Enabled item pipelines:\n",
      "[]\n",
      "2020-03-16 10:40:14 [scrapy.core.engine] INFO: Spider opened\n",
      "2020-03-16 10:40:14 [scrapy.extensions.logstats] INFO: Crawled 0 pages (at 0 pages/min), scraped 0 items (at 0 items/min)\n",
      "2020-03-16 10:40:14 [scrapy.extensions.telnet] INFO: Telnet console listening on 127.0.0.1:6023\n",
      "2020-03-16 10:40:14 [scrapy.downloadermiddlewares.redirect] DEBUG: Redirecting (301) to <GET https://estudios.uoc.edu/es/grados> from <GET http://estudios.uoc.edu/es/grados>\n",
      "2020-03-16 10:40:16 [scrapy.core.engine] DEBUG: Crawled (200) <GET https://estudios.uoc.edu/es/grados> (referer: None)\n",
      "2020-03-16 10:40:16 [scrapy.core.scraper] DEBUG: Scraped from <200 https://estudios.uoc.edu/es/grados>\n",
      "{'title': '<a title=\"Antropología y Evolución Humana (interuniversitario: URV, UOC)\" href=\"/es/grados/antropologia-evolucion-humana/presentacion\" class=\"card-absolute-link\" onclick=\\'_euocuc402llistatarea_WAR_euocentrega3portlet_INSTANCE_kDk3_enviarPushClick(\"Antropologia i Evolució Humana (interuniversitari: URV, UOC)\", \"PC02115\", \"20.42\", \"Graus\", \"Arts i Humanitats\", \"castellà\");\\'>\\xa0</a>'}\n",
      "2020-03-16 10:40:16 [scrapy.core.scraper] DEBUG: Scraped from <200 https://estudios.uoc.edu/es/grados>\n",
      "{'title': '<a title=\"Artes\" href=\"/es/grados/artes/presentacion\" class=\"card-absolute-link\" onclick=\\'_euocuc402llistatarea_WAR_euocentrega3portlet_INSTANCE_kDk3_enviarPushClick(\"Arts\", \"PC01461\", \"20.42\", \"Graus\", \"Arts i Humanitats\", \"castellà\");\\'>\\xa0</a>'}\n",
      "2020-03-16 10:40:16 [scrapy.core.scraper] DEBUG: Scraped from <200 https://estudios.uoc.edu/es/grados>\n",
      "{'title': '<a title=\"Ciencias Sociales\" href=\"/es/grados/ciencias-sociales/presentacion\" class=\"card-absolute-link\" onclick=\\'_euocuc402llistatarea_WAR_euocentrega3portlet_INSTANCE_kDk3_enviarPushClick(\"Ciències Socials\", \"PC02145\", \"20.42\", \"Graus\", \"Arts i Humanitats\", \"castellà\");\\'>\\xa0</a>'}\n",
      "2020-03-16 10:40:16 [scrapy.core.scraper] DEBUG: Scraped from <200 https://estudios.uoc.edu/es/grados>\n",
      "{'title': '<a title=\"Historia, Geografia e Historia del Arte (interuniversitario: UOC, UdL)\" href=\"/es/grados/historia-geografia-arte/presentacion\" class=\"card-absolute-link\" onclick=\\'_euocuc402llistatarea_WAR_euocentrega3portlet_INSTANCE_kDk3_enviarPushClick(\"Història, Geografia i Història de l%27Art (interuniversitari: UOC, UdL)\", \"PC02094\", \"20.42\", \"Graus\", \"Arts i Humanitats\", \"castellà\");\\'>\\xa0</a>'}\n",
      "2020-03-16 10:40:16 [scrapy.core.scraper] DEBUG: Scraped from <200 https://estudios.uoc.edu/es/grados>\n",
      "{'title': '<a title=\"Humanidades\" href=\"/es/grados/humanidades/presentacion\" class=\"card-absolute-link\" onclick=\\'_euocuc402llistatarea_WAR_euocentrega3portlet_INSTANCE_kDk3_enviarPushClick(\"Humanitats\", \"PC02147\", \"20.42\", \"Graus\", \"Arts i Humanitats\", \"castellà\");\\'>\\xa0</a>'}\n",
      "2020-03-16 10:40:16 [scrapy.core.scraper] DEBUG: Scraped from <200 https://estudios.uoc.edu/es/grados>\n",
      "{'title': '<a title=\"Lengua y Literatura Catalanas\" href=\"/es/grados/lengua-literatura-catalanas/presentacion\" class=\"card-absolute-link\" onclick=\\'_euocuc402llistatarea_WAR_euocentrega3portlet_INSTANCE_kDk3_enviarPushClick(\"Llengua i Literatura Catalanes\", \"PC02135\", \"20.42\", \"Graus\", \"Arts i Humanitats\", \"castellà\");\\'>\\xa0</a>'}\n",
      "2020-03-16 10:40:16 [scrapy.core.scraper] DEBUG: Scraped from <200 https://estudios.uoc.edu/es/grados>\n",
      "{'title': '<a title=\"Traducción, Interpretación y Lenguas Aplicadas (interuniversitario: UVic-UCC, UOC)\" href=\"/es/grados/traduccion-interpretacion-lenguas-aplicadas/presentacion\" class=\"card-absolute-link\" onclick=\\'_euocuc402llistatarea_WAR_euocentrega3portlet_INSTANCE_kDk3_enviarPushClick(\"Traducció, Interpretació i Llengües Aplicades (interuniversitari: UVic-UCC, UOC)\", \"PC02120\", \"51.21\", \"Graus\", \"Arts i Humanitats\", \"castellà\");\\'>\\xa0</a>'}\n",
      "2020-03-16 10:40:16 [scrapy.core.scraper] DEBUG: Scraped from <200 https://estudios.uoc.edu/es/grados>\n",
      "{'title': '<a title=\"Logopedia (interuniversitario: Uvic-UCC, UOC)\" href=\"/es/grados/logopedia-uvic-ucc/presentacion\" class=\"card-absolute-link\" onclick=\\'_euocuc402llistatarea_WAR_euocentrega3portlet_INSTANCE_kDk3_enviarPushClick(\"Logopèdia (interuniversitari: Uvic-UCC, UOC)\", \"PC02109\", \"72.0\", \"Graus\", \"Ciències de la Salut\", \"castellà\");\\'>\\xa0</a>'}\n",
      "2020-03-16 10:40:16 [scrapy.core.scraper] DEBUG: Scraped from <200 https://estudios.uoc.edu/es/grados>\n",
      "{'title': '<a title=\"Comunicación\" href=\"/es/grados/comunicacion/presentacion\" class=\"card-absolute-link\" onclick=\\'_euocuc402llistatarea_WAR_euocentrega3portlet_INSTANCE_kDk3_enviarPushClick(\"Comunicació\", \"PC02090\", \"20.42\", \"Graus\", \"Comunicació i Informació\", \"castellà\");\\'>\\xa0</a>'}\n",
      "2020-03-16 10:40:16 [scrapy.core.scraper] DEBUG: Scraped from <200 https://estudios.uoc.edu/es/grados>\n",
      "{'title': '<a title=\"Diseño y Creación Digitales\" href=\"/es/grados/dise%C3%B1o-creacion-digital/presentacion\" class=\"card-absolute-link\" onclick=\\'_euocuc402llistatarea_WAR_euocentrega3portlet_INSTANCE_kDk3_enviarPushClick(\"Disseny i Creació Digitals\", \"PC01819\", \"22.8\", \"Graus\", \"Comunicació i Informació\", \"castellà\");\\'>\\xa0</a>'}\n",
      "2020-03-16 10:40:16 [scrapy.core.scraper] DEBUG: Scraped from <200 https://estudios.uoc.edu/es/grados>\n",
      "{'title': '<a title=\"Criminología\" href=\"/es/grados/criminologia/presentacion\" class=\"card-absolute-link\" onclick=\\'_euocuc402llistatarea_WAR_euocentrega3portlet_INSTANCE_kDk3_enviarPushClick(\"Criminologia\", \"PC02100\", \"20.42\", \"Graus\", \"Dret i Ciències Polítiques\", \"castellà\");\\'>\\xa0</a>'}\n",
      "2020-03-16 10:40:16 [scrapy.core.scraper] DEBUG: Scraped from <200 https://estudios.uoc.edu/es/grados>\n",
      "{'title': '<a title=\"Derecho\" href=\"/es/grados/derecho/presentacion\" class=\"card-absolute-link\" onclick=\\'_euocuc402llistatarea_WAR_euocentrega3portlet_INSTANCE_kDk3_enviarPushClick(\"Dret\", \"PC02101\", \"20.42\", \"Graus\", \"Dret i Ciències Polítiques\", \"castellà\");\\'>\\xa0</a>'}\n",
      "2020-03-16 10:40:16 [scrapy.core.scraper] DEBUG: Scraped from <200 https://estudios.uoc.edu/es/grados>\n",
      "{'title': '<a title=\"Doble titulación de Derecho y de Administración y Dirección de Empresas\" href=\"/es/grados/derecho-administracion-direccion-empresas-doble-titulacion/presentacion\" class=\"card-absolute-link\" onclick=\\'_euocuc402llistatarea_WAR_euocentrega3portlet_INSTANCE_kDk3_enviarPushClick(\"Doble titulació de Dret i d%27Administració i Direcció d%27Empreses\", \"PC04309\", \"0.0\", \"Graus\", \"Dret i Ciències Polítiques\", \"castellà\");\\'>\\xa0</a>'}\n"
     ]
    },
    {
     "name": "stderr",
     "output_type": "stream",
     "text": [
      "2020-03-16 10:40:16 [scrapy.core.scraper] DEBUG: Scraped from <200 https://estudios.uoc.edu/es/grados>\n",
      "{'title': '<a title=\"Gestión y Administración Pública (interuniversitario: UOC, UB)\" href=\"/es/grados/gestion-administracion-publica/presentacion\" class=\"card-absolute-link\" onclick=\\'_euocuc402llistatarea_WAR_euocentrega3portlet_INSTANCE_kDk3_enviarPushClick(\"Gestió i Administració Pública (interuniversitari: UOC, UB)\", \"PC02103\", \"20.42\", \"Graus\", \"Dret i Ciències Polítiques\", \"castellà\");\\'>\\xa0</a>'}\n",
      "2020-03-16 10:40:16 [scrapy.core.scraper] DEBUG: Scraped from <200 https://estudios.uoc.edu/es/grados>\n",
      "{'title': '<a title=\"Relaciones Internacionales\" href=\"/es/grados/relaciones-internacionales/presentacion\" class=\"card-absolute-link\" onclick=\\'_euocuc402llistatarea_WAR_euocentrega3portlet_INSTANCE_kDk3_enviarPushClick(\"Relacions Internacionals\", \"PC02137\", \"20.42\", \"Graus\", \"Dret i Ciències Polítiques\", \"castellà\");\\'>\\xa0</a>'}\n",
      "2020-03-16 10:40:16 [scrapy.core.scraper] DEBUG: Scraped from <200 https://estudios.uoc.edu/es/grados>\n",
      "{'title': '<a title=\"Artes\" href=\"/es/grados/artes/presentacion\" class=\"card-absolute-link\" onclick=\\'_euocuc402llistatarea_WAR_euocentrega3portlet_INSTANCE_kDk3_enviarPushClick(\"Arts\", \"PC01461\", \"20.42\", \"Graus\", \"Disseny, Creació i Multimèdia\", \"castellà\");\\'>\\xa0</a>'}\n",
      "2020-03-16 10:40:16 [scrapy.core.scraper] DEBUG: Scraped from <200 https://estudios.uoc.edu/es/grados>\n",
      "{'title': '<a title=\"Diseño y Creación Digitales\" href=\"/es/grados/dise%C3%B1o-creacion-digital/presentacion\" class=\"card-absolute-link\" onclick=\\'_euocuc402llistatarea_WAR_euocentrega3portlet_INSTANCE_kDk3_enviarPushClick(\"Disseny i Creació Digitals\", \"PC01819\", \"22.8\", \"Graus\", \"Disseny, Creació i Multimèdia\", \"castellà\");\\'>\\xa0</a>'}\n",
      "2020-03-16 10:40:16 [scrapy.core.scraper] DEBUG: Scraped from <200 https://estudios.uoc.edu/es/grados>\n",
      "{'title': '<a title=\"Multimedia\" href=\"/es/grados/multimedia/presentacion\" class=\"card-absolute-link\" onclick=\\'_euocuc402llistatarea_WAR_euocentrega3portlet_INSTANCE_kDk3_enviarPushClick(\"Multimèdia\", \"PC02136\", \"22.8\", \"Graus\", \"Disseny, Creació i Multimèdia\", \"castellà\");\\'>\\xa0</a>'}\n",
      "2020-03-16 10:40:16 [scrapy.core.scraper] DEBUG: Scraped from <200 https://estudios.uoc.edu/es/grados>\n",
      "{'title': '<a title=\"Administración y Dirección de Empresas\" href=\"/es/grados/administracion-direccion-empresas/presentacion\" class=\"card-absolute-link\" onclick=\\'_euocuc402llistatarea_WAR_euocentrega3portlet_INSTANCE_kDk3_enviarPushClick(\"Administració i Direcció d%27Empreses\", \"PC02089\", \"20.42\", \"Graus\", \"Economia i Empresa\", \"castellà\");\\'>\\xa0</a>'}\n",
      "2020-03-16 10:40:16 [scrapy.core.scraper] DEBUG: Scraped from <200 https://estudios.uoc.edu/es/grados>\n",
      "{'title': '<a title=\"Doble titulación de Administración y Dirección de Empresas y de Turismo\" href=\"/es/grados/administracion-direccion-empresas-turismo-doble-titulacion/presentacion\" class=\"card-absolute-link\" onclick=\\'_euocuc402llistatarea_WAR_euocentrega3portlet_INSTANCE_kDk3_enviarPushClick(\"Doble titulació d%27Administració i Direcció d%27Empreses i de Turisme\", \"PC04308\", \"0.0\", \"Graus\", \"Economia i Empresa\", \"castellà\");\\'>\\xa0</a>'}\n",
      "2020-03-16 10:40:16 [scrapy.core.scraper] DEBUG: Scraped from <200 https://estudios.uoc.edu/es/grados>\n",
      "{'title': '<a title=\"Economía\" href=\"/es/grados/economia/presentacion\" class=\"card-absolute-link\" onclick=\\'_euocuc402llistatarea_WAR_euocentrega3portlet_INSTANCE_kDk3_enviarPushClick(\"Economia\", \"PC02128\", \"20.42\", \"Graus\", \"Economia i Empresa\", \"castellà\");\\'>\\xa0</a>'}\n",
      "2020-03-16 10:40:16 [scrapy.core.scraper] DEBUG: Scraped from <200 https://estudios.uoc.edu/es/grados>\n",
      "{'title': '<a title=\"Marketing e investigación de mercados\" href=\"/es/grados/marketing-investigacion-mercados/presentacion\" class=\"card-absolute-link\" onclick=\\'_euocuc402llistatarea_WAR_euocentrega3portlet_INSTANCE_kDk3_enviarPushClick(\"Màrqueting i Investigació de Mercats\", \"PC02130\", \"20.42\", \"Graus\", \"Economia i Empresa\", \"castellà\");\\'>\\xa0</a>'}\n",
      "2020-03-16 10:40:16 [scrapy.core.scraper] DEBUG: Scraped from <200 https://estudios.uoc.edu/es/grados>\n",
      "{'title': '<a title=\"Relaciones Laborales y Ocupación\" href=\"/es/grados/relaciones-laborales-ocupacion/presentacion\" class=\"card-absolute-link\" onclick=\\'_euocuc402llistatarea_WAR_euocentrega3portlet_INSTANCE_kDk3_enviarPushClick(\"Relacions Laborals i Ocupació\", \"PC02132\", \"20.42\", \"Graus\", \"Economia i Empresa\", \"castellà\");\\'>\\xa0</a>'}\n",
      "2020-03-16 10:40:16 [scrapy.core.scraper] DEBUG: Scraped from <200 https://estudios.uoc.edu/es/grados>\n",
      "{'title': '<a title=\"Ciencia de Datos Aplicada /Applied Data Science\" href=\"/es/grados/data-science/presentacion\" class=\"card-absolute-link\" onclick=\\'_euocuc402llistatarea_WAR_euocentrega3portlet_INSTANCE_kDk3_enviarPushClick(\"Ciència de Dades Aplicada /Applied Data Science\", \"PC01367\", \"22.8\", \"Graus\", \"Informàtica, Multimèdia i Telecomunicació\", \"castellà\");\\'>\\xa0</a>'}\n",
      "2020-03-16 10:40:16 [scrapy.core.scraper] DEBUG: Scraped from <200 https://estudios.uoc.edu/es/grados>\n",
      "{'title': '<a title=\"Doble titulación de Ingeniería Informática y de Administración y Dirección de Empresas\" href=\"/es/grados/informatica-ade-doble-titulacion/presentacion\" class=\"card-absolute-link\" onclick=\\'_euocuc402llistatarea_WAR_euocentrega3portlet_INSTANCE_kDk3_enviarPushClick(\"Doble titulació d%27Enginyeria Informàtica i d%27Administració i Direcció d%27Empreses\", \"PC04312\", \"0.0\", \"Graus\", \"Informàtica, Multimèdia i Telecomunicació\", \"castellà\");\\'>\\xa0</a>'}\n",
      "2020-03-16 10:40:16 [scrapy.core.scraper] DEBUG: Scraped from <200 https://estudios.uoc.edu/es/grados>\n",
      "{'title': '<a title=\"Ingeniería Informática\" href=\"/es/grados/ingenieria-informatica/presentacion\" class=\"card-absolute-link\" onclick=\\'_euocuc402llistatarea_WAR_euocentrega3portlet_INSTANCE_kDk3_enviarPushClick(\"Enginyeria Informàtica\", \"PC02093\", \"22.8\", \"Graus\", \"Informàtica, Multimèdia i Telecomunicació\", \"castellà\");\\'>\\xa0</a>'}\n",
      "2020-03-16 10:40:16 [scrapy.core.scraper] DEBUG: Scraped from <200 https://estudios.uoc.edu/es/grados>\n",
      "{'title': '<a title=\"Ingeniería de Tecnologías y Servicios de Telecomunicación\" href=\"/es/grados/tecnologias-telecomunicacion/presentacion\" class=\"card-absolute-link\" onclick=\\'_euocuc402llistatarea_WAR_euocentrega3portlet_INSTANCE_kDk3_enviarPushClick(\"Enginyeria de Tecnologies i Serveis de Telecomunicació\", \"PC02117\", \"22.8\", \"Graus\", \"Informàtica, Multimèdia i Telecomunicació\", \"castellà\");\\'>\\xa0</a>'}\n",
      "2020-03-16 10:40:16 [scrapy.core.scraper] DEBUG: Scraped from <200 https://estudios.uoc.edu/es/grados>\n",
      "{'title': '<a title=\"Multimedia\" href=\"/es/grados/multimedia/presentacion\" class=\"card-absolute-link\" onclick=\\'_euocuc402llistatarea_WAR_euocentrega3portlet_INSTANCE_kDk3_enviarPushClick(\"Multimèdia\", \"PC02136\", \"22.8\", \"Graus\", \"Informàtica, Multimèdia i Telecomunicació\", \"castellà\");\\'>\\xa0</a>'}\n",
      "2020-03-16 10:40:16 [scrapy.core.scraper] DEBUG: Scraped from <200 https://estudios.uoc.edu/es/grados>\n",
      "{'title': '<a title=\"Educación Social\" href=\"/es/grados/educacion-social/presentacion\" class=\"card-absolute-link\" onclick=\\'_euocuc402llistatarea_WAR_euocentrega3portlet_INSTANCE_kDk3_enviarPushClick(\"Educació Social\", \"PC02113\", \"20.42\", \"Graus\", \"Psicologia i Ciències de l\\' educaci>\\xa0</a>'}\n",
      "2020-03-16 10:40:16 [scrapy.core.scraper] DEBUG: Scraped from <200 https://estudios.uoc.edu/es/grados>\n",
      "{'title': '<a title=\"Psicología\" href=\"/es/grados/psicologia/presentacion\" class=\"card-absolute-link\" onclick=\\'_euocuc402llistatarea_WAR_euocentrega3portlet_INSTANCE_kDk3_enviarPushClick(\"Psicologia\", \"PC02111\", \"20.42\", \"Graus\", \"Psicologia i Ciències de l\\' educaci>\\xa0</a>'}\n",
      "2020-03-16 10:40:16 [scrapy.core.scraper] DEBUG: Scraped from <200 https://estudios.uoc.edu/es/grados>\n",
      "{'title': '<a title=\"Turismo\" href=\"/es/grados/turismo/presentacion\" class=\"card-absolute-link\" onclick=\\'_euocuc402llistatarea_WAR_euocentrega3portlet_INSTANCE_kDk3_enviarPushClick(\"Turisme\", \"PC02104\", \"20.42\", \"Graus\", \"Turisme\", \"castellà\");\\'>\\xa0</a>'}\n",
      "2020-03-16 10:40:16 [scrapy.core.engine] INFO: Closing spider (finished)\n",
      "2020-03-16 10:40:16 [scrapy.statscollectors] INFO: Dumping Scrapy stats:\n",
      "{'downloader/request_bytes': 480,\n",
      " 'downloader/request_count': 2,\n",
      " 'downloader/request_method_count/GET': 2,\n",
      " 'downloader/response_bytes': 62698,\n",
      " 'downloader/response_count': 2,\n",
      " 'downloader/response_status_count/200': 1,\n",
      " 'downloader/response_status_count/301': 1,\n",
      " 'elapsed_time_seconds': 1.398794,\n",
      " 'finish_reason': 'finished',\n",
      " 'finish_time': datetime.datetime(2020, 3, 16, 9, 40, 16, 218144),\n",
      " 'item_scraped_count': 31,\n",
      " 'log_count/DEBUG': 33,\n",
      " 'log_count/INFO': 10,\n",
      " 'memusage/max': 66486272,\n",
      " 'memusage/startup': 66486272,\n",
      " 'response_received_count': 1,\n",
      " 'scheduler/dequeued': 2,\n",
      " 'scheduler/dequeued/memory': 2,\n",
      " 'scheduler/enqueued': 2,\n",
      " 'scheduler/enqueued/memory': 2,\n",
      " 'start_time': datetime.datetime(2020, 3, 16, 9, 40, 14, 819350)}\n"
     ]
    },
    {
     "name": "stderr",
     "output_type": "stream",
     "text": [
      "2020-03-16 10:40:16 [scrapy.core.engine] INFO: Spider closed (finished)\n"
     ]
    }
   ],
   "source": [
    "if __name__ == \"__main__\":\n",
    "\n",
    "    # Creamos un crawler.\n",
    "    process = CrawlerProcess({\n",
    "        'USER_AGENT': 'Mozilla/4.0 (compatible; MSIE 7.0; Windows NT 5.1)',\n",
    "        'DOWNLOAD_HANDLERS': {'s3': None},\n",
    "        'LOG_ENABLED': True\n",
    "    })\n",
    "\n",
    "    # Inicializamos el crawler con nuestra araña.\n",
    "    process.crawl(uoc_spider)\n",
    "    \n",
    "    # Lanzamos la araña.\n",
    "    process.start()"
   ]
  },
  {
   "cell_type": "markdown",
   "metadata": {},
   "source": [
    "La ejecución de Scrapy muestra un log detallado con todos los eventos que han ido ocurriendo, lo que es muy útil para identificar problemas, sobre todo en capturas complejas. En nuestro caso, además, podemos ver como se han extraído los nombres de las titulaciones de grado:"
   ]
  },
  {
   "cell_type": "raw",
   "metadata": {},
   "source": [
    "DEBUG:scrapy.core.scraper:Scraped from <200 http://estudios.uoc.edu/es/grados>\n",
    "{'title': u'Antropolog\\xeda y Evoluci\\xf3n Humana (interuniversitario: URV, UOC)'}\n",
    "DEBUG:scrapy.core.scraper:Scraped from <200 http://estudios.uoc.edu/es/grados>\n",
    "{'title': u'Ciencias Sociales'}\n",
    "DEBUG:scrapy.core.scraper:Scraped from <200 http://estudios.uoc.edu/es/grados>\n",
    "{'title': u'Historia, Geograf\\xeda e Historia del Arte (interuniversitario: UOC, UdL)'}\n",
    "DEBUG:scrapy.core.scraper:Scraped from <200 http://estudios.uoc.edu/es/grados>\n",
    "{'title': u'Humanidades'}\n",
    "DEBUG:scrapy.core.scraper:Scraped from <200 http://estudios.uoc.edu/es/grados>\n",
    "{'title': u'Lengua y Literatura Catalanas'}\n",
    "DEBUG:scrapy.core.scraper:Scraped from <200 http://estudios.uoc.edu/es/grados>\n",
    "{'title': u'Traducci\\xf3n, Interpretaci\\xf3n y Lenguas Aplicadas (interuniversitario: UVic-UCC, UOC)'}"
   ]
  },
  {
   "cell_type": "markdown",
   "metadata": {},
   "source": [
    "# 5. Ejercicios y preguntas teóricas\n",
    "\n",
    "La parte evaluable de esta unidad consiste en la entrega de un fichero Notebook con extensión «.ipynb» que contendrá los diferentes ejercicios y las preguntas teóricas que hay que contestar. Encontraréis el archivo (`prog_datasci_5_api_entrega.ipynb`) con las actividades en la misma carpeta que este notebook que estáis leyendo.\n",
    "\n",
    "## 5.1. Instrucciones importantes\n",
    "\n",
    "Es muy importante que a la hora de entregar el archivo Notebook con vuestras actividades os aseguréis de que:\n",
    "\n",
    "1. Vuestras soluciones sean originales. Esperamos no detectar copia directa entre estudiantes.\n",
    "2. Todo el código esté correctamente documentado. El código sin documentar equivaldrá a un 0.\n",
    "3. El archivo comprimido que entreguéis es correcto (contiene las actividades de la PEC que queréis entregar).\n",
    "\n",
    "Para hacer la entrega, comprimid el archivo `prog_datasci_5_api_entrega.ipynb` desde la terminal de la máquina virtual (utilizad vuestro nombre y apellido) y subid el archivo `nombre_apellido_pec5.tgz` al campus virtual:\n",
    "\n",
    "```\n",
    "$ cd /home/datasci/prog_datasci_1/prog_datasci_5\n",
    "$ tar zcvf nombre_apellido_pec5.tgz prog_datasci_5_api_entrega.ipynb\n",
    "```\n",
    "\n",
    "## 5.2 Solución\n",
    "\n",
    "Para descargar la solución de la actividad (a partir de la fecha indicada en el aula), desde la máquina virtual, abrid una terminal y ejecutad el script `get_sol_pec.sh`:\n",
    "\n",
    "```\n",
    "datasci@datasci:~$ get_sol_pec.sh \n",
    "Please type the number of the activity you want to download: 5\n",
    "Please select the language you want to use: type 0 for Catalan, 1 for Spanish 1\n",
    "Downloading PEC 5 in SPANISH\n",
    "Cloning into 'prog_datasci_sol_5'...\n",
    "remote: Enumerating objects: 26, done.\n",
    "remote: Counting objects: 100% (26/26), done.\n",
    "remote: Compressing objects: 100% (26/26), done.\n",
    "remote: Total 26 (delta 9), reused 0 (delta 0)\n",
    "Unpacking objects: 100% (26/26), done.\n",
    "OK! Files downloaded in /home/datasci/prog_datasci_1/prog_datasci_sol_5\n",
    "```\n",
    "\n",
    "Una vez descargada la solución, podéis ejecutar el servidor como ya explicamos (mediante el script `start_uoc.sh`) y acceder a su contenido."
   ]
  },
  {
   "cell_type": "markdown",
   "metadata": {},
   "source": [
    "# 6. Bibliografía\n",
    "\n",
    "Para obtener más información sobre los formatos de datos presentados en esta unidad, podéis consultar el W3Schools ([JSON](https://www.w3schools.com/js/js_json_intro.asp), [XML](https://www.w3schools.com/xml/) y [HTML](https://www.w3schools.com/html/))."
   ]
  },
  {
   "cell_type": "markdown",
   "metadata": {},
   "source": [
    "# 7. Anexo: La API de googlemaps\n",
    "\n",
    "Este anexo contiene un ejemplo adicional de acceso a API con librerías de Python. En concreto, el ejemplo muestra como acceder a la API de googlemaps. En el pasado, el uso de esta API era gratuito, pero actualmente el uso de la API tiene múltiples restricciones y, aunque se pueden realizar algunas peticiones gratuitamente, es necesario proporcionar datos de nuestra targeta de crédito para poder interactuar con la API. Podéis revisar el código de este ejemplo para tener una muestra más del uso de librerías para acceder a APIs, o bien crear una cuenta en la plataforma de google developers y probar los ejemplos proporcionados. En este último caso, recordad revisar la política de cobro de googlemaps, para asegurar que no sobrepasáis el límite gratuito, antes de realizar las pruebas.\n",
    "\n",
    "Google maps dispone de un [conjunto de API](https://developers.google.com/maps/) muy populares que permiten, entre otros, obtener las coordenadas geográficas de una dirección, conseguir indicaciones para desplazarse de un punto a otro, o adquirir datos sobre la elevación del terreno en cualquier punto del mundo. La librería [googlemaps](https://googlemaps.github.io/google-maps-services-python/docs/) integra peticiones a la API de Google en código Python.\n",
    "\n",
    "Para usar las APIs de Google Maps, es necesario registrar un usuario y obtener una clave de autenticación, que adjuntaremos a las peticiones que se realicen contra la API. Además, tendremos que especificar qué APIs concretas vamos a usar. \n",
    "\n",
    "Para el siguiente ejemplo, realizaremos estos tres pasos para obtener la clave de autenticación:\n",
    "\n",
    "1. Crearemos un proyecto en la plataforma de Google Developers.\n",
    "2. Activaremos las APIs deseadas.\n",
    "3. Solicitaremos credenciales de acceso.\n",
    "\n",
    "En primer lugar crearemos un nuevo proyecto en el entorno de desarrolladores de google. Nos dirigiremos a:\n",
    "https://console.developers.google.com/apis/library\n",
    "y haremos clic sobre «Project: New project». Asignaremos un nombre cualquiera al proyecto y confirmaremos la creación pulsando «Create».\n",
    "\n",
    "Una vez creado el proyecto, activaremos las APIs que usaremos después. Primero, seleccionaremos la API de geocodificación ([_Google Maps Geocoding API_](https://console.developers.google.com/apis/api/geocoding_backend)), que se encuentra en la categoría _Google Maps APIs_ (es posible que tengáis que pulsar sobre el botón _more_ para ver la lista completa de APIs). Haremos click sobre _Enable_ para activarla.\n",
    "\n",
    "Repetiremos el proceso para la API de direcciones ([_Google Maps Directions API_](https://console.developers.google.com/apis/api/directions_backend)), que se encuentra también en la categoría _Google Maps APIs_.\n",
    "\n",
    "Finalmente, clickaremos sobre el menú «Credentials», indicaremos «Create credentials» y escogeremos «API Key». Nos aparecerá una ventana con una cadena de caracteres que representa nuestra clave. Para que el siguiente ejemplo funcione, **es necesario que asignéis a la variable api_key el valor de vuestra clave**."
   ]
  },
  {
   "cell_type": "code",
   "execution_count": 9,
   "metadata": {},
   "outputs": [],
   "source": [
    "# Importamos la librería googlemaps, que interactuará con la API de google maps.\n",
    "import googlemaps\n",
    "\n",
    "# Importamos la librería datetime, que nos ofrece funciones de manejos de fechas.\n",
    "from datetime import datetime\n",
    "\n",
    "####################################################################################\n",
    "# ATENCIÓN! Asignad a la variable 'api_key' la clave que hayáis obtenido de Google.\n",
    "api_key = \"\"\n",
    "####################################################################################\n",
    "\n",
    "# Inicializamos el cliente, indicando la clave de autenticación.\n",
    "gmaps = googlemaps.Client(key=api_key)\n"
   ]
  },
  {
   "cell_type": "markdown",
   "metadata": {},
   "source": [
    "En primer lugar, utilizaremos la [API de geocodificación](https://developers.google.com/maps/documentation/geocoding/start) para obtener datos de una dirección a través del método [geocode](https://googlemaps.github.io/google-maps-services-python/docs/2.4.6/#googlemaps.Client.geocode) del cliente de google maps que nos ofrece la librería (almacenado en la variable `gmaps`)."
   ]
  },
  {
   "cell_type": "code",
   "execution_count": 10,
   "metadata": {},
   "outputs": [
    {
     "name": "stdout",
     "output_type": "stream",
     "text": [
      "------ Resultado de geocode ------\n",
      "[\n",
      "   {\n",
      "      \"address_components\": [\n",
      "         {\n",
      "            \"long_name\": \"156\",\n",
      "            \"short_name\": \"156\",\n",
      "            \"types\": [\n",
      "               \"street_number\"\n",
      "            ]\n",
      "         },\n",
      "         {\n",
      "            \"long_name\": \"Rambla del Poblenou\",\n",
      "            \"short_name\": \"Rambla del Poblenou\",\n",
      "            \"types\": [\n",
      "               \"route\"\n",
      "            ]\n",
      "         },\n",
      "         {\n",
      "            \"long_name\": \"Barcelona\",\n",
      "            \"short_name\": \"Barcelona\",\n",
      "[...]\n"
     ]
    }
   ],
   "source": [
    "# Utilizamos la API de geocodificación para obtener datos de una dirección.\n",
    "geocode_result = gmaps.geocode('Rambla del Poblenou, 156, Barcelona')\n",
    "print(\"------ Resultado de geocode ------\")\n",
    "json_print(geocode_result, 20)"
   ]
  },
  {
   "cell_type": "markdown",
   "metadata": {},
   "source": [
    "Otro ejemplo del uso de la [API de geocodificación](https://developers.google.com/maps/documentation/geocoding/start) utiliza el método [reverse_geocode](https://googlemaps.github.io/google-maps-services-python/docs/2.4.6/#googlemaps.Client.reverse_geocode) para obtener información sobre unas coordenadas geográficas concretas:"
   ]
  },
  {
   "cell_type": "code",
   "execution_count": 18,
   "metadata": {},
   "outputs": [
    {
     "name": "stdout",
     "output_type": "stream",
     "text": [
      "------ Resultado de reverse geocode ------\n",
      "[\n",
      "   {\n",
      "      \"address_components\": [\n",
      "         {\n",
      "            \"long_name\": \"17\",\n",
      "            \"short_name\": \"17\",\n",
      "            \"types\": [\n",
      "               \"street_number\"\n",
      "            ]\n",
      "         },\n",
      "         {\n",
      "            \"long_name\": \"Avinguda del Canal Ol\\u00edmpic\",\n",
      "            \"short_name\": \"Av. del Canal Ol\\u00edmpic\",\n",
      "            \"types\": [\n",
      "               \"route\"\n",
      "            ]\n",
      "         },\n",
      "         {\n",
      "            \"long_name\": \"Castelldefels\",\n",
      "            \"short_name\": \"Castelldefels\",\n",
      "[...]\n"
     ]
    }
   ],
   "source": [
    "# Obtenemos datos sobre unas coordenadas geográficas.\n",
    "reverse_geocode_result = gmaps.reverse_geocode((41.2768089, 1.9884642))\n",
    "print(\"------ Resultado de reverse geocode ------\")\n",
    "json_print(reverse_geocode_result, 20)"
   ]
  },
  {
   "cell_type": "markdown",
   "metadata": {},
   "source": [
    "El siguiente ejemplo interactúa con la [API de direcciones](https://developers.google.com/maps/documentation/directions/), usando el método [_directions_](https://googlemaps.github.io/google-maps-services-python/docs/2.4.6/#googlemaps.Client.directions) de la librería googlemaps de Python, para obtener indicaciones de desplazamiento entre dos puntos."
   ]
  },
  {
   "cell_type": "code",
   "execution_count": null,
   "metadata": {},
   "outputs": [
    {
     "name": "stdout",
     "output_type": "stream",
     "text": [
      "------ Resultado de directions ------\n",
      "[\n",
      "   {\n",
      "      \"bounds\": {\n",
      "         \"northeast\": {\n",
      "            \"lat\": 41.98102,\n",
      "            \"lng\": 2.817006\n",
      "         },\n",
      "         \"southwest\": {\n",
      "            \"lat\": 41.481153,\n",
      "            \"lng\": 2.014348\n",
      "         }\n",
      "      },\n",
      "      \"copyrights\": \"Map data \\u00a92017 Google, Inst. Geogr. Nacional\",\n",
      "      \"legs\": [\n",
      "         {\n",
      "[...]\n"
     ]
    }
   ],
   "source": [
    "# Obtenemos indicaciones sobre cómo ir de una dirección a otra, considerando el tráfico del momento actual.\n",
    "now = datetime.now()\n",
    "directions_result = gmaps.directions(\"Carrer Colom, 114, Terrassa\",\n",
    "                                     \"Carrer Sant Antoni, 1, Salt\",\n",
    "                                     mode=\"transit\",\n",
    "                                     departure_time=now)\n",
    "print(\"------ Resultado de directions ------\")\n",
    "json_print(directions_result, 15)"
   ]
  },
  {
   "cell_type": "code",
   "execution_count": null,
   "metadata": {},
   "outputs": [
    {
     "data": {
      "text/plain": [
       "[u'geometry',\n",
       " u'address_components',\n",
       " u'place_id',\n",
       " u'formatted_address',\n",
       " u'types']"
      ]
     },
     "execution_count": 17,
     "metadata": {},
     "output_type": "execute_result"
    }
   ],
   "source": [
    "# Mostramos las claves del diccionario que devuelve la llamada a geocode.\n",
    "geocode_result[0].keys()"
   ]
  },
  {
   "cell_type": "code",
   "execution_count": null,
   "metadata": {},
   "outputs": [
    {
     "data": {
      "text/plain": [
       "{u'lat': 41.4063554, u'lng': 2.1947451}"
      ]
     },
     "execution_count": 18,
     "metadata": {},
     "output_type": "execute_result"
    }
   ],
   "source": [
    "# Mostramos únicamente las coordenadas geográficas de la dirección de interés.\n",
    "geocode_result[0][\"geometry\"][\"location\"]"
   ]
  },
  {
   "cell_type": "code",
   "execution_count": null,
   "metadata": {},
   "outputs": [
    {
     "name": "stdout",
     "output_type": "stream",
     "text": [
      "{u'lat': 41.2772149, u'lng': 1.9892062} Av. del Canal Olímpic, 17, 08860 Castelldefels, Barcelona, Spain\n",
      "{u'lat': 41.2800161, u'lng': 1.9766294} Castelldefels, Barcelona, Spain\n",
      "{u'lat': 41.2790599, u'lng': 1.9734743} Castelldefels, Barcelona, Spain\n",
      "{u'lat': 41.2792267, u'lng': 1.9636914} 08860 Sitges, Barcelona, Spain\n",
      "{u'lat': 41.3847492, u'lng': 1.949021} El Baix Llobregat, Barcelona, Spain\n",
      "{u'lat': 41.383401, u'lng': 2.027319} Barcelona Metropolitan Area, Barcelona, Spain\n",
      "{u'lat': 41.3850477, u'lng': 2.1733131} Barcelona, Spain\n",
      "{u'lat': 41.5911589, u'lng': 1.5208624} Catalonia, Spain\n",
      "{u'lat': 40.46366700000001, u'lng': -3.74922} Spain\n"
     ]
    }
   ],
   "source": [
    "# Mostramos las localizaciones cercanas a las coordenadas geográficas que hemos preguntado con reverse_geocode, \n",
    "# imprimiendo las coordenadas exactas y la dirección.\n",
    "for result in reverse_geocode_result:\n",
    "    print(result[\"geometry\"][\"location\"], result[\"formatted_address\"])"
   ]
  },
  {
   "cell_type": "code",
   "execution_count": null,
   "metadata": {},
   "outputs": [
    {
     "name": "stdout",
     "output_type": "stream",
     "text": [
      "{u'text': u'112 km', u'value': 112026}\n"
     ]
    }
   ],
   "source": [
    "# Mostramos únicamente la distancia del trayecto entre los dos puntos preguntados a la API de direcciones.\n",
    "print(directions_result[0][\"legs\"][0][\"distance\"])"
   ]
  }
 ],
 "metadata": {
  "kernelspec": {
   "display_name": "Python 3 (ipykernel)",
   "language": "python",
   "name": "python3"
  },
  "language_info": {
   "codemirror_mode": {
    "name": "ipython",
    "version": 3
   },
   "file_extension": ".py",
   "mimetype": "text/x-python",
   "name": "python",
   "nbconvert_exporter": "python",
   "pygments_lexer": "ipython3",
   "version": "3.8.12"
  }
 },
 "nbformat": 4,
 "nbformat_minor": 1
}
